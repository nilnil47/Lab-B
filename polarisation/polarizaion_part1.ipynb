{
 "cells": [
  {
   "cell_type": "code",
   "execution_count": 2,
   "metadata": {},
   "outputs": [],
   "source": [
    "import pandas as pd\n",
    "import numpy as np\n",
    "import hvplot.pandas  # noqa\n",
    "import matplotlib.pyplot as plt\n",
    "import logging\n",
    "import copy\n",
    "from scipy.optimize import curve_fit\n",
    "from sklearn.metrics import r2_score\n",
    "\n",
    "import plotly.graph_objects as go\n",
    "from plotly.subplots import make_subplots\n",
    "import plotly.express as px\n",
    "\n",
    "# import lab_tools\n",
    "import pickle\n",
    "logging.basicConfig(level=logging.INFO)\n",
    "import math\n",
    "from scipy.constants import mu_0 as mu_0\n",
    "from uncertainties import ufloat\n",
    "import uncertainties\n",
    "from uncertainties import unumpy\n",
    "from matplotlib import pyplot\n",
    "import os\n",
    "\n",
    "def uplot(x_ufloats, y_ufloats, ax=plt, **kwargs):\n",
    "    getattr(ax, 'errorbar')\n",
    "    plt.errorbar( unumpy.nominal_values(x_ufloats), unumpy.nominal_values(y_ufloats),\n",
    "      xerr=unumpy.std_devs(x_ufloats), yerr= unumpy.std_devs(y_ufloats), fmt='.',ecolor='green',barsabove=True, **kwargs )\n",
    "\n",
    "\n",
    "def load_pickle(name):\n",
    "    with open(os.path.join('pickles',f'{name}.pickle'), 'rb') as handle:\n",
    "        return pickle.load(handle)\n",
    "\n",
    "def save_pickle(name, pick):\n",
    "    with open(os.path.join('pickles',f'{name}.pickle'), 'wb') as handle:\n",
    "        return pickle.dump(pick,handle)\n",
    "    \n"
   ]
  },
  {
   "cell_type": "code",
   "execution_count": null,
   "metadata": {},
   "outputs": [],
   "source": []
  }
 ],
 "metadata": {
  "kernelspec": {
   "display_name": "Python 3.10.8 64-bit",
   "language": "python",
   "name": "python3"
  },
  "language_info": {
   "codemirror_mode": {
    "name": "ipython",
    "version": 3
   },
   "file_extension": ".py",
   "mimetype": "text/x-python",
   "name": "python",
   "nbconvert_exporter": "python",
   "pygments_lexer": "ipython3",
   "version": "3.10.8"
  },
  "orig_nbformat": 4,
  "vscode": {
   "interpreter": {
    "hash": "949777d72b0d2535278d3dc13498b2535136f6dfe0678499012e853ee9abcab1"
   }
  }
 },
 "nbformat": 4,
 "nbformat_minor": 2
}
