{
 "cells": [
  {
   "cell_type": "code",
   "execution_count": 90,
   "metadata": {
    "collapsed": true
   },
   "outputs": [],
   "source": [
    "import pandas as pd\n",
    "import numpy as np\n",
    "import hvplot.pandas  # noqa\n",
    "import matplotlib.pyplot as plt\n",
    "import logging\n",
    "import copy\n",
    "from scipy.optimize import curve_fit\n",
    "from sklearn.metrics import r2_score\n",
    "\n",
    "import lab_tools\n",
    "import pickle\n",
    "logging.basicConfig(level=logging.INFO)\n",
    "import math\n",
    "from scipy.constants import mu_0 as mu_0\n",
    "from uncertainties import ufloat\n",
    "import uncertainties\n",
    "from uncertainties import unumpy\n",
    "from matplotlib import pyplot\n",
    "import os"
   ]
  },
  {
   "cell_type": "code",
   "execution_count": 91,
   "metadata": {
    "collapsed": false
   },
   "outputs": [],
   "source": [
    "def uplot(x_ufloats, y_ufloats):\n",
    "    plt.errorbar( unumpy.nominal_values(x_ufloats), unumpy.nominal_values(y_ufloats),\n",
    "      xerr=unumpy.std_devs(x_ufloats), yerr= unumpy.std_devs(y_ufloats), fmt='.',ecolor='green',barsabove=True)"
   ]
  },
  {
   "cell_type": "code",
   "execution_count": 92,
   "metadata": {
    "collapsed": false
   },
   "outputs": [
    {
     "ename": "KeyboardInterrupt",
     "evalue": "",
     "output_type": "error",
     "traceback": [
      "\u001b[0;31m---------------------------------------------------------------------------\u001b[0m",
      "\u001b[0;31mKeyboardInterrupt\u001b[0m                         Traceback (most recent call last)",
      "Cell \u001b[0;32mIn [92], line 24\u001b[0m\n\u001b[1;32m     22\u001b[0m mod_data[key] \u001b[39m=\u001b[39m name[key]\n\u001b[1;32m     23\u001b[0m \u001b[39mfor\u001b[39;00m index \u001b[39min\u001b[39;00m \u001b[39mrange\u001b[39m(\u001b[39mlen\u001b[39m(mod_data[key][\u001b[39m'\u001b[39m\u001b[39mx\u001b[39m\u001b[39m'\u001b[39m])):\n\u001b[0;32m---> 24\u001b[0m    mod_data[key][\u001b[39m'\u001b[39;49m\u001b[39mx\u001b[39;49m\u001b[39m'\u001b[39;49m][index] \u001b[39m=\u001b[39m mod_data[key][\u001b[39m'\u001b[39m\u001b[39mx\u001b[39m\u001b[39m'\u001b[39m][index]\u001b[39m/\u001b[39m\u001b[39m10\u001b[39m\n\u001b[1;32m     25\u001b[0m \u001b[39mfor\u001b[39;00m index \u001b[39min\u001b[39;00m \u001b[39mrange\u001b[39m(\u001b[39mlen\u001b[39m(mod_data[key][\u001b[39m'\u001b[39m\u001b[39my\u001b[39m\u001b[39m'\u001b[39m])):\n\u001b[1;32m     26\u001b[0m     mod_data[key][\u001b[39m'\u001b[39m\u001b[39my\u001b[39m\u001b[39m'\u001b[39m][index] \u001b[39m=\u001b[39m mod_data[key][\u001b[39m'\u001b[39m\u001b[39my\u001b[39m\u001b[39m'\u001b[39m][index]\u001b[39m/\u001b[39m\u001b[39m10\u001b[39m\n",
      "File \u001b[0;32m/opt/homebrew/lib/python3.10/site-packages/pandas/core/series.py:1105\u001b[0m, in \u001b[0;36mSeries.__setitem__\u001b[0;34m(self, key, value)\u001b[0m\n\u001b[1;32m   1102\u001b[0m     \u001b[39mreturn\u001b[39;00m \u001b[39mself\u001b[39m\u001b[39m.\u001b[39m_set_values(indexer, value)\n\u001b[1;32m   1104\u001b[0m \u001b[39mtry\u001b[39;00m:\n\u001b[0;32m-> 1105\u001b[0m     \u001b[39mself\u001b[39;49m\u001b[39m.\u001b[39;49m_set_with_engine(key, value)\n\u001b[1;32m   1106\u001b[0m \u001b[39mexcept\u001b[39;00m \u001b[39mKeyError\u001b[39;00m:\n\u001b[1;32m   1107\u001b[0m     \u001b[39m# We have a scalar (or for MultiIndex or object-dtype, scalar-like)\u001b[39;00m\n\u001b[1;32m   1108\u001b[0m     \u001b[39m#  key that is not present in self.index.\u001b[39;00m\n\u001b[1;32m   1109\u001b[0m     \u001b[39mif\u001b[39;00m is_integer(key) \u001b[39mand\u001b[39;00m \u001b[39mself\u001b[39m\u001b[39m.\u001b[39mindex\u001b[39m.\u001b[39minferred_type \u001b[39m!=\u001b[39m \u001b[39m\"\u001b[39m\u001b[39minteger\u001b[39m\u001b[39m\"\u001b[39m:\n\u001b[1;32m   1110\u001b[0m         \u001b[39m# positional setter\u001b[39;00m\n",
      "File \u001b[0;32m/opt/homebrew/lib/python3.10/site-packages/pandas/core/series.py:1178\u001b[0m, in \u001b[0;36mSeries._set_with_engine\u001b[0;34m(self, key, value)\u001b[0m\n\u001b[1;32m   1175\u001b[0m loc \u001b[39m=\u001b[39m \u001b[39mself\u001b[39m\u001b[39m.\u001b[39mindex\u001b[39m.\u001b[39mget_loc(key)\n\u001b[1;32m   1177\u001b[0m \u001b[39m# this is equivalent to self._values[key] = value\u001b[39;00m\n\u001b[0;32m-> 1178\u001b[0m \u001b[39mself\u001b[39;49m\u001b[39m.\u001b[39;49m_mgr\u001b[39m.\u001b[39;49msetitem_inplace(loc, value)\n",
      "File \u001b[0;32m/opt/homebrew/lib/python3.10/site-packages/pandas/core/internals/managers.py:2099\u001b[0m, in \u001b[0;36mSingleBlockManager.setitem_inplace\u001b[0;34m(self, indexer, value)\u001b[0m\n\u001b[1;32m   2096\u001b[0m     \u001b[39mself\u001b[39m\u001b[39m.\u001b[39mparent \u001b[39m=\u001b[39m \u001b[39mNone\u001b[39;00m\n\u001b[1;32m   2097\u001b[0m     \u001b[39mself\u001b[39m\u001b[39m.\u001b[39m_cache\u001b[39m.\u001b[39mclear()\n\u001b[0;32m-> 2099\u001b[0m \u001b[39msuper\u001b[39;49m()\u001b[39m.\u001b[39;49msetitem_inplace(indexer, value)\n",
      "File \u001b[0;32m/opt/homebrew/lib/python3.10/site-packages/pandas/core/internals/base.py:188\u001b[0m, in \u001b[0;36mSingleDataManager.setitem_inplace\u001b[0;34m(self, indexer, value)\u001b[0m\n\u001b[1;32m    184\u001b[0m \u001b[39m# EAs will do this validation in their own __setitem__ methods.\u001b[39;00m\n\u001b[1;32m    185\u001b[0m \u001b[39mif\u001b[39;00m \u001b[39misinstance\u001b[39m(arr, np\u001b[39m.\u001b[39mndarray):\n\u001b[1;32m    186\u001b[0m     \u001b[39m# Note: checking for ndarray instead of np.dtype means we exclude\u001b[39;00m\n\u001b[1;32m    187\u001b[0m     \u001b[39m#  dt64/td64, which do their own validation.\u001b[39;00m\n\u001b[0;32m--> 188\u001b[0m     value \u001b[39m=\u001b[39m np_can_hold_element(arr\u001b[39m.\u001b[39;49mdtype, value)\n\u001b[1;32m    190\u001b[0m arr[indexer] \u001b[39m=\u001b[39m value\n",
      "File \u001b[0;32m/opt/homebrew/lib/python3.10/site-packages/pandas/core/dtypes/cast.py:1951\u001b[0m, in \u001b[0;36mnp_can_hold_element\u001b[0;34m(dtype, element)\u001b[0m\n\u001b[1;32m   1948\u001b[0m \u001b[39mif\u001b[39;00m dtype \u001b[39m==\u001b[39m _dtype_obj:\n\u001b[1;32m   1949\u001b[0m     \u001b[39mreturn\u001b[39;00m element\n\u001b[0;32m-> 1951\u001b[0m tipo \u001b[39m=\u001b[39m _maybe_infer_dtype_type(element)\n\u001b[1;32m   1953\u001b[0m \u001b[39mif\u001b[39;00m dtype\u001b[39m.\u001b[39mkind \u001b[39min\u001b[39;00m [\u001b[39m\"\u001b[39m\u001b[39mi\u001b[39m\u001b[39m\"\u001b[39m, \u001b[39m\"\u001b[39m\u001b[39mu\u001b[39m\u001b[39m\"\u001b[39m]:\n\u001b[1;32m   1954\u001b[0m     \u001b[39mif\u001b[39;00m \u001b[39misinstance\u001b[39m(element, \u001b[39mrange\u001b[39m):\n",
      "File \u001b[0;32m/opt/homebrew/lib/python3.10/site-packages/pandas/core/dtypes/cast.py:919\u001b[0m, in \u001b[0;36m_maybe_infer_dtype_type\u001b[0;34m(element)\u001b[0m\n\u001b[1;32m    915\u001b[0m     arr \u001b[39m=\u001b[39m np\u001b[39m.\u001b[39masarray(arr)\n\u001b[1;32m    916\u001b[0m     \u001b[39mreturn\u001b[39;00m arr\u001b[39m.\u001b[39mdtype, arr\n\u001b[0;32m--> 919\u001b[0m \u001b[39mdef\u001b[39;00m \u001b[39m_maybe_infer_dtype_type\u001b[39m(element):\n\u001b[1;32m    920\u001b[0m     \u001b[39m\"\"\"\u001b[39;00m\n\u001b[1;32m    921\u001b[0m \u001b[39m    Try to infer an object's dtype, for use in arithmetic ops.\u001b[39;00m\n\u001b[1;32m    922\u001b[0m \n\u001b[0;32m   (...)\u001b[0m\n\u001b[1;32m    942\u001b[0m \u001b[39m    dtype('int64')\u001b[39;00m\n\u001b[1;32m    943\u001b[0m \u001b[39m    \"\"\"\u001b[39;00m\n\u001b[1;32m    944\u001b[0m     tipo \u001b[39m=\u001b[39m \u001b[39mNone\u001b[39;00m\n",
      "\u001b[0;31mKeyboardInterrupt\u001b[0m: "
     ]
    }
   ],
   "source": [
    "path = r'/Users/user/Documents/semster_c/courses/lab/magnetisem/extension2/first'\n",
    "path2 = r'/Users/user/Documents/semster_c/courses/lab/magnetisem/extension2/second'\n",
    "path3 = r'/Users/user/Documents/semster_c/courses/lab/magnetisem/extension2/3'\n",
    "path4 = r'/Users/user/Documents/semster_c/courses/lab/magnetisem/extension2/high_freq'\n",
    "path5 = r'/Users/user/Documents/semster_c/courses/lab/magnetisem/extension2/all'\n",
    "path6 = r'/Users/user/Documents/semster_c/courses/lab/magnetisem/extension2/high_freq_week2'\n",
    "\n",
    "# d = lab_tools.read_to_dict(path)\n",
    "d1 = lab_tools.read_to_dict(path)\n",
    "d2 = lab_tools.read_to_dict(path2)\n",
    "d3 = lab_tools.read_to_dict(path3)\n",
    "d4 = lab_tools.read_to_dict(path4)\n",
    "d6 = lab_tools.read_to_dict(path6)\n",
    "\n",
    "\n",
    "dict_names1 = [d1,d2,d3]\n",
    "dict_names2 = [d4]\n",
    "mod_data = {}\n",
    "\n",
    "for name in dict_names1:\n",
    "    for key in name.keys():\n",
    "        mod_data[key] = name[key]\n",
    "        for index in range(len(mod_data[key]['x'])):\n",
    "           mod_data[key]['x'][index] = mod_data[key]['x'][index]/10\n",
    "        for index in range(len(mod_data[key]['y'])):\n",
    "            mod_data[key]['y'][index] = mod_data[key]['y'][index]/10\n",
    "\n",
    "for name in dict_names2:\n",
    "    for key in name.keys():\n",
    "        mod_data[key] = name[key]\n"
   ]
  },
  {
   "cell_type": "code",
   "execution_count": 4,
   "metadata": {
    "collapsed": false
   },
   "outputs": [],
   "source": [
    "impedance = []\n",
    "imp_freq = []\n",
    "R = ufloat(19.2,0.15)\n",
    "\n",
    "for x in mod_data.keys():\n",
    "    amp1 = abs((max(mod_data[x]['y'])-min(mod_data[x]['y'])))\n",
    "    amp2 = abs((max(mod_data[x]['x'])-min(mod_data[x]['x'])))\n",
    "    imp_freq.append(int(x))\n",
    "    impedance.append(R*(amp1/amp2))\n",
    "\n",
    "# for x in d6.keys():\n",
    "#     amp1 = abs((max(d6[x]['y'])-min(d6[x]['y'])))\n",
    "#     amp2 = abs((max(d6[x]['x'])-min(d6[x]['x'])))\n",
    "#     imp_freq.append(int(x))\n",
    "#     impedance.append(R*(amp1/amp2))"
   ]
  },
  {
   "cell_type": "code",
   "execution_count": null,
   "metadata": {
    "collapsed": false
   },
   "outputs": [
    {
     "name": "stdout",
     "output_type": "stream",
     "text": [
      "Warning: frequencies are not the same for frequenciy 220.0\n"
     ]
    },
    {
     "name": "stderr",
     "output_type": "stream",
     "text": [
      "WARNING:root:fit failed for frequency 1130.9733552923256\n"
     ]
    },
    {
     "name": "stdout",
     "output_type": "stream",
     "text": [
      "fit failed for frequency 180.0\n"
     ]
    },
    {
     "name": "stderr",
     "output_type": "stream",
     "text": [
      "WARNING:root:fit failed for frequency 816.8140899333462\n"
     ]
    },
    {
     "name": "stdout",
     "output_type": "stream",
     "text": [
      "fit failed for frequency 130.0\n",
      "Warning: frequencies are not the same for frequenciy 300.0\n"
     ]
    },
    {
     "name": "stderr",
     "output_type": "stream",
     "text": [
      "WARNING:root:fit failed for frequency 628.3185307179587\n"
     ]
    },
    {
     "name": "stdout",
     "output_type": "stream",
     "text": [
      "fit failed for frequency 100.0\n",
      "Warning: frequencies are not the same for frequenciy 370.0\n"
     ]
    },
    {
     "name": "stderr",
     "output_type": "stream",
     "text": [
      "WARNING:root:R^2 is 0.005980544592146808: for frequency11539698.135166029\n",
      "WARNING:root:R^2 is 0.0028855758359893624: for frequency11539698.135166029\n"
     ]
    },
    {
     "name": "stdout",
     "output_type": "stream",
     "text": [
      "fit failed for frequency 1836600.0\n"
     ]
    },
    {
     "name": "stderr",
     "output_type": "stream",
     "text": [
      "WARNING:root:R^2 is 0.016402879202708: for frequency44086598.02635629\n",
      "WARNING:root:R^2 is 0.00810339009392802: for frequency44086598.02635629\n"
     ]
    },
    {
     "name": "stdout",
     "output_type": "stream",
     "text": [
      "fit failed for frequency 7016600.0\n"
     ]
    }
   ],
   "source": [
    "logging.basicConfig(level=logging.WARNING)\n",
    "\n",
    "phases = []\n",
    "frequencies = []\n",
    "amplitudes = []\n",
    "faild_fits = {}\n",
    "\n",
    "def find_phase(w,a1,w1,p1,c1,a2,w2,p2,c2):\n",
    "    f = 2 * np.pi / w\n",
    "    return f * np.abs(p1 - p2)\n",
    "\n",
    "def find_z(w,a1,w1,p1,c1,a2,w2,p2,c2):\n",
    "    return a2 / a1\n",
    "\n",
    "def find_w(w,a1,w1,p1,c1,a2,w2,p2,c2):\n",
    "    return w1\n",
    "\n",
    "\n",
    "funcs = {'phase': find_phase, 'z': find_z,'freq_in':find_w}\n",
    "limits = {'z': [0, 10000]}\n",
    "\n",
    "\n",
    "for freq, df in copy.deepcopy(mod_data).items():\n",
    "    float_freq = float(freq)\n",
    "    logging.info(f\"frequency is {freq}\")\n",
    "    result = lab_tools.extract_data_from_fit(funcs, df, float_freq, display=False)\n",
    "\n",
    "    if result:\n",
    "        frequencies.append(result['freq_in'])\n",
    "        phases.append(result['phase'])\n",
    "        amplitudes.append(result['z'])\n",
    "\n",
    "    else:\n",
    "        faild_fits[freq] = df\n",
    "        del mod_data[freq]\n"
   ]
  },
  {
   "cell_type": "code",
   "execution_count": 103,
   "metadata": {},
   "outputs": [],
   "source": [
    "freq2 = []\n",
    "for i in range(len(frequencies)):\n",
    "    freq2.append(ufloat(frequencies[i], frequencies[i] * 0.01))\n",
    "\n"
   ]
  },
  {
   "cell_type": "code",
   "execution_count": 110,
   "metadata": {
    "collapsed": false
   },
   "outputs": [],
   "source": [
    "L = ufloat(0.0125,0.00025)\n",
    "R = ufloat(19.2,0.1)\n",
    "r = ufloat(0.02,0.003)\n",
    "A = 2*math.pi*(r**2)\n",
    "l = 2*r\n",
    "N_square = (L*l)/(A*mu_0)\n",
    "\n",
    "R_effective = []\n",
    "L_effective = []\n",
    "L = ufloat(0.0125,0.0008)\n",
    "for index in range(len(amplitudes)):\n",
    "    R_effective.append(amplitudes[index]*math.cos(phases[index]) - R)\n",
    "    L_effective.append((amplitudes[index]*math.sin(phases[index]))/frequencies[index])\n",
    "\n",
    "Real_mu = []\n",
    "Im_mu = []\n",
    "\n",
    "for index in range(len(R_effective)):\n",
    "    Im_mu.append(l*R_effective[index]/(mu_0**2*frequencies[index]*N_square*A))\n",
    "    Real_mu.append(l*L_effective[index]/(mu_0**2*N_square*A))\n"
   ]
  },
  {
   "cell_type": "code",
   "execution_count": 108,
   "metadata": {},
   "outputs": [],
   "source": [
    "frequencies = np.array(copy.deepcopy(freq2))"
   ]
  },
  {
   "cell_type": "code",
   "execution_count": 96,
   "metadata": {
    "collapsed": false
   },
   "outputs": [],
   "source": [
    "permeability = []\n",
    "for index in range(len(Im_mu)):\n",
    "    permeability.append(((Im_mu[index]**2 + Real_mu[index]**2)**0.5)/mu_0)"
   ]
  },
  {
   "cell_type": "code",
   "execution_count": 93,
   "metadata": {},
   "outputs": [],
   "source": [
    "import pandas as pd\n",
    "import numpy as np\n",
    "import hvplot.pandas  # noqa\n",
    "import matplotlib.pyplot as plt\n",
    "import logging\n",
    "import copy\n",
    "from scipy.optimize import curve_fit\n",
    "from sklearn.metrics import r2_score\n",
    "\n",
    "import lab_tools\n",
    "import pickle\n",
    "logging.basicConfig(level=logging.INFO)\n",
    "import math\n",
    "from scipy.constants import mu_0 as mu_0\n",
    "from uncertainties import ufloat\n",
    "import uncertainties\n",
    "from uncertainties import unumpy\n",
    "from matplotlib import pyplot\n",
    "import os\n",
    "\n",
    "def uplot(x_ufloats, y_ufloats):\n",
    "    plt.errorbar( unumpy.nominal_values(x_ufloats), unumpy.nominal_values(y_ufloats),\n",
    "      xerr=unumpy.std_devs(x_ufloats), yerr= unumpy.std_devs(y_ufloats), fmt='.',ecolor='green',barsabove=True)\n",
    "\n",
    "def load_pickle(name):\n",
    "    with open(os.path.join('pickles',f'{name}.pickle'), 'rb') as handle:\n",
    "        return pickle.load(handle)\n",
    "\n",
    "def save_pickle(name, pick):\n",
    "    with open(os.path.join('pickles',f'{name}.pickle'), 'wb') as handle:\n",
    "        return pickle.dump(pick,handle)\n",
    "\n",
    "globals().update(load_pickle('freq_measurements'))"
   ]
  },
  {
   "cell_type": "code",
   "execution_count": 111,
   "metadata": {
    "collapsed": false
   },
   "outputs": [
    {
     "data": {
      "image/png": "[encoded data removed]",
      "text/plain": [
       "<Figure size 640x480 with 1 Axes>"
      ]
     },
     "metadata": {},
     "output_type": "display_data"
    },
    {
     "data": {
      "image/png": "[encoded data removed]",
      "text/plain": [
       "<Figure size 640x480 with 1 Axes>"
      ]
     },
     "metadata": {},
     "output_type": "display_data"
    },
    {
     "data": {
      "image/png": "[encoded data removed]",
      "text/plain": [
       "<Figure size 640x480 with 1 Axes>"
      ]
     },
     "metadata": {},
     "output_type": "display_data"
    }
   ],
   "source": [
    "\n",
    "fig1 = plt.figure()\n",
    "uplot(frequencies, Real_mu)\n",
    "pyplot.xlabel('$\\omega$'+' [1/s]')\n",
    "pyplot.ylabel('Real($\\mu_r$)')\n",
    "pyplot.title('Real part of $\\mu$')\n",
    "pyplot.xscale('log')\n",
    "plt.grid()\n",
    "plt.savefig('images/real.svg', format='svg')\n",
    "\n",
    "fig2 = plt.figure()\n",
    "uplot(frequencies, Im_mu)\n",
    "pyplot.xlabel('$\\omega$'+' [1/s]')\n",
    "pyplot.ylabel('Im($\\mu_r$)')\n",
    "pyplot.xscale('log')\n",
    "pyplot.title('Imaginary part of $\\mu$')\n",
    "plt.grid()\n",
    "plt.savefig('images/im.svg', format='svg')\n",
    "\n",
    "fig3 = plt.figure()\n",
    "pyplot.xlabel('$\\omega$'+' [1/s]')\n",
    "pyplot.ylabel('mod' + ' of ' + ' $\\mu_{r}$')\n",
    "uplot(frequencies, permeability)\n",
    "pyplot.xscale('log')\n",
    "plt.grid()\n",
    "plt.savefig('images/modulus.svg', format='svg')\n"
   ]
  },
  {
   "cell_type": "code",
   "execution_count": null,
   "metadata": {
    "collapsed": false
   },
   "outputs": [],
   "source": [
    "def load_pickle(name):\n",
    "    with open(os.path.join('pickles',f'{name}.pickle'), 'rb') as handle:\n",
    "        return pickle.load(handle)\n",
    "\n",
    "def save_pickle(name, pick):\n",
    "    with open(os.path.join('pickles',f'{name}.pickle'), 'wb') as handle:\n",
    "        return pickle.dump(pick,handle)"
   ]
  },
  {
   "cell_type": "code",
   "execution_count": 113,
   "metadata": {
    "collapsed": false
   },
   "outputs": [],
   "source": [
    "import os\n",
    "\n",
    "df = pd.DataFrame(\n",
    "    {'frequencies':np.array(unumpy.nominal_values(frequencies)),\n",
    "     'Real_mu':np.array(unumpy.nominal_values(Real_mu)),\n",
    "     'Im_mu':np.array(unumpy.nominal_values(Im_mu)),\n",
    "      'permeability':np.array(unumpy.nominal_values(permeability)),\n",
    "      'amplitudes': np.array(unumpy.nominal_values(amplitudes)),\n",
    "      'phases': np.array(unumpy.nominal_values(phases)),\n",
    "      }\n",
    "    )\n",
    "\n",
    "\n",
    "df_with_errors = pd.DataFrame(\n",
    "    {'frequencies':np.array(frequencies),\n",
    "     'Real_mu':np.array(Real_mu),\n",
    "     'Im_mu':np.array(Im_mu),\n",
    "      'permeability':np.array(permeability),\n",
    "      'amplitudes': np.array(amplitudes),\n",
    "      'phases': np.array(phases),\n",
    "      }\n",
    "    )\n",
    "\n",
    "\n",
    "def load_pickle(name):\n",
    "    with open(os.path.join('pickles',f'{name}.pickle'), 'rb') as handle:\n",
    "        return pickle.load(handle)\n",
    "\n",
    "def save_pickle(name, pick):\n",
    "    with open(os.path.join('pickles',f'{name}.pickle'), 'wb') as handle:\n",
    "        return pickle.dump(pick,handle)\n",
    "\n",
    "df = df.sort_values('frequencies')\n",
    "df_with_errors = df_with_errors.sort_values('frequencies')\n",
    "\n",
    "to_pickle =  {'frequencies':np.array(unumpy.nominal_values(frequencies)),\n",
    "     'Real_mu':np.array(unumpy.nominal_values(Real_mu)),\n",
    "     'Im_mu':np.array(unumpy.nominal_values(Im_mu)),\n",
    "      'permeability':np.array(unumpy.nominal_values(permeability)),\n",
    "      'amplitudes': np.array(unumpy.nominal_values(amplitudes)),\n",
    "      'phases': np.array(unumpy.nominal_values(phases)),\n",
    "      'freq_data_frame':df,       \n",
    "      'freq_data_frame_with_errors':df_with_errors\n",
    "      }\n",
    "save_pickle('freq_measurements',to_pickle)\n",
    "\n",
    "\n",
    "df.to_csv('freq_measurements.csv')\n"
   ]
  },
  {
   "cell_type": "code",
   "execution_count": 99,
   "metadata": {},
   "outputs": [],
   "source": []
  },
  {
   "cell_type": "code",
   "execution_count": 18,
   "metadata": {},
   "outputs": [
    {
     "data": {},
     "metadata": {},
     "output_type": "display_data"
    },
    {
     "data": {
      "application/vnd.holoviews_exec.v0+json": "",
      "text/html": [
       "<div id='1161'>\n",
       "  <div class=\"bk-root\" id=\"fe4840d7-6ea7-4ddc-a133-718fde1220b7\" data-root-id=\"1161\"></div>\n",
       "</div>\n",
       "<script type=\"application/javascript\">(function(root) {\n",
       "  function embed_document(root) {\n",
       "    var docs_json = {\"f37b9d7b-2cca-445a-b606-7461be2a3c57\":{\"defs\":[{\"extends\":null,\"module\":null,\"name\":\"ReactiveHTML1\",\"overrides\":[],\"properties\":[]},{\"extends\":null,\"module\":null,\"name\":\"FlexBox1\",\"overrides\":[],\"properties\":[{\"default\":\"flex-start\",\"kind\":null,\"name\":\"align_content\"},{\"default\":\"flex-start\",\"kind\":null,\"name\":\"align_items\"},{\"default\":\"row\",\"kind\":null,\"name\":\"flex_direction\"},{\"default\":\"wrap\",\"kind\":null,\"name\":\"flex_wrap\"},{\"default\":\"flex-start\",\"kind\":null,\"name\":\"justify_content\"}]},{\"extends\":null,\"module\":null,\"name\":\"GridStack1\",\"overrides\":[],\"properties\":[{\"default\":\"warn\",\"kind\":null,\"name\":\"mode\"},{\"default\":null,\"kind\":null,\"name\":\"ncols\"},{\"default\":null,\"kind\":null,\"name\":\"nrows\"},{\"default\":true,\"kind\":null,\"name\":\"allow_resize\"},{\"default\":true,\"kind\":null,\"name\":\"allow_drag\"},{\"default\":[],\"kind\":null,\"name\":\"state\"}]},{\"extends\":null,\"module\":null,\"name\":\"click1\",\"overrides\":[],\"properties\":[{\"default\":\"\",\"kind\":null,\"name\":\"terminal_output\"},{\"default\":\"\",\"kind\":null,\"name\":\"debug_name\"},{\"default\":0,\"kind\":null,\"name\":\"clears\"}]},{\"extends\":null,\"module\":null,\"name\":\"NotificationAreaBase1\",\"overrides\":[],\"properties\":[{\"default\":\"bottom-right\",\"kind\":null,\"name\":\"position\"},{\"default\":0,\"kind\":null,\"name\":\"_clear\"}]},{\"extends\":null,\"module\":null,\"name\":\"NotificationArea1\",\"overrides\":[],\"properties\":[{\"default\":[],\"kind\":null,\"name\":\"notifications\"},{\"default\":\"bottom-right\",\"kind\":null,\"name\":\"position\"},{\"default\":0,\"kind\":null,\"name\":\"_clear\"},{\"default\":[{\"background\":\"#ffc107\",\"icon\":{\"className\":\"fas fa-exclamation-triangle\",\"color\":\"white\",\"tagName\":\"i\"},\"type\":\"warning\"},{\"background\":\"#007bff\",\"icon\":{\"className\":\"fas fa-info-circle\",\"color\":\"white\",\"tagName\":\"i\"},\"type\":\"info\"}],\"kind\":null,\"name\":\"types\"}]},{\"extends\":null,\"module\":null,\"name\":\"Notification\",\"overrides\":[],\"properties\":[{\"default\":null,\"kind\":null,\"name\":\"background\"},{\"default\":3000,\"kind\":null,\"name\":\"duration\"},{\"default\":null,\"kind\":null,\"name\":\"icon\"},{\"default\":\"\",\"kind\":null,\"name\":\"message\"},{\"default\":null,\"kind\":null,\"name\":\"notification_type\"},{\"default\":false,\"kind\":null,\"name\":\"_destroyed\"}]},{\"extends\":null,\"module\":null,\"name\":\"TemplateActions1\",\"overrides\":[],\"properties\":[{\"default\":0,\"kind\":null,\"name\":\"open_modal\"},{\"default\":0,\"kind\":null,\"name\":\"close_modal\"}]},{\"extends\":null,\"module\":null,\"name\":\"MaterialTemplateActions1\",\"overrides\":[],\"properties\":[{\"default\":0,\"kind\":null,\"name\":\"open_modal\"},{\"default\":0,\"kind\":null,\"name\":\"close_modal\"}]}],\"roots\":{\"references\":[{\"attributes\":{\"coordinates\":null,\"group\":null,\"text_color\":\"black\",\"text_font_size\":\"12pt\"},\"id\":\"1167\",\"type\":\"Title\"},{\"attributes\":{\"axis_label\":\"frequencies\",\"coordinates\":null,\"formatter\":{\"id\":\"1206\"},\"group\":null,\"major_label_policy\":{\"id\":\"1207\"},\"ticker\":{\"id\":\"1176\"}},\"id\":\"1175\",\"type\":\"LinearAxis\"},{\"attributes\":{},\"id\":\"1176\",\"type\":\"BasicTicker\"},{\"attributes\":{\"axis\":{\"id\":\"1175\"},\"coordinates\":null,\"grid_line_color\":null,\"group\":null,\"ticker\":null},\"id\":\"1178\",\"type\":\"Grid\"},{\"attributes\":{},\"id\":\"1218\",\"type\":\"UnionRenderers\"},{\"attributes\":{},\"id\":\"1184\",\"type\":\"PanTool\"},{\"attributes\":{},\"id\":\"1206\",\"type\":\"BasicTickFormatter\"},{\"attributes\":{\"axis_label\":\"Real_mu\",\"coordinates\":null,\"formatter\":{\"id\":\"1209\"},\"group\":null,\"major_label_policy\":{\"id\":\"1210\"},\"ticker\":{\"id\":\"1180\"}},\"id\":\"1179\",\"type\":\"LinearAxis\"},{\"attributes\":{\"axis\":{\"id\":\"1179\"},\"coordinates\":null,\"dimension\":1,\"grid_line_color\":null,\"group\":null,\"ticker\":null},\"id\":\"1182\",\"type\":\"Grid\"},{\"attributes\":{},\"id\":\"1180\",\"type\":\"BasicTicker\"},{\"attributes\":{},\"id\":\"1185\",\"type\":\"WheelZoomTool\"},{\"attributes\":{},\"id\":\"1183\",\"type\":\"SaveTool\"},{\"attributes\":{\"data\":{\"Real_mu\":{\"__ndarray__\":\"VPQbQeIseEDS5xiCrH93QDn73iyBDHRAVTMFJZOEckAo8kaZcmJyQDCpg3SMCHFAOD6yKo5ib0CHrJTShYtuQGmAdLjwXW5ApNnFzbejbUDkMSAya3RtQMssflcd92tALe2vMkMWa0Dor10Y3TZrQKl00AVUqWtAp7OJuQMja0Cpcl2THsBqQGQww/Ze02pA773EuHi3akCgsUh3Zb1pQCMFQkoXKGlAHWXYMbl6aECa43dYAtxnQHsqBX1hRGdAYHaRhUigZkAS3JiqKwFmQEQugzCAVWVAdCL4vyTxZECHNrXhDEFkQMqsLTy5h2NAW3/+VafFYkDeGm2oSFpiQOaJmZDRtGFAopl1pPJGYUDCZkneauNgQJhJQ+iTLWBA8N9eHA2RX0DQ6yZKgIBeQGvnr8yW711ABScjR04rXUA6lMZUA5BcQPATbbk00FtACOpC3KLTWkC8Sl5xjzBaQFIljzmYwVlA74wlVGoXWUDNoXa5v+FYQD40d6gsElhATuLzjfLAV0CRb17GqtpWQPwXbOiLzFZAbnikl7jBVUBcHA0KDqNTQPUog3Sda1JAqTqAlq4DUUBtZamF/T1pQFsyukPei01AWT177KrfZUAElPkqH3cFQP3f+lluF90/JWnaq7oDqj87NILRcrOOP1qLmrAL2oM/jnOGIe3/ej9d+qKMVtZ0P2iQpnkKl20/L7DnNMyPcD8zJg2n9fFvP50udVxoW28/r+tIXsKYbj8jQZN94phrPygkgwhZAWY/41daN5ftYT8KUzYOoGBcP4OOp43relc/gSttIqsBUz+zEBPgx8JPPz1rmwtMyUo/LyaNvLLiRT/ehodOg6pCP5Ikxm2BfD0/XlemVyhQOD+x7y1XYkw0Pwmgqe5WNDE/rlskGniEKz/tPYz5hcUmP4jpfCwzJiA/4DfEZDwbHD8o2iVvcHcHPxBUfWtOs/M+xZUqaUxW0D58JNE9PQnyPg==\",\"dtype\":\"float64\",\"order\":\"little\",\"shape\":[92]},\"frequencies\":{\"__ndarray__\":\"saNUHVt/pUDQEr1QG2+oQHT46NhxJq1AM2RgVIKgr0DzdgFI176xQFk4Ix+sPLNAWRYCWhjytEDFDc+Nj122QJG7RKy9DrdAbMB3HgDqt0B56r3Efwy7QPpnPjpXab1A94yfzoLwv0CkUwwNNjHBQL63R0JjaMJA9sJ/ml+aw0DWP8zpb9rEQETRD9MXHMZARVeecbJTx0CkvoKdmIjIQGmIpdMLx8lAbrlYVuUBy0CvouPtsjbMQP6Xx9qWcs1AjcLKf34NzkA9EuMAa67OQGnrGcdv689ABk1M7d+Q0EAuDhseZi7RQASO4UX2y9FA9vlD14Rp0kCvHBzwkwTTQBm8KtWzotNAISexqvE+1EBBJvOrJd3UQE5U59juetVAXjWjtQsX1kAi6piH2rPWQPLemLBcUddApN5jdi7u10D5l5eP74rYQFsReepLKNlAX/9pp5TF2UCN84IQQGLaQI6DPftN/9pA15ErhX+c20CgUmu05jncQE2SCRiR1txALbb9p6Zz3UCyuCUm3xDeQAs8RNgurt5A86XSKgRL30Dgs83wNS7hQHGy/XgvaOJAoZ/BNw3x40AFuookx3nlQEQQ3xVpAudATJMKfz6L6EDowSFafkgtQf6x5XHgU0hBQMHpxXyNX0GnRhtDVytoQXUmEcZBw2tBExgC5cpbb0Htr/RtluBwQVFRhRnuMXJBMJ8IRR1RckEXAx/SYW9yQbloVxcqjnJBdc4pfcOsckEClaRQDUZzQa+33t8deXRBCoMVH76rdUGUl/sGvt52QYUv6OBwEXhBemO+S0JEeUG4GZJvGnd6Qc18h2zoqXtBfadr9bvcfEG4xksSVw9+Qfr6PuMXQn9BtYmWi306gEHPHTUh6NOAQWfLQodQbYFBukhFZKIGgkFJEMIdFaCCQfvHMmclhoNBwqBBpY8fhEFvKTINNoWGQXZNIKCyBIhBfqO5LawDi0EhQCvZKIOMQQ==\",\"dtype\":\"float64\",\"order\":\"little\",\"shape\":[92]}},\"selected\":{\"id\":\"1197\"},\"selection_policy\":{\"id\":\"1218\"}},\"id\":\"1196\",\"type\":\"ColumnDataSource\"},{\"attributes\":{\"overlay\":{\"id\":\"1188\"}},\"id\":\"1186\",\"type\":\"BoxZoomTool\"},{\"attributes\":{\"callback\":null,\"renderers\":[{\"id\":\"1202\"}],\"tags\":[\"hv_created\"],\"tooltips\":[[\"frequencies\",\"@{frequencies}\"],[\"Real_mu\",\"@{Real_mu}\"]]},\"id\":\"1165\",\"type\":\"HoverTool\"},{\"attributes\":{},\"id\":\"1187\",\"type\":\"ResetTool\"},{\"attributes\":{},\"id\":\"1209\",\"type\":\"BasicTickFormatter\"},{\"attributes\":{\"bottom_units\":\"screen\",\"coordinates\":null,\"fill_alpha\":0.5,\"fill_color\":\"lightgrey\",\"group\":null,\"left_units\":\"screen\",\"level\":\"overlay\",\"line_alpha\":1.0,\"line_color\":\"black\",\"line_dash\":[4,4],\"line_width\":2,\"right_units\":\"screen\",\"syncable\":false,\"top_units\":\"screen\"},\"id\":\"1188\",\"type\":\"BoxAnnotation\"},{\"attributes\":{},\"id\":\"1210\",\"type\":\"AllLabels\"},{\"attributes\":{\"fill_alpha\":{\"value\":0.1},\"fill_color\":{\"value\":\"#30a2da\"},\"hatch_alpha\":{\"value\":0.1},\"hatch_color\":{\"value\":\"#30a2da\"},\"line_alpha\":{\"value\":0.1},\"line_color\":{\"value\":\"#30a2da\"},\"size\":{\"value\":5.477225575051661},\"x\":{\"field\":\"frequencies\"},\"y\":{\"field\":\"Real_mu\"}},\"id\":\"1200\",\"type\":\"Scatter\"},{\"attributes\":{\"end\":425.48576127213386,\"reset_end\":425.48576127213386,\"reset_start\":-38.680519502846,\"start\":-38.680519502846,\"tags\":[[[\"Real_mu\",\"Real_mu\",null]]]},\"id\":\"1164\",\"type\":\"Range1d\"},{\"attributes\":{\"tools\":[{\"id\":\"1165\"},{\"id\":\"1183\"},{\"id\":\"1184\"},{\"id\":\"1185\"},{\"id\":\"1186\"},{\"id\":\"1187\"}]},\"id\":\"1189\",\"type\":\"Toolbar\"},{\"attributes\":{},\"id\":\"1173\",\"type\":\"LinearScale\"},{\"attributes\":{},\"id\":\"1207\",\"type\":\"AllLabels\"},{\"attributes\":{\"angle\":{\"value\":0.0},\"fill_alpha\":{\"value\":1.0},\"fill_color\":{\"value\":\"#30a2da\"},\"hatch_alpha\":{\"value\":1.0},\"hatch_color\":{\"value\":\"#30a2da\"},\"hatch_scale\":{\"value\":12.0},\"hatch_weight\":{\"value\":1.0},\"line_alpha\":{\"value\":1.0},\"line_cap\":{\"value\":\"butt\"},\"line_color\":{\"value\":\"#30a2da\"},\"line_dash\":{\"value\":[]},\"line_dash_offset\":{\"value\":0},\"line_join\":{\"value\":\"bevel\"},\"line_width\":{\"value\":1},\"marker\":{\"value\":\"circle\"},\"size\":{\"value\":5.477225575051661},\"x\":{\"field\":\"frequencies\"},\"y\":{\"field\":\"Real_mu\"}},\"id\":\"1204\",\"type\":\"Scatter\"},{\"attributes\":{\"margin\":[5,5,5,5],\"name\":\"HSpacer01061\",\"sizing_mode\":\"stretch_width\"},\"id\":\"1221\",\"type\":\"Spacer\"},{\"attributes\":{\"fill_color\":{\"value\":\"#30a2da\"},\"hatch_color\":{\"value\":\"#30a2da\"},\"line_color\":{\"value\":\"#30a2da\"},\"size\":{\"value\":5.477225575051661},\"x\":{\"field\":\"frequencies\"},\"y\":{\"field\":\"Real_mu\"}},\"id\":\"1199\",\"type\":\"Scatter\"},{\"attributes\":{\"end\":62357227.866182424,\"reset_end\":62357227.866182424,\"reset_start\":-2559761.042105861,\"start\":-2559761.042105861,\"tags\":[[[\"frequencies\",\"frequencies\",null]]]},\"id\":\"1163\",\"type\":\"Range1d\"},{\"attributes\":{\"fill_alpha\":{\"value\":0.2},\"fill_color\":{\"value\":\"#30a2da\"},\"hatch_alpha\":{\"value\":0.2},\"hatch_color\":{\"value\":\"#30a2da\"},\"line_alpha\":{\"value\":0.2},\"line_color\":{\"value\":\"#30a2da\"},\"size\":{\"value\":5.477225575051661},\"x\":{\"field\":\"frequencies\"},\"y\":{\"field\":\"Real_mu\"}},\"id\":\"1201\",\"type\":\"Scatter\"},{\"attributes\":{\"coordinates\":null,\"data_source\":{\"id\":\"1196\"},\"glyph\":{\"id\":\"1199\"},\"group\":null,\"hover_glyph\":null,\"muted_glyph\":{\"id\":\"1201\"},\"nonselection_glyph\":{\"id\":\"1200\"},\"selection_glyph\":{\"id\":\"1204\"},\"view\":{\"id\":\"1203\"}},\"id\":\"1202\",\"type\":\"GlyphRenderer\"},{\"attributes\":{},\"id\":\"1171\",\"type\":\"LinearScale\"},{\"attributes\":{\"source\":{\"id\":\"1196\"}},\"id\":\"1203\",\"type\":\"CDSView\"},{\"attributes\":{\"children\":[{\"id\":\"1162\"},{\"id\":\"1166\"},{\"id\":\"1221\"}],\"margin\":[0,0,0,0],\"name\":\"Row01056\",\"tags\":[\"embedded\"]},\"id\":\"1161\",\"type\":\"Row\"},{\"attributes\":{},\"id\":\"1197\",\"type\":\"Selection\"},{\"attributes\":{\"margin\":[5,5,5,5],\"name\":\"HSpacer01060\",\"sizing_mode\":\"stretch_width\"},\"id\":\"1162\",\"type\":\"Spacer\"},{\"attributes\":{\"below\":[{\"id\":\"1175\"}],\"center\":[{\"id\":\"1178\"},{\"id\":\"1182\"}],\"height\":300,\"left\":[{\"id\":\"1179\"}],\"margin\":[5,5,5,5],\"min_border_bottom\":10,\"min_border_left\":10,\"min_border_right\":10,\"min_border_top\":10,\"renderers\":[{\"id\":\"1202\"}],\"sizing_mode\":\"fixed\",\"title\":{\"id\":\"1167\"},\"toolbar\":{\"id\":\"1189\"},\"width\":700,\"x_range\":{\"id\":\"1163\"},\"x_scale\":{\"id\":\"1171\"},\"y_range\":{\"id\":\"1164\"},\"y_scale\":{\"id\":\"1173\"}},\"id\":\"1166\",\"subtype\":\"Figure\",\"type\":\"Plot\"}],\"root_ids\":[\"1161\"]},\"title\":\"Bokeh Application\",\"version\":\"2.4.3\"}};\n",
       "    var render_items = [{\"docid\":\"f37b9d7b-2cca-445a-b606-7461be2a3c57\",\"root_ids\":[\"1161\"],\"roots\":{\"1161\":\"fe4840d7-6ea7-4ddc-a133-718fde1220b7\"}}];\n",
       "    root.Bokeh.embed.embed_items_notebook(docs_json, render_items);\n",
       "    for (const render_item of render_items) {\n",
       "      for (const root_id of render_item.root_ids) {\n",
       "\tconst id_el = document.getElementById(root_id)\n",
       "\tif (id_el.children.length && (id_el.children[0].className === 'bk-root')) {\n",
       "\t  const root_el = id_el.children[0]\n",
       "\t  root_el.id = root_el.id + '-rendered'\n",
       "\t}\n",
       "      }\n",
       "    }\n",
       "  }\n",
       "  if (root.Bokeh !== undefined && root.Bokeh.Panel !== undefined) {\n",
       "    embed_document(root);\n",
       "  } else {\n",
       "    var attempts = 0;\n",
       "    var timer = setInterval(function(root) {\n",
       "      if (root.Bokeh !== undefined && root.Bokeh.Panel !== undefined) {\n",
       "        clearInterval(timer);\n",
       "        embed_document(root);\n",
       "      } else if (document.readyState == \"complete\") {\n",
       "        attempts++;\n",
       "        if (attempts > 200) {\n",
       "          clearInterval(timer);\n",
       "          console.log(\"Bokeh: ERROR: Unable to run BokehJS code because BokehJS library is missing\");\n",
       "        }\n",
       "      }\n",
       "    }, 25, root)\n",
       "  }\n",
       "})(window);</script>"
      ],
      "text/plain": [
       ":Scatter   [frequencies]   (Real_mu)"
      ]
     },
     "execution_count": 18,
     "metadata": {
      "application/vnd.holoviews_exec.v0+json": {
       "id": "1161"
      }
     },
     "output_type": "execute_result"
    }
   ],
   "source": [
    "# df.hvplot.scatter(x='frequencies', y=['Real_mu', 'Im_mu'] )\n",
    "df.hvplot.scatter(x='frequencies', y=['Real_mu'] )"
   ]
  },
  {
   "cell_type": "code",
   "execution_count": 22,
   "metadata": {},
   "outputs": [],
   "source": [
    "df = copy.deepcopy(df2)"
   ]
  },
  {
   "cell_type": "code",
   "execution_count": 31,
   "metadata": {},
   "outputs": [],
   "source": [
    "df = df[10:40]\n",
    "import plotly.graph_objects as go\n",
    "from plotly.subplots import make_subplots\n",
    "import plotly.express as px"
   ]
  },
  {
   "cell_type": "code",
   "execution_count": 82,
   "metadata": {},
   "outputs": [],
   "source": []
  },
  {
   "cell_type": "code",
   "execution_count": 87,
   "metadata": {},
   "outputs": [
    {
     "data": {
      "application/vnd.plotly.v1+json": {
       "config": {
        "plotlyServerURL": "https://plot.ly"
       },
       "data": [
        {
         "name": "fitting",
         "type": "scatter",
         "x": [
          6924.4990957925265,
          7529.3407324794625,
          8176.510965320506,
          8802.422273197975,
          9424.775460209577,
          10036.746902437397,
          10676.874322444124,
          11320.18612859457,
          11943.394092362034,
          12561.192306845747,
          13198.092396442038,
          13827.791697588484,
          14445.39788480228,
          15077.178551625457,
          15386.988274903293,
          15708.835964569002,
          16342.8732635879,
          16963.498858523577,
          17593.595587505195,
          18223.848015202224,
          18854.075638765433,
          19474.311530139934,
          20106.80988567704,
          20731.776043213093,
          21364.58861998306,
          21995.731988746957,
          22620.18296127521,
          23247.41452620377,
          23877.448278634758,
          24504.725975959227
         ],
         "xaxis": "x",
         "y": [
          -137617.69134507625,
          -126530.51454687511,
          -115206.52620575303,
          -104800.34164702846,
          -94996.24723057411,
          -85889.72357410265,
          -76933.21012070985,
          -68516.6826495796,
          -60916.92809933858,
          -53913.14384441142,
          -47234.2726787572,
          -41157.99725920899,
          -35692.69306958551,
          -30591.65840818669,
          -28265.71735644163,
          -25968.448994064238,
          -21787.735269977187,
          -18122.132919479045,
          -14812.15021757054,
          -11895.549849481089,
          -9352.513333798735,
          -7194.3510823815595,
          -5325.295726679033,
          -3787.945840968343,
          -2525.212792607723,
          -1541.4620746936998,
          -821.1089264107286,
          -333.61079706496093,
          -65.45676374511095,
          -3.179598039831035
         ],
         "yaxis": "y"
        },
        {
         "name": "imaginary part",
         "type": "scatter",
         "x": [
          6924.4990957925265,
          7529.3407324794625,
          8176.510965320506,
          8802.422273197975,
          9424.775460209577,
          10036.746902437397,
          10676.874322444124,
          11320.18612859457,
          11943.394092362034,
          12561.192306845747,
          13198.092396442038,
          13827.791697588484,
          14445.39788480228,
          15077.178551625457,
          15386.988274903293,
          15708.835964569002,
          16342.8732635879,
          16963.498858523577,
          17593.595587505195,
          18223.848015202224,
          18854.075638765433,
          19474.311530139934,
          20106.80988567704,
          20731.776043213093,
          21364.58861998306,
          21995.731988746957,
          22620.18296127521,
          23247.41452620377,
          23877.448278634758,
          24504.725975959227
         ],
         "xaxis": "x",
         "y": [
          -141312.94395095936,
          -125934.77479891389,
          -112113.52979086727,
          -99542.17699327538,
          -88022.67725268895,
          -78420.41696716734,
          -69409.95259444989,
          -60762.724856572524,
          -53510.05422386229,
          -47724.65302572194,
          -42181.45527497575,
          -37247.85350190653,
          -32664.80197165768,
          -29126.60682096308,
          -27818.637182334736,
          -26440.42595050715,
          -23445.29604056033,
          -20542.134311093494,
          -17855.102770884874,
          -15727.35294621056,
          -13353.106892186777,
          -11063.046802392193,
          -9206.312453426342,
          -7487.401023559334,
          -5773.922848140468,
          -4452.5488299081035,
          -3063.0751010733425,
          -1885.3906439710856,
          -603.8951761595405,
          610.274333794329
         ],
         "yaxis": "y2"
        }
       ],
       "layout": {
        "template": {
         "data": {
          "bar": [
           {
            "error_x": {
             "color": "#2a3f5f"
            },
            "error_y": {
             "color": "#2a3f5f"
            },
            "marker": {
             "line": {
              "color": "#E5ECF6",
              "width": 0.5
             },
             "pattern": {
              "fillmode": "overlay",
              "size": 10,
              "solidity": 0.2
             }
            },
            "type": "bar"
           }
          ],
          "barpolar": [
           {
            "marker": {
             "line": {
              "color": "#E5ECF6",
              "width": 0.5
             },
             "pattern": {
              "fillmode": "overlay",
              "size": 10,
              "solidity": 0.2
             }
            },
            "type": "barpolar"
           }
          ],
          "carpet": [
           {
            "aaxis": {
             "endlinecolor": "#2a3f5f",
             "gridcolor": "white",
             "linecolor": "white",
             "minorgridcolor": "white",
             "startlinecolor": "#2a3f5f"
            },
            "baxis": {
             "endlinecolor": "#2a3f5f",
             "gridcolor": "white",
             "linecolor": "white",
             "minorgridcolor": "white",
             "startlinecolor": "#2a3f5f"
            },
            "type": "carpet"
           }
          ],
          "choropleth": [
           {
            "colorbar": {
             "outlinewidth": 0,
             "ticks": ""
            },
            "type": "choropleth"
           }
          ],
          "contour": [
           {
            "colorbar": {
             "outlinewidth": 0,
             "ticks": ""
            },
            "colorscale": [
             [
              0,
              "#0d0887"
             ],
             [
              0.1111111111111111,
              "#46039f"
             ],
             [
              0.2222222222222222,
              "#7201a8"
             ],
             [
              0.3333333333333333,
              "#9c179e"
             ],
             [
              0.4444444444444444,
              "#bd3786"
             ],
             [
              0.5555555555555556,
              "#d8576b"
             ],
             [
              0.6666666666666666,
              "#ed7953"
             ],
             [
              0.7777777777777778,
              "#fb9f3a"
             ],
             [
              0.8888888888888888,
              "#fdca26"
             ],
             [
              1,
              "#f0f921"
             ]
            ],
            "type": "contour"
           }
          ],
          "contourcarpet": [
           {
            "colorbar": {
             "outlinewidth": 0,
             "ticks": ""
            },
            "type": "contourcarpet"
           }
          ],
          "heatmap": [
           {
            "colorbar": {
             "outlinewidth": 0,
             "ticks": ""
            },
            "colorscale": [
             [
              0,
              "#0d0887"
             ],
             [
              0.1111111111111111,
              "#46039f"
             ],
             [
              0.2222222222222222,
              "#7201a8"
             ],
             [
              0.3333333333333333,
              "#9c179e"
             ],
             [
              0.4444444444444444,
              "#bd3786"
             ],
             [
              0.5555555555555556,
              "#d8576b"
             ],
             [
              0.6666666666666666,
              "#ed7953"
             ],
             [
              0.7777777777777778,
              "#fb9f3a"
             ],
             [
              0.8888888888888888,
              "#fdca26"
             ],
             [
              1,
              "#f0f921"
             ]
            ],
            "type": "heatmap"
           }
          ],
          "heatmapgl": [
           {
            "colorbar": {
             "outlinewidth": 0,
             "ticks": ""
            },
            "colorscale": [
             [
              0,
              "#0d0887"
             ],
             [
              0.1111111111111111,
              "#46039f"
             ],
             [
              0.2222222222222222,
              "#7201a8"
             ],
             [
              0.3333333333333333,
              "#9c179e"
             ],
             [
              0.4444444444444444,
              "#bd3786"
             ],
             [
              0.5555555555555556,
              "#d8576b"
             ],
             [
              0.6666666666666666,
              "#ed7953"
             ],
             [
              0.7777777777777778,
              "#fb9f3a"
             ],
             [
              0.8888888888888888,
              "#fdca26"
             ],
             [
              1,
              "#f0f921"
             ]
            ],
            "type": "heatmapgl"
           }
          ],
          "histogram": [
           {
            "marker": {
             "pattern": {
              "fillmode": "overlay",
              "size": 10,
              "solidity": 0.2
             }
            },
            "type": "histogram"
           }
          ],
          "histogram2d": [
           {
            "colorbar": {
             "outlinewidth": 0,
             "ticks": ""
            },
            "colorscale": [
             [
              0,
              "#0d0887"
             ],
             [
              0.1111111111111111,
              "#46039f"
             ],
             [
              0.2222222222222222,
              "#7201a8"
             ],
             [
              0.3333333333333333,
              "#9c179e"
             ],
             [
              0.4444444444444444,
              "#bd3786"
             ],
             [
              0.5555555555555556,
              "#d8576b"
             ],
             [
              0.6666666666666666,
              "#ed7953"
             ],
             [
              0.7777777777777778,
              "#fb9f3a"
             ],
             [
              0.8888888888888888,
              "#fdca26"
             ],
             [
              1,
              "#f0f921"
             ]
            ],
            "type": "histogram2d"
           }
          ],
          "histogram2dcontour": [
           {
            "colorbar": {
             "outlinewidth": 0,
             "ticks": ""
            },
            "colorscale": [
             [
              0,
              "#0d0887"
             ],
             [
              0.1111111111111111,
              "#46039f"
             ],
             [
              0.2222222222222222,
              "#7201a8"
             ],
             [
              0.3333333333333333,
              "#9c179e"
             ],
             [
              0.4444444444444444,
              "#bd3786"
             ],
             [
              0.5555555555555556,
              "#d8576b"
             ],
             [
              0.6666666666666666,
              "#ed7953"
             ],
             [
              0.7777777777777778,
              "#fb9f3a"
             ],
             [
              0.8888888888888888,
              "#fdca26"
             ],
             [
              1,
              "#f0f921"
             ]
            ],
            "type": "histogram2dcontour"
           }
          ],
          "mesh3d": [
           {
            "colorbar": {
             "outlinewidth": 0,
             "ticks": ""
            },
            "type": "mesh3d"
           }
          ],
          "parcoords": [
           {
            "line": {
             "colorbar": {
              "outlinewidth": 0,
              "ticks": ""
             }
            },
            "type": "parcoords"
           }
          ],
          "pie": [
           {
            "automargin": true,
            "type": "pie"
           }
          ],
          "scatter": [
           {
            "fillpattern": {
             "fillmode": "overlay",
             "size": 10,
             "solidity": 0.2
            },
            "type": "scatter"
           }
          ],
          "scatter3d": [
           {
            "line": {
             "colorbar": {
              "outlinewidth": 0,
              "ticks": ""
             }
            },
            "marker": {
             "colorbar": {
              "outlinewidth": 0,
              "ticks": ""
             }
            },
            "type": "scatter3d"
           }
          ],
          "scattercarpet": [
           {
            "marker": {
             "colorbar": {
              "outlinewidth": 0,
              "ticks": ""
             }
            },
            "type": "scattercarpet"
           }
          ],
          "scattergeo": [
           {
            "marker": {
             "colorbar": {
              "outlinewidth": 0,
              "ticks": ""
             }
            },
            "type": "scattergeo"
           }
          ],
          "scattergl": [
           {
            "marker": {
             "colorbar": {
              "outlinewidth": 0,
              "ticks": ""
             }
            },
            "type": "scattergl"
           }
          ],
          "scattermapbox": [
           {
            "marker": {
             "colorbar": {
              "outlinewidth": 0,
              "ticks": ""
             }
            },
            "type": "scattermapbox"
           }
          ],
          "scatterpolar": [
           {
            "marker": {
             "colorbar": {
              "outlinewidth": 0,
              "ticks": ""
             }
            },
            "type": "scatterpolar"
           }
          ],
          "scatterpolargl": [
           {
            "marker": {
             "colorbar": {
              "outlinewidth": 0,
              "ticks": ""
             }
            },
            "type": "scatterpolargl"
           }
          ],
          "scatterternary": [
           {
            "marker": {
             "colorbar": {
              "outlinewidth": 0,
              "ticks": ""
             }
            },
            "type": "scatterternary"
           }
          ],
          "surface": [
           {
            "colorbar": {
             "outlinewidth": 0,
             "ticks": ""
            },
            "colorscale": [
             [
              0,
              "#0d0887"
             ],
             [
              0.1111111111111111,
              "#46039f"
             ],
             [
              0.2222222222222222,
              "#7201a8"
             ],
             [
              0.3333333333333333,
              "#9c179e"
             ],
             [
              0.4444444444444444,
              "#bd3786"
             ],
             [
              0.5555555555555556,
              "#d8576b"
             ],
             [
              0.6666666666666666,
              "#ed7953"
             ],
             [
              0.7777777777777778,
              "#fb9f3a"
             ],
             [
              0.8888888888888888,
              "#fdca26"
             ],
             [
              1,
              "#f0f921"
             ]
            ],
            "type": "surface"
           }
          ],
          "table": [
           {
            "cells": {
             "fill": {
              "color": "#EBF0F8"
             },
             "line": {
              "color": "white"
             }
            },
            "header": {
             "fill": {
              "color": "#C8D4E3"
             },
             "line": {
              "color": "white"
             }
            },
            "type": "table"
           }
          ]
         },
         "layout": {
          "annotationdefaults": {
           "arrowcolor": "#2a3f5f",
           "arrowhead": 0,
           "arrowwidth": 1
          },
          "autotypenumbers": "strict",
          "coloraxis": {
           "colorbar": {
            "outlinewidth": 0,
            "ticks": ""
           }
          },
          "colorscale": {
           "diverging": [
            [
             0,
             "#8e0152"
            ],
            [
             0.1,
             "#c51b7d"
            ],
            [
             0.2,
             "#de77ae"
            ],
            [
             0.3,
             "#f1b6da"
            ],
            [
             0.4,
             "#fde0ef"
            ],
            [
             0.5,
             "#f7f7f7"
            ],
            [
             0.6,
             "#e6f5d0"
            ],
            [
             0.7,
             "#b8e186"
            ],
            [
             0.8,
             "#7fbc41"
            ],
            [
             0.9,
             "#4d9221"
            ],
            [
             1,
             "#276419"
            ]
           ],
           "sequential": [
            [
             0,
             "#0d0887"
            ],
            [
             0.1111111111111111,
             "#46039f"
            ],
            [
             0.2222222222222222,
             "#7201a8"
            ],
            [
             0.3333333333333333,
             "#9c179e"
            ],
            [
             0.4444444444444444,
             "#bd3786"
            ],
            [
             0.5555555555555556,
             "#d8576b"
            ],
            [
             0.6666666666666666,
             "#ed7953"
            ],
            [
             0.7777777777777778,
             "#fb9f3a"
            ],
            [
             0.8888888888888888,
             "#fdca26"
            ],
            [
             1,
             "#f0f921"
            ]
           ],
           "sequentialminus": [
            [
             0,
             "#0d0887"
            ],
            [
             0.1111111111111111,
             "#46039f"
            ],
            [
             0.2222222222222222,
             "#7201a8"
            ],
            [
             0.3333333333333333,
             "#9c179e"
            ],
            [
             0.4444444444444444,
             "#bd3786"
            ],
            [
             0.5555555555555556,
             "#d8576b"
            ],
            [
             0.6666666666666666,
             "#ed7953"
            ],
            [
             0.7777777777777778,
             "#fb9f3a"
            ],
            [
             0.8888888888888888,
             "#fdca26"
            ],
            [
             1,
             "#f0f921"
            ]
           ]
          },
          "colorway": [
           "#636efa",
           "#EF553B",
           "#00cc96",
           "#ab63fa",
           "#FFA15A",
           "#19d3f3",
           "#FF6692",
           "#B6E880",
           "#FF97FF",
           "#FECB52"
          ],
          "font": {
           "color": "#2a3f5f"
          },
          "geo": {
           "bgcolor": "white",
           "lakecolor": "white",
           "landcolor": "#E5ECF6",
           "showlakes": true,
           "showland": true,
           "subunitcolor": "white"
          },
          "hoverlabel": {
           "align": "left"
          },
          "hovermode": "closest",
          "mapbox": {
           "style": "light"
          },
          "paper_bgcolor": "white",
          "plot_bgcolor": "#E5ECF6",
          "polar": {
           "angularaxis": {
            "gridcolor": "white",
            "linecolor": "white",
            "ticks": ""
           },
           "bgcolor": "#E5ECF6",
           "radialaxis": {
            "gridcolor": "white",
            "linecolor": "white",
            "ticks": ""
           }
          },
          "scene": {
           "xaxis": {
            "backgroundcolor": "#E5ECF6",
            "gridcolor": "white",
            "gridwidth": 2,
            "linecolor": "white",
            "showbackground": true,
            "ticks": "",
            "zerolinecolor": "white"
           },
           "yaxis": {
            "backgroundcolor": "#E5ECF6",
            "gridcolor": "white",
            "gridwidth": 2,
            "linecolor": "white",
            "showbackground": true,
            "ticks": "",
            "zerolinecolor": "white"
           },
           "zaxis": {
            "backgroundcolor": "#E5ECF6",
            "gridcolor": "white",
            "gridwidth": 2,
            "linecolor": "white",
            "showbackground": true,
            "ticks": "",
            "zerolinecolor": "white"
           }
          },
          "shapedefaults": {
           "line": {
            "color": "#2a3f5f"
           }
          },
          "ternary": {
           "aaxis": {
            "gridcolor": "white",
            "linecolor": "white",
            "ticks": ""
           },
           "baxis": {
            "gridcolor": "white",
            "linecolor": "white",
            "ticks": ""
           },
           "bgcolor": "#E5ECF6",
           "caxis": {
            "gridcolor": "white",
            "linecolor": "white",
            "ticks": ""
           }
          },
          "title": {
           "x": 0.05
          },
          "xaxis": {
           "automargin": true,
           "gridcolor": "white",
           "linecolor": "white",
           "ticks": "",
           "title": {
            "standoff": 15
           },
           "zerolinecolor": "white",
           "zerolinewidth": 2
          },
          "yaxis": {
           "automargin": true,
           "gridcolor": "white",
           "linecolor": "white",
           "ticks": "",
           "title": {
            "standoff": 15
           },
           "zerolinecolor": "white",
           "zerolinewidth": 2
          }
         }
        },
        "xaxis": {
         "anchor": "y",
         "domain": [
          0,
          0.94
         ]
        },
        "yaxis": {
         "anchor": "x",
         "domain": [
          0,
          1
         ]
        },
        "yaxis2": {
         "anchor": "x",
         "overlaying": "y",
         "side": "right"
        }
       }
      }
     },
     "metadata": {},
     "output_type": "display_data"
    },
    {
     "data": {
      "application/vnd.plotly.v1+json": {
       "config": {
        "plotlyServerURL": "https://plot.ly"
       },
       "data": [
        {
         "hovertemplate": "x=%{x}<br>y=%{y}<extra></extra>",
         "legendgroup": "",
         "line": {
          "color": "#636efa",
          "dash": "solid"
         },
         "marker": {
          "symbol": "circle"
         },
         "mode": "lines",
         "name": "",
         "orientation": "v",
         "showlegend": false,
         "type": "scatter",
         "x": [
          -10000,
          -9000,
          -8000,
          -7000,
          -6000,
          -5000,
          -4000,
          -3000,
          -2000,
          -1000,
          0,
          1000,
          2000,
          3000,
          4000,
          5000,
          6000,
          7000,
          8000,
          9000,
          10000,
          11000,
          12000,
          13000,
          14000,
          15000,
          16000,
          17000,
          18000,
          19000,
          20000,
          21000,
          22000,
          23000,
          24000,
          25000,
          26000,
          27000,
          28000,
          29000,
          30000,
          31000,
          32000,
          33000,
          34000,
          35000,
          36000,
          37000,
          38000,
          39000,
          40000,
          41000,
          42000,
          43000,
          44000,
          45000,
          46000,
          47000,
          48000,
          49000,
          50000,
          51000,
          52000,
          53000,
          54000,
          55000,
          56000,
          57000,
          58000,
          59000,
          60000,
          61000,
          62000,
          63000,
          64000,
          65000,
          66000,
          67000,
          68000,
          69000,
          70000,
          71000,
          72000,
          73000,
          74000,
          75000,
          76000,
          77000,
          78000,
          79000,
          80000,
          81000,
          82000,
          83000,
          84000,
          85000,
          86000,
          87000,
          88000,
          89000,
          90000,
          91000,
          92000,
          93000,
          94000,
          95000,
          96000,
          97000,
          98000,
          99000
         ],
         "xaxis": "x",
         "y": [
          -493578.4607482236,
          -478371.1903506633,
          -461761.23887669016,
          -443792.28340796905,
          -424538.28136492043,
          -404104.7479666995,
          -382628.65957214753,
          -360276.7825566997,
          -337242.34248910326,
          -313740.09290382866,
          -290000,
          -266259.90709617134,
          -242757.65751089674,
          -219723.2174433003,
          -197371.34042785247,
          -175895.25203330052,
          -155461.71863507954,
          -136207.71659203098,
          -118238.76112330981,
          -101628.80964933668,
          -86421.53925177638,
          -72632.72176107549,
          -60253.384688711696,
          -49253.4473856563,
          -39585.55099904025,
          -31188.847974750126,
          -23992.572374602896,
          -17919.26822357386,
          -12887.603875067609,
          -8814.742715676315,
          -5618.273140397039,
          -3217.723785562848,
          -1535.7045970344334,
          -498.72197894507553,
          -37.71867074200418,
          -88.38768668088596,
          -591.3059433914605,
          -1491.9281457359903,
          -2740.4758782071876,
          -4291.751200739411,
          -6104.898722591461,
          -8143.135325935495,
          -10373.462524399743,
          -12766.372890074155,
          -15295.559037739411,
          -17937.631262819865,
          -20671.848022510705,
          -23479.861956950743,
          -26345.483000930166,
          -29254.45927393745,
          -32194.275802254997,
          -35153.9706740698,
          -38123.96791755647,
          -41095.92618998879,
          -44062.602246700844,
          -47017.72810099856,
          -49955.90077322867,
          -52872.48354613056,
          -55763.51768429624,
          -58625.64363043406,
          -61456.030754445004,
          -64252.31479887222,
          -67012.54223301954,
          -69735.12079580157,
          -72418.77557272397,
          -75062.51001433848,
          -77665.57136151192,
          -80227.41999659836,
          -82747.70228902562,
          -85226.22654895723,
          -87662.94174371776,
          -90057.91866879136,
          -92411.33329866774,
          -94723.45207288585,
          -96994.61889959336,
          -99225.24368306238,
          -101415.79220314822,
          -103566.77719389251,
          -105678.75048558388,
          -107752.29608981923,
          -109788.02412064656,
          -111786.56545690008,
          -113748.56706152082,
          -115674.68788313857,
          -117565.59527360485,
          -119421.96186263376,
          -121244.46283732809,
          -123033.77358024317,
          -124790.56762485122,
          -126515.51489188912,
          -128209.28017417336,
          -129872.52184110106,
          -131505.8907372842,
          -133110.02925262606,
          -134685.5705436907,
          -136233.13788847282,
          -137753.34415867695,
          -139246.79139539515,
          -140714.0704756513,
          -142155.76085868443,
          -143572.43040209086,
          -144964.63523905355,
          -146332.91970887283,
          -147677.81633388935,
          -148999.84583666915,
          -150299.51719201473,
          -151577.32770898254,
          -152833.7631386358,
          -154069.29780375128,
          -155284.39474713174
         ],
         "yaxis": "y"
        }
       ],
       "layout": {
        "legend": {
         "tracegroupgap": 0
        },
        "margin": {
         "t": 60
        },
        "template": {
         "data": {
          "bar": [
           {
            "error_x": {
             "color": "#2a3f5f"
            },
            "error_y": {
             "color": "#2a3f5f"
            },
            "marker": {
             "line": {
              "color": "#E5ECF6",
              "width": 0.5
             },
             "pattern": {
              "fillmode": "overlay",
              "size": 10,
              "solidity": 0.2
             }
            },
            "type": "bar"
           }
          ],
          "barpolar": [
           {
            "marker": {
             "line": {
              "color": "#E5ECF6",
              "width": 0.5
             },
             "pattern": {
              "fillmode": "overlay",
              "size": 10,
              "solidity": 0.2
             }
            },
            "type": "barpolar"
           }
          ],
          "carpet": [
           {
            "aaxis": {
             "endlinecolor": "#2a3f5f",
             "gridcolor": "white",
             "linecolor": "white",
             "minorgridcolor": "white",
             "startlinecolor": "#2a3f5f"
            },
            "baxis": {
             "endlinecolor": "#2a3f5f",
             "gridcolor": "white",
             "linecolor": "white",
             "minorgridcolor": "white",
             "startlinecolor": "#2a3f5f"
            },
            "type": "carpet"
           }
          ],
          "choropleth": [
           {
            "colorbar": {
             "outlinewidth": 0,
             "ticks": ""
            },
            "type": "choropleth"
           }
          ],
          "contour": [
           {
            "colorbar": {
             "outlinewidth": 0,
             "ticks": ""
            },
            "colorscale": [
             [
              0,
              "#0d0887"
             ],
             [
              0.1111111111111111,
              "#46039f"
             ],
             [
              0.2222222222222222,
              "#7201a8"
             ],
             [
              0.3333333333333333,
              "#9c179e"
             ],
             [
              0.4444444444444444,
              "#bd3786"
             ],
             [
              0.5555555555555556,
              "#d8576b"
             ],
             [
              0.6666666666666666,
              "#ed7953"
             ],
             [
              0.7777777777777778,
              "#fb9f3a"
             ],
             [
              0.8888888888888888,
              "#fdca26"
             ],
             [
              1,
              "#f0f921"
             ]
            ],
            "type": "contour"
           }
          ],
          "contourcarpet": [
           {
            "colorbar": {
             "outlinewidth": 0,
             "ticks": ""
            },
            "type": "contourcarpet"
           }
          ],
          "heatmap": [
           {
            "colorbar": {
             "outlinewidth": 0,
             "ticks": ""
            },
            "colorscale": [
             [
              0,
              "#0d0887"
             ],
             [
              0.1111111111111111,
              "#46039f"
             ],
             [
              0.2222222222222222,
              "#7201a8"
             ],
             [
              0.3333333333333333,
              "#9c179e"
             ],
             [
              0.4444444444444444,
              "#bd3786"
             ],
             [
              0.5555555555555556,
              "#d8576b"
             ],
             [
              0.6666666666666666,
              "#ed7953"
             ],
             [
              0.7777777777777778,
              "#fb9f3a"
             ],
             [
              0.8888888888888888,
              "#fdca26"
             ],
             [
              1,
              "#f0f921"
             ]
            ],
            "type": "heatmap"
           }
          ],
          "heatmapgl": [
           {
            "colorbar": {
             "outlinewidth": 0,
             "ticks": ""
            },
            "colorscale": [
             [
              0,
              "#0d0887"
             ],
             [
              0.1111111111111111,
              "#46039f"
             ],
             [
              0.2222222222222222,
              "#7201a8"
             ],
             [
              0.3333333333333333,
              "#9c179e"
             ],
             [
              0.4444444444444444,
              "#bd3786"
             ],
             [
              0.5555555555555556,
              "#d8576b"
             ],
             [
              0.6666666666666666,
              "#ed7953"
             ],
             [
              0.7777777777777778,
              "#fb9f3a"
             ],
             [
              0.8888888888888888,
              "#fdca26"
             ],
             [
              1,
              "#f0f921"
             ]
            ],
            "type": "heatmapgl"
           }
          ],
          "histogram": [
           {
            "marker": {
             "pattern": {
              "fillmode": "overlay",
              "size": 10,
              "solidity": 0.2
             }
            },
            "type": "histogram"
           }
          ],
          "histogram2d": [
           {
            "colorbar": {
             "outlinewidth": 0,
             "ticks": ""
            },
            "colorscale": [
             [
              0,
              "#0d0887"
             ],
             [
              0.1111111111111111,
              "#46039f"
             ],
             [
              0.2222222222222222,
              "#7201a8"
             ],
             [
              0.3333333333333333,
              "#9c179e"
             ],
             [
              0.4444444444444444,
              "#bd3786"
             ],
             [
              0.5555555555555556,
              "#d8576b"
             ],
             [
              0.6666666666666666,
              "#ed7953"
             ],
             [
              0.7777777777777778,
              "#fb9f3a"
             ],
             [
              0.8888888888888888,
              "#fdca26"
             ],
             [
              1,
              "#f0f921"
             ]
            ],
            "type": "histogram2d"
           }
          ],
          "histogram2dcontour": [
           {
            "colorbar": {
             "outlinewidth": 0,
             "ticks": ""
            },
            "colorscale": [
             [
              0,
              "#0d0887"
             ],
             [
              0.1111111111111111,
              "#46039f"
             ],
             [
              0.2222222222222222,
              "#7201a8"
             ],
             [
              0.3333333333333333,
              "#9c179e"
             ],
             [
              0.4444444444444444,
              "#bd3786"
             ],
             [
              0.5555555555555556,
              "#d8576b"
             ],
             [
              0.6666666666666666,
              "#ed7953"
             ],
             [
              0.7777777777777778,
              "#fb9f3a"
             ],
             [
              0.8888888888888888,
              "#fdca26"
             ],
             [
              1,
              "#f0f921"
             ]
            ],
            "type": "histogram2dcontour"
           }
          ],
          "mesh3d": [
           {
            "colorbar": {
             "outlinewidth": 0,
             "ticks": ""
            },
            "type": "mesh3d"
           }
          ],
          "parcoords": [
           {
            "line": {
             "colorbar": {
              "outlinewidth": 0,
              "ticks": ""
             }
            },
            "type": "parcoords"
           }
          ],
          "pie": [
           {
            "automargin": true,
            "type": "pie"
           }
          ],
          "scatter": [
           {
            "fillpattern": {
             "fillmode": "overlay",
             "size": 10,
             "solidity": 0.2
            },
            "type": "scatter"
           }
          ],
          "scatter3d": [
           {
            "line": {
             "colorbar": {
              "outlinewidth": 0,
              "ticks": ""
             }
            },
            "marker": {
             "colorbar": {
              "outlinewidth": 0,
              "ticks": ""
             }
            },
            "type": "scatter3d"
           }
          ],
          "scattercarpet": [
           {
            "marker": {
             "colorbar": {
              "outlinewidth": 0,
              "ticks": ""
             }
            },
            "type": "scattercarpet"
           }
          ],
          "scattergeo": [
           {
            "marker": {
             "colorbar": {
              "outlinewidth": 0,
              "ticks": ""
             }
            },
            "type": "scattergeo"
           }
          ],
          "scattergl": [
           {
            "marker": {
             "colorbar": {
              "outlinewidth": 0,
              "ticks": ""
             }
            },
            "type": "scattergl"
           }
          ],
          "scattermapbox": [
           {
            "marker": {
             "colorbar": {
              "outlinewidth": 0,
              "ticks": ""
             }
            },
            "type": "scattermapbox"
           }
          ],
          "scatterpolar": [
           {
            "marker": {
             "colorbar": {
              "outlinewidth": 0,
              "ticks": ""
             }
            },
            "type": "scatterpolar"
           }
          ],
          "scatterpolargl": [
           {
            "marker": {
             "colorbar": {
              "outlinewidth": 0,
              "ticks": ""
             }
            },
            "type": "scatterpolargl"
           }
          ],
          "scatterternary": [
           {
            "marker": {
             "colorbar": {
              "outlinewidth": 0,
              "ticks": ""
             }
            },
            "type": "scatterternary"
           }
          ],
          "surface": [
           {
            "colorbar": {
             "outlinewidth": 0,
             "ticks": ""
            },
            "colorscale": [
             [
              0,
              "#0d0887"
             ],
             [
              0.1111111111111111,
              "#46039f"
             ],
             [
              0.2222222222222222,
              "#7201a8"
             ],
             [
              0.3333333333333333,
              "#9c179e"
             ],
             [
              0.4444444444444444,
              "#bd3786"
             ],
             [
              0.5555555555555556,
              "#d8576b"
             ],
             [
              0.6666666666666666,
              "#ed7953"
             ],
             [
              0.7777777777777778,
              "#fb9f3a"
             ],
             [
              0.8888888888888888,
              "#fdca26"
             ],
             [
              1,
              "#f0f921"
             ]
            ],
            "type": "surface"
           }
          ],
          "table": [
           {
            "cells": {
             "fill": {
              "color": "#EBF0F8"
             },
             "line": {
              "color": "white"
             }
            },
            "header": {
             "fill": {
              "color": "#C8D4E3"
             },
             "line": {
              "color": "white"
             }
            },
            "type": "table"
           }
          ]
         },
         "layout": {
          "annotationdefaults": {
           "arrowcolor": "#2a3f5f",
           "arrowhead": 0,
           "arrowwidth": 1
          },
          "autotypenumbers": "strict",
          "coloraxis": {
           "colorbar": {
            "outlinewidth": 0,
            "ticks": ""
           }
          },
          "colorscale": {
           "diverging": [
            [
             0,
             "#8e0152"
            ],
            [
             0.1,
             "#c51b7d"
            ],
            [
             0.2,
             "#de77ae"
            ],
            [
             0.3,
             "#f1b6da"
            ],
            [
             0.4,
             "#fde0ef"
            ],
            [
             0.5,
             "#f7f7f7"
            ],
            [
             0.6,
             "#e6f5d0"
            ],
            [
             0.7,
             "#b8e186"
            ],
            [
             0.8,
             "#7fbc41"
            ],
            [
             0.9,
             "#4d9221"
            ],
            [
             1,
             "#276419"
            ]
           ],
           "sequential": [
            [
             0,
             "#0d0887"
            ],
            [
             0.1111111111111111,
             "#46039f"
            ],
            [
             0.2222222222222222,
             "#7201a8"
            ],
            [
             0.3333333333333333,
             "#9c179e"
            ],
            [
             0.4444444444444444,
             "#bd3786"
            ],
            [
             0.5555555555555556,
             "#d8576b"
            ],
            [
             0.6666666666666666,
             "#ed7953"
            ],
            [
             0.7777777777777778,
             "#fb9f3a"
            ],
            [
             0.8888888888888888,
             "#fdca26"
            ],
            [
             1,
             "#f0f921"
            ]
           ],
           "sequentialminus": [
            [
             0,
             "#0d0887"
            ],
            [
             0.1111111111111111,
             "#46039f"
            ],
            [
             0.2222222222222222,
             "#7201a8"
            ],
            [
             0.3333333333333333,
             "#9c179e"
            ],
            [
             0.4444444444444444,
             "#bd3786"
            ],
            [
             0.5555555555555556,
             "#d8576b"
            ],
            [
             0.6666666666666666,
             "#ed7953"
            ],
            [
             0.7777777777777778,
             "#fb9f3a"
            ],
            [
             0.8888888888888888,
             "#fdca26"
            ],
            [
             1,
             "#f0f921"
            ]
           ]
          },
          "colorway": [
           "#636efa",
           "#EF553B",
           "#00cc96",
           "#ab63fa",
           "#FFA15A",
           "#19d3f3",
           "#FF6692",
           "#B6E880",
           "#FF97FF",
           "#FECB52"
          ],
          "font": {
           "color": "#2a3f5f"
          },
          "geo": {
           "bgcolor": "white",
           "lakecolor": "white",
           "landcolor": "#E5ECF6",
           "showlakes": true,
           "showland": true,
           "subunitcolor": "white"
          },
          "hoverlabel": {
           "align": "left"
          },
          "hovermode": "closest",
          "mapbox": {
           "style": "light"
          },
          "paper_bgcolor": "white",
          "plot_bgcolor": "#E5ECF6",
          "polar": {
           "angularaxis": {
            "gridcolor": "white",
            "linecolor": "white",
            "ticks": ""
           },
           "bgcolor": "#E5ECF6",
           "radialaxis": {
            "gridcolor": "white",
            "linecolor": "white",
            "ticks": ""
           }
          },
          "scene": {
           "xaxis": {
            "backgroundcolor": "#E5ECF6",
            "gridcolor": "white",
            "gridwidth": 2,
            "linecolor": "white",
            "showbackground": true,
            "ticks": "",
            "zerolinecolor": "white"
           },
           "yaxis": {
            "backgroundcolor": "#E5ECF6",
            "gridcolor": "white",
            "gridwidth": 2,
            "linecolor": "white",
            "showbackground": true,
            "ticks": "",
            "zerolinecolor": "white"
           },
           "zaxis": {
            "backgroundcolor": "#E5ECF6",
            "gridcolor": "white",
            "gridwidth": 2,
            "linecolor": "white",
            "showbackground": true,
            "ticks": "",
            "zerolinecolor": "white"
           }
          },
          "shapedefaults": {
           "line": {
            "color": "#2a3f5f"
           }
          },
          "ternary": {
           "aaxis": {
            "gridcolor": "white",
            "linecolor": "white",
            "ticks": ""
           },
           "baxis": {
            "gridcolor": "white",
            "linecolor": "white",
            "ticks": ""
           },
           "bgcolor": "#E5ECF6",
           "caxis": {
            "gridcolor": "white",
            "linecolor": "white",
            "ticks": ""
           }
          },
          "title": {
           "x": 0.05
          },
          "xaxis": {
           "automargin": true,
           "gridcolor": "white",
           "linecolor": "white",
           "ticks": "",
           "title": {
            "standoff": 15
           },
           "zerolinecolor": "white",
           "zerolinewidth": 2
          },
          "yaxis": {
           "automargin": true,
           "gridcolor": "white",
           "linecolor": "white",
           "ticks": "",
           "title": {
            "standoff": 15
           },
           "zerolinecolor": "white",
           "zerolinewidth": 2
          }
         }
        },
        "xaxis": {
         "anchor": "y",
         "domain": [
          0,
          1
         ],
         "title": {
          "text": "x"
         }
        },
        "yaxis": {
         "anchor": "x",
         "domain": [
          0,
          1
         ],
         "title": {
          "text": "y"
         }
        }
       }
      }
     },
     "metadata": {},
     "output_type": "display_data"
    }
   ],
   "source": [
    "# fit_params image\n",
    "c = -2.9e5\n",
    "t = 4.1e-5\n",
    "u = 5.8e5\n",
    "\n",
    "# fit_params real\n",
    "c = 5.547\n",
    "t = 5.158e-05\n",
    "u = 285.1\n",
    "\n",
    "\n",
    "def f(x,u,t,c):\n",
    "    return u * t* x / (1+t**2*x**2) + c \n",
    "\n",
    "\n",
    "fig = make_subplots(specs=[[{\"secondary_y\": True}]])\n",
    "\n",
    "\n",
    "# Add traces\n",
    "# fig.add_trace(\n",
    "#     go.Scatter(x=df['frequencies'], y=df['Real_mu'], name=\"real part\"),\n",
    "#     secondary_y=False,\n",
    "# )\n",
    "\n",
    "fig.add_trace(\n",
    "    go.Scatter(x=df['frequencies'], y=f(df['frequencies'], u, t, c), name=\"fitting\"),\n",
    "    secondary_y=False,\n",
    ")\n",
    "\n",
    "fig.add_trace(\n",
    "    go.Scatter(x=df['frequencies'], y=f(df['frequencies'], u, t, c), name=\"fitting\"),\n",
    "    secondary_y=False,\n",
    ")\n",
    "\n",
    "\n",
    "fig.add_trace(\n",
    "    go.Scatter(x=df['frequencies'], y=df['Im_mu'], name=\"imaginary part\", ),\n",
    "    secondary_y=True,\n",
    ")\n",
    "\n",
    "fig.show()\n",
    "X = np.arange(-1e4, 1e5, 1e3)\n",
    "px.line(x=X, y=f(X, u, t, c))\n"
   ]
  },
  {
   "cell_type": "code",
   "execution_count": 56,
   "metadata": {},
   "outputs": [
    {
     "data": {
      "application/vnd.plotly.v1+json": {
       "config": {
        "plotlyServerURL": "https://plot.ly"
       },
       "data": [
        {
         "hovertemplate": "<extra></extra>",
         "legendgroup": "",
         "line": {
          "color": "#636efa",
          "dash": "solid"
         },
         "marker": {
          "symbol": "circle"
         },
         "mode": "lines",
         "name": "",
         "orientation": "v",
         "showlegend": false,
         "type": "scatter",
         "xaxis": "x",
         "yaxis": "y"
        }
       ],
       "layout": {
        "legend": {
         "tracegroupgap": 0
        },
        "margin": {
         "t": 60
        },
        "template": {
         "data": {
          "bar": [
           {
            "error_x": {
             "color": "#2a3f5f"
            },
            "error_y": {
             "color": "#2a3f5f"
            },
            "marker": {
             "line": {
              "color": "#E5ECF6",
              "width": 0.5
             },
             "pattern": {
              "fillmode": "overlay",
              "size": 10,
              "solidity": 0.2
             }
            },
            "type": "bar"
           }
          ],
          "barpolar": [
           {
            "marker": {
             "line": {
              "color": "#E5ECF6",
              "width": 0.5
             },
             "pattern": {
              "fillmode": "overlay",
              "size": 10,
              "solidity": 0.2
             }
            },
            "type": "barpolar"
           }
          ],
          "carpet": [
           {
            "aaxis": {
             "endlinecolor": "#2a3f5f",
             "gridcolor": "white",
             "linecolor": "white",
             "minorgridcolor": "white",
             "startlinecolor": "#2a3f5f"
            },
            "baxis": {
             "endlinecolor": "#2a3f5f",
             "gridcolor": "white",
             "linecolor": "white",
             "minorgridcolor": "white",
             "startlinecolor": "#2a3f5f"
            },
            "type": "carpet"
           }
          ],
          "choropleth": [
           {
            "colorbar": {
             "outlinewidth": 0,
             "ticks": ""
            },
            "type": "choropleth"
           }
          ],
          "contour": [
           {
            "colorbar": {
             "outlinewidth": 0,
             "ticks": ""
            },
            "colorscale": [
             [
              0,
              "#0d0887"
             ],
             [
              0.1111111111111111,
              "#46039f"
             ],
             [
              0.2222222222222222,
              "#7201a8"
             ],
             [
              0.3333333333333333,
              "#9c179e"
             ],
             [
              0.4444444444444444,
              "#bd3786"
             ],
             [
              0.5555555555555556,
              "#d8576b"
             ],
             [
              0.6666666666666666,
              "#ed7953"
             ],
             [
              0.7777777777777778,
              "#fb9f3a"
             ],
             [
              0.8888888888888888,
              "#fdca26"
             ],
             [
              1,
              "#f0f921"
             ]
            ],
            "type": "contour"
           }
          ],
          "contourcarpet": [
           {
            "colorbar": {
             "outlinewidth": 0,
             "ticks": ""
            },
            "type": "contourcarpet"
           }
          ],
          "heatmap": [
           {
            "colorbar": {
             "outlinewidth": 0,
             "ticks": ""
            },
            "colorscale": [
             [
              0,
              "#0d0887"
             ],
             [
              0.1111111111111111,
              "#46039f"
             ],
             [
              0.2222222222222222,
              "#7201a8"
             ],
             [
              0.3333333333333333,
              "#9c179e"
             ],
             [
              0.4444444444444444,
              "#bd3786"
             ],
             [
              0.5555555555555556,
              "#d8576b"
             ],
             [
              0.6666666666666666,
              "#ed7953"
             ],
             [
              0.7777777777777778,
              "#fb9f3a"
             ],
             [
              0.8888888888888888,
              "#fdca26"
             ],
             [
              1,
              "#f0f921"
             ]
            ],
            "type": "heatmap"
           }
          ],
          "heatmapgl": [
           {
            "colorbar": {
             "outlinewidth": 0,
             "ticks": ""
            },
            "colorscale": [
             [
              0,
              "#0d0887"
             ],
             [
              0.1111111111111111,
              "#46039f"
             ],
             [
              0.2222222222222222,
              "#7201a8"
             ],
             [
              0.3333333333333333,
              "#9c179e"
             ],
             [
              0.4444444444444444,
              "#bd3786"
             ],
             [
              0.5555555555555556,
              "#d8576b"
             ],
             [
              0.6666666666666666,
              "#ed7953"
             ],
             [
              0.7777777777777778,
              "#fb9f3a"
             ],
             [
              0.8888888888888888,
              "#fdca26"
             ],
             [
              1,
              "#f0f921"
             ]
            ],
            "type": "heatmapgl"
           }
          ],
          "histogram": [
           {
            "marker": {
             "pattern": {
              "fillmode": "overlay",
              "size": 10,
              "solidity": 0.2
             }
            },
            "type": "histogram"
           }
          ],
          "histogram2d": [
           {
            "colorbar": {
             "outlinewidth": 0,
             "ticks": ""
            },
            "colorscale": [
             [
              0,
              "#0d0887"
             ],
             [
              0.1111111111111111,
              "#46039f"
             ],
             [
              0.2222222222222222,
              "#7201a8"
             ],
             [
              0.3333333333333333,
              "#9c179e"
             ],
             [
              0.4444444444444444,
              "#bd3786"
             ],
             [
              0.5555555555555556,
              "#d8576b"
             ],
             [
              0.6666666666666666,
              "#ed7953"
             ],
             [
              0.7777777777777778,
              "#fb9f3a"
             ],
             [
              0.8888888888888888,
              "#fdca26"
             ],
             [
              1,
              "#f0f921"
             ]
            ],
            "type": "histogram2d"
           }
          ],
          "histogram2dcontour": [
           {
            "colorbar": {
             "outlinewidth": 0,
             "ticks": ""
            },
            "colorscale": [
             [
              0,
              "#0d0887"
             ],
             [
              0.1111111111111111,
              "#46039f"
             ],
             [
              0.2222222222222222,
              "#7201a8"
             ],
             [
              0.3333333333333333,
              "#9c179e"
             ],
             [
              0.4444444444444444,
              "#bd3786"
             ],
             [
              0.5555555555555556,
              "#d8576b"
             ],
             [
              0.6666666666666666,
              "#ed7953"
             ],
             [
              0.7777777777777778,
              "#fb9f3a"
             ],
             [
              0.8888888888888888,
              "#fdca26"
             ],
             [
              1,
              "#f0f921"
             ]
            ],
            "type": "histogram2dcontour"
           }
          ],
          "mesh3d": [
           {
            "colorbar": {
             "outlinewidth": 0,
             "ticks": ""
            },
            "type": "mesh3d"
           }
          ],
          "parcoords": [
           {
            "line": {
             "colorbar": {
              "outlinewidth": 0,
              "ticks": ""
             }
            },
            "type": "parcoords"
           }
          ],
          "pie": [
           {
            "automargin": true,
            "type": "pie"
           }
          ],
          "scatter": [
           {
            "fillpattern": {
             "fillmode": "overlay",
             "size": 10,
             "solidity": 0.2
            },
            "type": "scatter"
           }
          ],
          "scatter3d": [
           {
            "line": {
             "colorbar": {
              "outlinewidth": 0,
              "ticks": ""
             }
            },
            "marker": {
             "colorbar": {
              "outlinewidth": 0,
              "ticks": ""
             }
            },
            "type": "scatter3d"
           }
          ],
          "scattercarpet": [
           {
            "marker": {
             "colorbar": {
              "outlinewidth": 0,
              "ticks": ""
             }
            },
            "type": "scattercarpet"
           }
          ],
          "scattergeo": [
           {
            "marker": {
             "colorbar": {
              "outlinewidth": 0,
              "ticks": ""
             }
            },
            "type": "scattergeo"
           }
          ],
          "scattergl": [
           {
            "marker": {
             "colorbar": {
              "outlinewidth": 0,
              "ticks": ""
             }
            },
            "type": "scattergl"
           }
          ],
          "scattermapbox": [
           {
            "marker": {
             "colorbar": {
              "outlinewidth": 0,
              "ticks": ""
             }
            },
            "type": "scattermapbox"
           }
          ],
          "scatterpolar": [
           {
            "marker": {
             "colorbar": {
              "outlinewidth": 0,
              "ticks": ""
             }
            },
            "type": "scatterpolar"
           }
          ],
          "scatterpolargl": [
           {
            "marker": {
             "colorbar": {
              "outlinewidth": 0,
              "ticks": ""
             }
            },
            "type": "scatterpolargl"
           }
          ],
          "scatterternary": [
           {
            "marker": {
             "colorbar": {
              "outlinewidth": 0,
              "ticks": ""
             }
            },
            "type": "scatterternary"
           }
          ],
          "surface": [
           {
            "colorbar": {
             "outlinewidth": 0,
             "ticks": ""
            },
            "colorscale": [
             [
              0,
              "#0d0887"
             ],
             [
              0.1111111111111111,
              "#46039f"
             ],
             [
              0.2222222222222222,
              "#7201a8"
             ],
             [
              0.3333333333333333,
              "#9c179e"
             ],
             [
              0.4444444444444444,
              "#bd3786"
             ],
             [
              0.5555555555555556,
              "#d8576b"
             ],
             [
              0.6666666666666666,
              "#ed7953"
             ],
             [
              0.7777777777777778,
              "#fb9f3a"
             ],
             [
              0.8888888888888888,
              "#fdca26"
             ],
             [
              1,
              "#f0f921"
             ]
            ],
            "type": "surface"
           }
          ],
          "table": [
           {
            "cells": {
             "fill": {
              "color": "#EBF0F8"
             },
             "line": {
              "color": "white"
             }
            },
            "header": {
             "fill": {
              "color": "#C8D4E3"
             },
             "line": {
              "color": "white"
             }
            },
            "type": "table"
           }
          ]
         },
         "layout": {
          "annotationdefaults": {
           "arrowcolor": "#2a3f5f",
           "arrowhead": 0,
           "arrowwidth": 1
          },
          "autotypenumbers": "strict",
          "coloraxis": {
           "colorbar": {
            "outlinewidth": 0,
            "ticks": ""
           }
          },
          "colorscale": {
           "diverging": [
            [
             0,
             "#8e0152"
            ],
            [
             0.1,
             "#c51b7d"
            ],
            [
             0.2,
             "#de77ae"
            ],
            [
             0.3,
             "#f1b6da"
            ],
            [
             0.4,
             "#fde0ef"
            ],
            [
             0.5,
             "#f7f7f7"
            ],
            [
             0.6,
             "#e6f5d0"
            ],
            [
             0.7,
             "#b8e186"
            ],
            [
             0.8,
             "#7fbc41"
            ],
            [
             0.9,
             "#4d9221"
            ],
            [
             1,
             "#276419"
            ]
           ],
           "sequential": [
            [
             0,
             "#0d0887"
            ],
            [
             0.1111111111111111,
             "#46039f"
            ],
            [
             0.2222222222222222,
             "#7201a8"
            ],
            [
             0.3333333333333333,
             "#9c179e"
            ],
            [
             0.4444444444444444,
             "#bd3786"
            ],
            [
             0.5555555555555556,
             "#d8576b"
            ],
            [
             0.6666666666666666,
             "#ed7953"
            ],
            [
             0.7777777777777778,
             "#fb9f3a"
            ],
            [
             0.8888888888888888,
             "#fdca26"
            ],
            [
             1,
             "#f0f921"
            ]
           ],
           "sequentialminus": [
            [
             0,
             "#0d0887"
            ],
            [
             0.1111111111111111,
             "#46039f"
            ],
            [
             0.2222222222222222,
             "#7201a8"
            ],
            [
             0.3333333333333333,
             "#9c179e"
            ],
            [
             0.4444444444444444,
             "#bd3786"
            ],
            [
             0.5555555555555556,
             "#d8576b"
            ],
            [
             0.6666666666666666,
             "#ed7953"
            ],
            [
             0.7777777777777778,
             "#fb9f3a"
            ],
            [
             0.8888888888888888,
             "#fdca26"
            ],
            [
             1,
             "#f0f921"
            ]
           ]
          },
          "colorway": [
           "#636efa",
           "#EF553B",
           "#00cc96",
           "#ab63fa",
           "#FFA15A",
           "#19d3f3",
           "#FF6692",
           "#B6E880",
           "#FF97FF",
           "#FECB52"
          ],
          "font": {
           "color": "#2a3f5f"
          },
          "geo": {
           "bgcolor": "white",
           "lakecolor": "white",
           "landcolor": "#E5ECF6",
           "showlakes": true,
           "showland": true,
           "subunitcolor": "white"
          },
          "hoverlabel": {
           "align": "left"
          },
          "hovermode": "closest",
          "mapbox": {
           "style": "light"
          },
          "paper_bgcolor": "white",
          "plot_bgcolor": "#E5ECF6",
          "polar": {
           "angularaxis": {
            "gridcolor": "white",
            "linecolor": "white",
            "ticks": ""
           },
           "bgcolor": "#E5ECF6",
           "radialaxis": {
            "gridcolor": "white",
            "linecolor": "white",
            "ticks": ""
           }
          },
          "scene": {
           "xaxis": {
            "backgroundcolor": "#E5ECF6",
            "gridcolor": "white",
            "gridwidth": 2,
            "linecolor": "white",
            "showbackground": true,
            "ticks": "",
            "zerolinecolor": "white"
           },
           "yaxis": {
            "backgroundcolor": "#E5ECF6",
            "gridcolor": "white",
            "gridwidth": 2,
            "linecolor": "white",
            "showbackground": true,
            "ticks": "",
            "zerolinecolor": "white"
           },
           "zaxis": {
            "backgroundcolor": "#E5ECF6",
            "gridcolor": "white",
            "gridwidth": 2,
            "linecolor": "white",
            "showbackground": true,
            "ticks": "",
            "zerolinecolor": "white"
           }
          },
          "shapedefaults": {
           "line": {
            "color": "#2a3f5f"
           }
          },
          "ternary": {
           "aaxis": {
            "gridcolor": "white",
            "linecolor": "white",
            "ticks": ""
           },
           "baxis": {
            "gridcolor": "white",
            "linecolor": "white",
            "ticks": ""
           },
           "bgcolor": "#E5ECF6",
           "caxis": {
            "gridcolor": "white",
            "linecolor": "white",
            "ticks": ""
           }
          },
          "title": {
           "x": 0.05
          },
          "xaxis": {
           "automargin": true,
           "gridcolor": "white",
           "linecolor": "white",
           "ticks": "",
           "title": {
            "standoff": 15
           },
           "zerolinecolor": "white",
           "zerolinewidth": 2
          },
          "yaxis": {
           "automargin": true,
           "gridcolor": "white",
           "linecolor": "white",
           "ticks": "",
           "title": {
            "standoff": 15
           },
           "zerolinecolor": "white",
           "zerolinewidth": 2
          }
         }
        },
        "xaxis": {
         "anchor": "y",
         "domain": [
          0,
          1
         ]
        },
        "yaxis": {
         "anchor": "x",
         "domain": [
          0,
          1
         ]
        }
       }
      }
     },
     "metadata": {},
     "output_type": "display_data"
    }
   ],
   "source": [
    "X = np.arange()\n",
    "px.line()"
   ]
  },
  {
   "cell_type": "code",
   "execution_count": 64,
   "metadata": {},
   "outputs": [
    {
     "data": {},
     "metadata": {},
     "output_type": "display_data"
    },
    {
     "data": {
      "application/vnd.holoviews_exec.v0+json": "",
      "text/html": [
       "<div id='1273'>\n",
       "  <div class=\"bk-root\" id=\"eec2f1cc-5d9f-44dd-b69d-c6d8c650c579\" data-root-id=\"1273\"></div>\n",
       "</div>\n",
       "<script type=\"application/javascript\">(function(root) {\n",
       "  function embed_document(root) {\n",
       "    var docs_json = {\"8c6850ef-5b7b-4921-96d4-efc59ab5d080\":{\"defs\":[{\"extends\":null,\"module\":null,\"name\":\"ReactiveHTML1\",\"overrides\":[],\"properties\":[]},{\"extends\":null,\"module\":null,\"name\":\"FlexBox1\",\"overrides\":[],\"properties\":[{\"default\":\"flex-start\",\"kind\":null,\"name\":\"align_content\"},{\"default\":\"flex-start\",\"kind\":null,\"name\":\"align_items\"},{\"default\":\"row\",\"kind\":null,\"name\":\"flex_direction\"},{\"default\":\"wrap\",\"kind\":null,\"name\":\"flex_wrap\"},{\"default\":\"flex-start\",\"kind\":null,\"name\":\"justify_content\"}]},{\"extends\":null,\"module\":null,\"name\":\"GridStack1\",\"overrides\":[],\"properties\":[{\"default\":\"warn\",\"kind\":null,\"name\":\"mode\"},{\"default\":null,\"kind\":null,\"name\":\"ncols\"},{\"default\":null,\"kind\":null,\"name\":\"nrows\"},{\"default\":true,\"kind\":null,\"name\":\"allow_resize\"},{\"default\":true,\"kind\":null,\"name\":\"allow_drag\"},{\"default\":[],\"kind\":null,\"name\":\"state\"}]},{\"extends\":null,\"module\":null,\"name\":\"click1\",\"overrides\":[],\"properties\":[{\"default\":\"\",\"kind\":null,\"name\":\"terminal_output\"},{\"default\":\"\",\"kind\":null,\"name\":\"debug_name\"},{\"default\":0,\"kind\":null,\"name\":\"clears\"}]},{\"extends\":null,\"module\":null,\"name\":\"NotificationAreaBase1\",\"overrides\":[],\"properties\":[{\"default\":\"bottom-right\",\"kind\":null,\"name\":\"position\"},{\"default\":0,\"kind\":null,\"name\":\"_clear\"}]},{\"extends\":null,\"module\":null,\"name\":\"NotificationArea1\",\"overrides\":[],\"properties\":[{\"default\":[],\"kind\":null,\"name\":\"notifications\"},{\"default\":\"bottom-right\",\"kind\":null,\"name\":\"position\"},{\"default\":0,\"kind\":null,\"name\":\"_clear\"},{\"default\":[{\"background\":\"#ffc107\",\"icon\":{\"className\":\"fas fa-exclamation-triangle\",\"color\":\"white\",\"tagName\":\"i\"},\"type\":\"warning\"},{\"background\":\"#007bff\",\"icon\":{\"className\":\"fas fa-info-circle\",\"color\":\"white\",\"tagName\":\"i\"},\"type\":\"info\"}],\"kind\":null,\"name\":\"types\"}]},{\"extends\":null,\"module\":null,\"name\":\"Notification\",\"overrides\":[],\"properties\":[{\"default\":null,\"kind\":null,\"name\":\"background\"},{\"default\":3000,\"kind\":null,\"name\":\"duration\"},{\"default\":null,\"kind\":null,\"name\":\"icon\"},{\"default\":\"\",\"kind\":null,\"name\":\"message\"},{\"default\":null,\"kind\":null,\"name\":\"notification_type\"},{\"default\":false,\"kind\":null,\"name\":\"_destroyed\"}]},{\"extends\":null,\"module\":null,\"name\":\"TemplateActions1\",\"overrides\":[],\"properties\":[{\"default\":0,\"kind\":null,\"name\":\"open_modal\"},{\"default\":0,\"kind\":null,\"name\":\"close_modal\"}]},{\"extends\":null,\"module\":null,\"name\":\"MaterialTemplateActions1\",\"overrides\":[],\"properties\":[{\"default\":0,\"kind\":null,\"name\":\"open_modal\"},{\"default\":0,\"kind\":null,\"name\":\"close_modal\"}]}],\"roots\":{\"references\":[{\"attributes\":{\"data\":{\"Variable\":[\"Im_mu\",\"Im_mu\",\"Im_mu\",\"Im_mu\",\"Im_mu\",\"Im_mu\",\"Im_mu\",\"Im_mu\",\"Im_mu\",\"Im_mu\",\"Im_mu\",\"Im_mu\",\"Im_mu\",\"Im_mu\",\"Im_mu\",\"Im_mu\",\"Im_mu\",\"Im_mu\",\"Im_mu\",\"Im_mu\",\"Im_mu\",\"Im_mu\",\"Im_mu\",\"Im_mu\",\"Im_mu\",\"Im_mu\",\"Im_mu\",\"Im_mu\",\"Im_mu\",\"Im_mu\"],\"frequencies\":{\"__ndarray__\":\"eeq9xH8Mu0D6Zz46V2m9QPeMn86C8L9ApFMMDTYxwUC+t0dCY2jCQPbCf5pfmsNA1j/M6W/axEBE0Q/TFxzGQEVXnnGyU8dApL6CnZiIyEBpiKXTC8fJQG65WFblActAr6Lj7bI2zED+l8falnLNQI3Cyn9+Dc5APRLjAGuuzkBp6xnHb+vPQAZNTO3fkNBALg4bHmYu0UAEjuFF9svRQPb5Q9eEadJArxwc8JME00AZvCrVs6LTQCEnsarxPtRAQSbzqyXd1EBOVOfY7nrVQF41o7ULF9ZAIuqYh9qz1kDy3piwXFHXQKTeY3Yu7tdA\",\"dtype\":\"float64\",\"order\":\"little\",\"shape\":[30]},\"value\":{\"__ndarray__\":\"HCk2jQdAAcHCi5Nl7L7+wAr9BXoYX/vAlub21GJN+MBj6gbWan31wLTD5atGJfPAiq3TPR/y8MApaQYyV6vtwGauM7zBIOrA5jKW5ZRN58Bx05yRrpjkwPQ640/7L+LAg+6AUzPm38C9lyfWpnHcwFJqmMeoKtvAe+rFQhvS2cA6G1TyUuXWwIOOjZiID9TAYVXMk8Zv0cDNZ1ctrbfOwDSnpK6NFMrA7Oue/YWbxcDVT3n+J/vBwETgeqlmP73AfJbGP+yNtsBf6h2AjGSxwM3bpXMm7qfAxSD5BJB1ncAVSx5SKd+CwKWW6tUxEoNA\",\"dtype\":\"float64\",\"order\":\"little\",\"shape\":[30]}},\"selected\":{\"id\":\"1337\"},\"selection_policy\":{\"id\":\"1353\"}},\"id\":\"1336\",\"type\":\"ColumnDataSource\"},{\"attributes\":{\"end\":25258.164270823516,\"reset_end\":25258.164270823516,\"reset_start\":6171.06080092824,\"start\":6171.06080092824,\"tags\":[[[\"frequencies\",\"frequencies\",null]]]},\"id\":\"1275\",\"type\":\"Range1d\"},{\"attributes\":{\"coordinates\":null,\"group\":null,\"text_color\":\"black\",\"text_font_size\":\"12pt\"},\"id\":\"1280\",\"type\":\"Title\"},{\"attributes\":{},\"id\":\"1286\",\"type\":\"LinearScale\"},{\"attributes\":{},\"id\":\"1337\",\"type\":\"Selection\"},{\"attributes\":{},\"id\":\"1289\",\"type\":\"BasicTicker\"},{\"attributes\":{},\"id\":\"1353\",\"type\":\"UnionRenderers\"},{\"attributes\":{\"angle\":{\"value\":0.0},\"fill_alpha\":{\"value\":1.0},\"fill_color\":{\"value\":\"#30a2da\"},\"hatch_alpha\":{\"value\":1.0},\"hatch_color\":{\"value\":\"#30a2da\"},\"hatch_scale\":{\"value\":12.0},\"hatch_weight\":{\"value\":1.0},\"line_alpha\":{\"value\":1.0},\"line_cap\":{\"value\":\"butt\"},\"line_color\":{\"value\":\"#30a2da\"},\"line_dash\":{\"value\":[]},\"line_dash_offset\":{\"value\":0},\"line_join\":{\"value\":\"bevel\"},\"line_width\":{\"value\":1},\"marker\":{\"value\":\"circle\"},\"size\":{\"value\":5.477225575051661},\"x\":{\"field\":\"frequencies\"},\"y\":{\"field\":\"value\"}},\"id\":\"1335\",\"type\":\"Scatter\"},{\"attributes\":{\"axis\":{\"id\":\"1292\"},\"coordinates\":null,\"dimension\":1,\"grid_line_color\":null,\"group\":null,\"ticker\":null},\"id\":\"1295\",\"type\":\"Grid\"},{\"attributes\":{\"callback\":null,\"renderers\":[{\"id\":\"1321\"},{\"id\":\"1342\"}],\"tags\":[\"hv_created\"],\"tooltips\":[[\"Variable\",\"@{Variable}\"],[\"frequencies\",\"@{frequencies}\"],[\"value\",\"@{value}\"]]},\"id\":\"1277\",\"type\":\"HoverTool\"},{\"attributes\":{\"click_policy\":\"mute\",\"coordinates\":null,\"group\":null,\"items\":[{\"id\":\"1334\"},{\"id\":\"1356\"}],\"location\":[0,0],\"title\":\"Variable\"},\"id\":\"1333\",\"type\":\"Legend\"},{\"attributes\":{\"angle\":{\"value\":0.0},\"fill_alpha\":{\"value\":1.0},\"fill_color\":{\"value\":\"#fc4f30\"},\"hatch_alpha\":{\"value\":1.0},\"hatch_color\":{\"value\":\"#fc4f30\"},\"hatch_scale\":{\"value\":12.0},\"hatch_weight\":{\"value\":1.0},\"line_alpha\":{\"value\":1.0},\"line_cap\":{\"value\":\"butt\"},\"line_color\":{\"value\":\"#fc4f30\"},\"line_dash\":{\"value\":[]},\"line_dash_offset\":{\"value\":0},\"line_join\":{\"value\":\"bevel\"},\"line_width\":{\"value\":1},\"marker\":{\"value\":\"circle\"},\"size\":{\"value\":5.477225575051661},\"x\":{\"field\":\"frequencies\"},\"y\":{\"field\":\"value\"}},\"id\":\"1357\",\"type\":\"Scatter\"},{\"attributes\":{},\"id\":\"1313\",\"type\":\"BasicTickFormatter\"},{\"attributes\":{\"fill_alpha\":{\"value\":0.2},\"fill_color\":{\"value\":\"#fc4f30\"},\"hatch_alpha\":{\"value\":0.2},\"hatch_color\":{\"value\":\"#fc4f30\"},\"line_alpha\":{\"value\":0.2},\"line_color\":{\"value\":\"#fc4f30\"},\"size\":{\"value\":5.477225575051661},\"x\":{\"field\":\"frequencies\"},\"y\":{\"field\":\"value\"}},\"id\":\"1341\",\"type\":\"Scatter\"},{\"attributes\":{\"axis_label\":\"frequencies\",\"coordinates\":null,\"formatter\":{\"id\":\"1310\"},\"group\":null,\"major_label_policy\":{\"id\":\"1311\"},\"ticker\":{\"id\":\"1289\"}},\"id\":\"1288\",\"type\":\"LinearAxis\"},{\"attributes\":{},\"id\":\"1293\",\"type\":\"BasicTicker\"},{\"attributes\":{},\"id\":\"1284\",\"type\":\"LinearScale\"},{\"attributes\":{},\"id\":\"1297\",\"type\":\"PanTool\"},{\"attributes\":{\"data\":{\"Variable\":[\"Real_mu\",\"Real_mu\",\"Real_mu\",\"Real_mu\",\"Real_mu\",\"Real_mu\",\"Real_mu\",\"Real_mu\",\"Real_mu\",\"Real_mu\",\"Real_mu\",\"Real_mu\",\"Real_mu\",\"Real_mu\",\"Real_mu\",\"Real_mu\",\"Real_mu\",\"Real_mu\",\"Real_mu\",\"Real_mu\",\"Real_mu\",\"Real_mu\",\"Real_mu\",\"Real_mu\",\"Real_mu\",\"Real_mu\",\"Real_mu\",\"Real_mu\",\"Real_mu\",\"Real_mu\"],\"frequencies\":{\"__ndarray__\":\"eeq9xH8Mu0D6Zz46V2m9QPeMn86C8L9ApFMMDTYxwUC+t0dCY2jCQPbCf5pfmsNA1j/M6W/axEBE0Q/TFxzGQEVXnnGyU8dApL6CnZiIyEBpiKXTC8fJQG65WFblActAr6Lj7bI2zED+l8falnLNQI3Cyn9+Dc5APRLjAGuuzkBp6xnHb+vPQAZNTO3fkNBALg4bHmYu0UAEjuFF9svRQPb5Q9eEadJArxwc8JME00AZvCrVs6LTQCEnsarxPtRAQSbzqyXd1EBOVOfY7nrVQF41o7ULF9ZAIuqYh9qz1kDy3piwXFHXQKTeY3Yu7tdA\",\"dtype\":\"float64\",\"order\":\"little\",\"shape\":[30]},\"value\":{\"__ndarray__\":\"5DEgMmt0bUDLLH5XHfdrQC3trzJDFmtA6K9dGN02a0CpdNAFVKlrQKezibkDI2tAqXJdkx7AakBkMMP2XtNqQO+9xLh4t2pAoLFId2W9aUAjBUJKFyhpQB1l2DG5emhAmuN3WALcZ0B7KgV9YURnQGB2kYVIoGZAEtyYqisBZkBELoMwgFVlQHQi+L8k8WRAhza14QxBZEDKrC08uYdjQFt//lWnxWJA3hptqEhaYkDmiZmQ0bRhQKKZdaTyRmFAwmZJ3mrjYECYSUPoky1gQPDfXhwNkV9A0OsmSoCAXkBr56/Mlu9dQAUnI0dOK11A\",\"dtype\":\"float64\",\"order\":\"little\",\"shape\":[30]}},\"selected\":{\"id\":\"1316\"},\"selection_policy\":{\"id\":\"1330\"}},\"id\":\"1315\",\"type\":\"ColumnDataSource\"},{\"attributes\":{\"axis\":{\"id\":\"1288\"},\"coordinates\":null,\"grid_line_color\":null,\"group\":null,\"ticker\":null},\"id\":\"1291\",\"type\":\"Grid\"},{\"attributes\":{\"source\":{\"id\":\"1315\"}},\"id\":\"1322\",\"type\":\"CDSView\"},{\"attributes\":{\"fill_color\":{\"value\":\"#fc4f30\"},\"hatch_color\":{\"value\":\"#fc4f30\"},\"line_color\":{\"value\":\"#fc4f30\"},\"size\":{\"value\":5.477225575051661},\"x\":{\"field\":\"frequencies\"},\"y\":{\"field\":\"value\"}},\"id\":\"1339\",\"type\":\"Scatter\"},{\"attributes\":{\"margin\":[5,5,5,5],\"name\":\"HSpacer01209\",\"sizing_mode\":\"stretch_width\"},\"id\":\"1370\",\"type\":\"Spacer\"},{\"attributes\":{\"fill_alpha\":{\"value\":0.2},\"fill_color\":{\"value\":\"#30a2da\"},\"hatch_alpha\":{\"value\":0.2},\"hatch_color\":{\"value\":\"#30a2da\"},\"line_alpha\":{\"value\":0.2},\"line_color\":{\"value\":\"#30a2da\"},\"size\":{\"value\":5.477225575051661},\"x\":{\"field\":\"frequencies\"},\"y\":{\"field\":\"value\"}},\"id\":\"1320\",\"type\":\"Scatter\"},{\"attributes\":{\"end\":14802.5961622697,\"reset_end\":14802.5961622697,\"reset_start\":-155505.26577943473,\"start\":-155505.26577943473,\"tags\":[[[\"value\",\"value\",null]]]},\"id\":\"1276\",\"type\":\"Range1d\"},{\"attributes\":{},\"id\":\"1311\",\"type\":\"AllLabels\"},{\"attributes\":{\"label\":{\"value\":\"Im_mu\"},\"renderers\":[{\"id\":\"1342\"}]},\"id\":\"1356\",\"type\":\"LegendItem\"},{\"attributes\":{},\"id\":\"1316\",\"type\":\"Selection\"},{\"attributes\":{\"below\":[{\"id\":\"1288\"}],\"center\":[{\"id\":\"1291\"},{\"id\":\"1295\"}],\"height\":300,\"left\":[{\"id\":\"1292\"}],\"margin\":[5,5,5,5],\"min_border_bottom\":10,\"min_border_left\":10,\"min_border_right\":10,\"min_border_top\":10,\"renderers\":[{\"id\":\"1321\"},{\"id\":\"1342\"}],\"right\":[{\"id\":\"1333\"}],\"sizing_mode\":\"fixed\",\"title\":{\"id\":\"1280\"},\"toolbar\":{\"id\":\"1302\"},\"width\":700,\"x_range\":{\"id\":\"1275\"},\"x_scale\":{\"id\":\"1284\"},\"y_range\":{\"id\":\"1276\"},\"y_scale\":{\"id\":\"1286\"}},\"id\":\"1279\",\"subtype\":\"Figure\",\"type\":\"Plot\"},{\"attributes\":{\"axis_label\":\"\",\"coordinates\":null,\"formatter\":{\"id\":\"1313\"},\"group\":null,\"major_label_policy\":{\"id\":\"1314\"},\"ticker\":{\"id\":\"1293\"}},\"id\":\"1292\",\"type\":\"LinearAxis\"},{\"attributes\":{},\"id\":\"1296\",\"type\":\"SaveTool\"},{\"attributes\":{\"fill_alpha\":{\"value\":0.1},\"fill_color\":{\"value\":\"#30a2da\"},\"hatch_alpha\":{\"value\":0.1},\"hatch_color\":{\"value\":\"#30a2da\"},\"line_alpha\":{\"value\":0.1},\"line_color\":{\"value\":\"#30a2da\"},\"size\":{\"value\":5.477225575051661},\"x\":{\"field\":\"frequencies\"},\"y\":{\"field\":\"value\"}},\"id\":\"1319\",\"type\":\"Scatter\"},{\"attributes\":{\"fill_alpha\":{\"value\":0.1},\"fill_color\":{\"value\":\"#fc4f30\"},\"hatch_alpha\":{\"value\":0.1},\"hatch_color\":{\"value\":\"#fc4f30\"},\"line_alpha\":{\"value\":0.1},\"line_color\":{\"value\":\"#fc4f30\"},\"size\":{\"value\":5.477225575051661},\"x\":{\"field\":\"frequencies\"},\"y\":{\"field\":\"value\"}},\"id\":\"1340\",\"type\":\"Scatter\"},{\"attributes\":{},\"id\":\"1330\",\"type\":\"UnionRenderers\"},{\"attributes\":{\"overlay\":{\"id\":\"1301\"}},\"id\":\"1299\",\"type\":\"BoxZoomTool\"},{\"attributes\":{\"fill_color\":{\"value\":\"#30a2da\"},\"hatch_color\":{\"value\":\"#30a2da\"},\"line_color\":{\"value\":\"#30a2da\"},\"size\":{\"value\":5.477225575051661},\"x\":{\"field\":\"frequencies\"},\"y\":{\"field\":\"value\"}},\"id\":\"1318\",\"type\":\"Scatter\"},{\"attributes\":{},\"id\":\"1300\",\"type\":\"ResetTool\"},{\"attributes\":{\"source\":{\"id\":\"1336\"}},\"id\":\"1343\",\"type\":\"CDSView\"},{\"attributes\":{\"label\":{\"value\":\"Real_mu\"},\"renderers\":[{\"id\":\"1321\"}]},\"id\":\"1334\",\"type\":\"LegendItem\"},{\"attributes\":{\"coordinates\":null,\"data_source\":{\"id\":\"1336\"},\"glyph\":{\"id\":\"1339\"},\"group\":null,\"hover_glyph\":null,\"muted_glyph\":{\"id\":\"1341\"},\"nonselection_glyph\":{\"id\":\"1340\"},\"selection_glyph\":{\"id\":\"1357\"},\"view\":{\"id\":\"1343\"}},\"id\":\"1342\",\"type\":\"GlyphRenderer\"},{\"attributes\":{\"bottom_units\":\"screen\",\"coordinates\":null,\"fill_alpha\":0.5,\"fill_color\":\"lightgrey\",\"group\":null,\"left_units\":\"screen\",\"level\":\"overlay\",\"line_alpha\":1.0,\"line_color\":\"black\",\"line_dash\":[4,4],\"line_width\":2,\"right_units\":\"screen\",\"syncable\":false,\"top_units\":\"screen\"},\"id\":\"1301\",\"type\":\"BoxAnnotation\"},{\"attributes\":{\"coordinates\":null,\"data_source\":{\"id\":\"1315\"},\"glyph\":{\"id\":\"1318\"},\"group\":null,\"hover_glyph\":null,\"muted_glyph\":{\"id\":\"1320\"},\"nonselection_glyph\":{\"id\":\"1319\"},\"selection_glyph\":{\"id\":\"1335\"},\"view\":{\"id\":\"1322\"}},\"id\":\"1321\",\"type\":\"GlyphRenderer\"},{\"attributes\":{},\"id\":\"1314\",\"type\":\"AllLabels\"},{\"attributes\":{},\"id\":\"1310\",\"type\":\"BasicTickFormatter\"},{\"attributes\":{\"margin\":[5,5,5,5],\"name\":\"HSpacer01208\",\"sizing_mode\":\"stretch_width\"},\"id\":\"1274\",\"type\":\"Spacer\"},{\"attributes\":{},\"id\":\"1298\",\"type\":\"WheelZoomTool\"},{\"attributes\":{\"tools\":[{\"id\":\"1277\"},{\"id\":\"1296\"},{\"id\":\"1297\"},{\"id\":\"1298\"},{\"id\":\"1299\"},{\"id\":\"1300\"}]},\"id\":\"1302\",\"type\":\"Toolbar\"},{\"attributes\":{\"children\":[{\"id\":\"1274\"},{\"id\":\"1279\"},{\"id\":\"1370\"}],\"margin\":[0,0,0,0],\"name\":\"Row01204\",\"tags\":[\"embedded\"]},\"id\":\"1273\",\"type\":\"Row\"}],\"root_ids\":[\"1273\"]},\"title\":\"Bokeh Application\",\"version\":\"2.4.3\"}};\n",
       "    var render_items = [{\"docid\":\"8c6850ef-5b7b-4921-96d4-efc59ab5d080\",\"root_ids\":[\"1273\"],\"roots\":{\"1273\":\"eec2f1cc-5d9f-44dd-b69d-c6d8c650c579\"}}];\n",
       "    root.Bokeh.embed.embed_items_notebook(docs_json, render_items);\n",
       "    for (const render_item of render_items) {\n",
       "      for (const root_id of render_item.root_ids) {\n",
       "\tconst id_el = document.getElementById(root_id)\n",
       "\tif (id_el.children.length && (id_el.children[0].className === 'bk-root')) {\n",
       "\t  const root_el = id_el.children[0]\n",
       "\t  root_el.id = root_el.id + '-rendered'\n",
       "\t}\n",
       "      }\n",
       "    }\n",
       "  }\n",
       "  if (root.Bokeh !== undefined && root.Bokeh.Panel !== undefined) {\n",
       "    embed_document(root);\n",
       "  } else {\n",
       "    var attempts = 0;\n",
       "    var timer = setInterval(function(root) {\n",
       "      if (root.Bokeh !== undefined && root.Bokeh.Panel !== undefined) {\n",
       "        clearInterval(timer);\n",
       "        embed_document(root);\n",
       "      } else if (document.readyState == \"complete\") {\n",
       "        attempts++;\n",
       "        if (attempts > 200) {\n",
       "          clearInterval(timer);\n",
       "          console.log(\"Bokeh: ERROR: Unable to run BokehJS code because BokehJS library is missing\");\n",
       "        }\n",
       "      }\n",
       "    }, 25, root)\n",
       "  }\n",
       "})(window);</script>"
      ],
      "text/plain": [
       ":NdOverlay   [Variable]\n",
       "   :Scatter   [frequencies]   (value)"
      ]
     },
     "execution_count": 64,
     "metadata": {
      "application/vnd.holoviews_exec.v0+json": {
       "id": "1273"
      }
     },
     "output_type": "execute_result"
    }
   ],
   "source": [
    "df.hvplot.scatter(x='frequencies', y=['Real_mu', 'Im_mu'])"
   ]
  },
  {
   "cell_type": "code",
   "execution_count": 33,
   "metadata": {
    "collapsed": false
   },
   "outputs": [],
   "source": [
    "\n",
    "df.to_csv('freq_measurements.csv')"
   ]
  },
  {
   "cell_type": "code",
   "execution_count": 88,
   "metadata": {},
   "outputs": [
    {
     "data": {
      "text/plain": [
       "<function lab_tools.uplot(x_ufloats, y_ufloats)>"
      ]
     },
     "execution_count": 88,
     "metadata": {},
     "output_type": "execute_result"
    }
   ],
   "source": []
  },
  {
   "cell_type": "code",
   "execution_count": null,
   "metadata": {},
   "outputs": [],
   "source": [
    "w = 2.45e+4\n",
    "udc = 2 * 610\n",
    "tau = 1 / w"
   ]
  },
  {
   "cell_type": "code",
   "execution_count": null,
   "metadata": {},
   "outputs": [
    {
     "data": {
      "image/png": "[encoded data removed]",
      "text/plain": [
       "<Figure size 640x480 with 1 Axes>"
      ]
     },
     "metadata": {},
     "output_type": "display_data"
    }
   ],
   "source": [
    "def real_thiory(udc, tau, w_list):\n",
    "    return udc  / ((1 + w_list**2 * tau**2))\n",
    "\n",
    "def im_thiory(udc, tau, w_list):\n",
    "    return udc * w_list * tau / ((1 + w_list**2 * tau**2))\n",
    "\n",
    "# w_list = np.exp(np.linspace(8, 20, 50))\n",
    "# w_list = np.linspace(8, 20, 50)\n",
    "fig1 = plt.figure()\n",
    "uplot(frequencies, Real_mu)\n",
    "# uplot(frequencies, Im_mu)\n",
    "plt.plot(frequencies, real_thiory(udc, tau, frequencies), '.')\n",
    "pyplot.xlabel('$\\omega$'+' [1/s]')\n",
    "pyplot.ylabel('Real($\\mu_r$)')\n",
    "pyplot.title('Real part of $\\mu$')\n",
    "pyplot.xscale('log')\n",
    "plt.grid()\n",
    "# plt.savefig('images/real.svg', format='svg')"
   ]
  },
  {
   "cell_type": "code",
   "execution_count": null,
   "metadata": {},
   "outputs": [
    {
     "data": {
      "image/png": "[encoded data removed]",
      "text/plain": [
       "<Figure size 640x480 with 1 Axes>"
      ]
     },
     "metadata": {},
     "output_type": "display_data"
    }
   ],
   "source": [
    "w_list = np.exp(np.linspace(8, 20, 50))\n",
    "fig1 = plt.figure()\n",
    "# uplot(frequencies, Real_mu)\n",
    "uplot(frequencies, Im_mu)\n",
    "plt.plot(w_list, im_thiory(udc, tau, w_list))\n",
    "pyplot.xlabel('$\\omega$'+' [1/s]')\n",
    "pyplot.ylabel('Im($\\mu_r$)')\n",
    "pyplot.title('Imaginery part of $\\mu$')\n",
    "pyplot.xscale('log')\n",
    "plt.grid()"
   ]
  }
 ],
 "metadata": {
  "kernelspec": {
   "display_name": "Python 3.10.8 64-bit",
   "language": "python",
   "name": "python3"
  },
  "language_info": {
   "codemirror_mode": {
    "name": "ipython",
    "version": 3
   },
   "file_extension": ".py",
   "mimetype": "text/x-python",
   "name": "python",
   "nbconvert_exporter": "python",
   "pygments_lexer": "ipython3",
   "version": "3.10.8"
  },
  "vscode": {
   "interpreter": {
    "hash": "949777d72b0d2535278d3dc13498b2535136f6dfe0678499012e853ee9abcab1"
   }
  }
 },
 "nbformat": 4,
 "nbformat_minor": 0
}
