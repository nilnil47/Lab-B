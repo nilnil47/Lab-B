{
 "cells": [
  {
   "cell_type": "code",
   "execution_count": 18,
   "metadata": {},
   "outputs": [],
   "source": [
    "import lab_tools\n",
    "import pandas as pd\n",
    "import os \n",
    "import pickle\n",
    "import numpy as np\n",
    "import hvplot.pandas  # noqa\n",
    "import matplotlib.pyplot as plt\n",
    "from scipy.optimize import curve_fit\n",
    "import uncertainties as unc\n",
    "import logging\n",
    "import copy\n",
    "from uncertainties import unumpy\n",
    "import plotly.express as px"
   ]
  },
  {
   "cell_type": "code",
   "execution_count": 14,
   "metadata": {},
   "outputs": [],
   "source": [
    "def uplot(x_ufloats, y_ufloats):\n",
    "    plt.errorbar( unumpy.nominal_values(x_ufloats), unumpy.nominal_values(y_ufloats),  xerr=unumpy.std_devs(x_ufloats), yerr= unumpy.std_devs(y_ufloats), fmt='o')  \n",
    "# constants\n",
    "R = unc.ufloat(19, 0.1)\n",
    "N = unc.ufloat(50, 1)\n"
   ]
  },
  {
   "cell_type": "code",
   "execution_count": 2,
   "metadata": {},
   "outputs": [],
   "source": [
    "termo_dict = lab_tools.load_pickle('termo')\n",
    "# termo_dict['freq'] = 507517 # hz"
   ]
  },
  {
   "cell_type": "code",
   "execution_count": 46,
   "metadata": {},
   "outputs": [],
   "source": [
    "amplitudes = lab_tools.find_amp(termo_dict)\n",
    "damy_amp = np.ones(amplitudes.shape)\n",
    "p = termo_dict['97']"
   ]
  },
  {
   "cell_type": "code",
   "execution_count": 41,
   "metadata": {},
   "outputs": [
    {
     "name": "stdout",
     "output_type": "stream",
     "text": [
      "0.6597715823326593\n",
      "0.619170653722109\n",
      "0.10150324774489998\n",
      "0.15225441485204852\n",
      "0.09135301939863984\n",
      "0.09135301939863984\n",
      "0.10150324774489998\n",
      "0.09135301939863984\n",
      "0.11165348116633003\n",
      "0.08120278597720978\n",
      "0.13195394800919014\n",
      "0.21315673398639992\n",
      "0.10150324774489998\n",
      "0.6800720491755194\n",
      "2.740591434587759\n",
      "3.2278081606013593\n",
      "0.7308241348884391\n",
      "0.7003734396993188\n",
      "2.720290957594559\n",
      "0.7105236731207488\n",
      "0.11165348116633003\n",
      "0.12180371458776008\n",
      "0.20300650056496988\n",
      "0.6496213539863992\n",
      "0.09135301939863984\n",
      "0.09135301939863984\n",
      "0.09135301939863984\n",
      "0.12180371458776008\n",
      "0.09135301939863984\n"
     ]
    },
    {
     "data": {
      "application/vnd.plotly.v1+json": {
       "config": {
        "plotlyServerURL": "https://plot.ly"
       },
       "data": [
        {
         "hovertemplate": "x=%{x}<br>y=%{y}<extra></extra>",
         "legendgroup": "",
         "marker": {
          "color": "#636efa",
          "symbol": "circle"
         },
         "mode": "markers",
         "name": "",
         "orientation": "v",
         "showlegend": false,
         "type": "scatter",
         "x": [
          97,
          90.5,
          61.8,
          94,
          76.5,
          56.5,
          47,
          94.5,
          39.9,
          70.5,
          87,
          121,
          79.8,
          124,
          130,
          127,
          134.5,
          100,
          115,
          139,
          103.8,
          86.5,
          107,
          113,
          75,
          48,
          62,
          83.5,
          59
         ],
         "xaxis": "x",
         "y": [
          0.6597715823326593,
          0.619170653722109,
          0.10150324774489998,
          0.15225441485204852,
          0.09135301939863984,
          0.09135301939863984,
          0.10150324774489998,
          0.09135301939863984,
          0.11165348116633003,
          0.08120278597720978,
          0.13195394800919014,
          0.21315673398639992,
          0.10150324774489998,
          0.6800720491755194,
          2.740591434587759,
          3.2278081606013593,
          0.7308241348884391,
          0.7003734396993188,
          2.720290957594559,
          0.7105236731207488,
          0.11165348116633003,
          0.12180371458776008,
          0.20300650056496988,
          0.6496213539863992,
          0.09135301939863984,
          0.09135301939863984,
          0.09135301939863984,
          0.12180371458776008,
          0.09135301939863984
         ],
         "yaxis": "y"
        }
       ],
       "layout": {
        "legend": {
         "tracegroupgap": 0
        },
        "margin": {
         "t": 60
        },
        "template": {
         "data": {
          "bar": [
           {
            "error_x": {
             "color": "#2a3f5f"
            },
            "error_y": {
             "color": "#2a3f5f"
            },
            "marker": {
             "line": {
              "color": "#E5ECF6",
              "width": 0.5
             },
             "pattern": {
              "fillmode": "overlay",
              "size": 10,
              "solidity": 0.2
             }
            },
            "type": "bar"
           }
          ],
          "barpolar": [
           {
            "marker": {
             "line": {
              "color": "#E5ECF6",
              "width": 0.5
             },
             "pattern": {
              "fillmode": "overlay",
              "size": 10,
              "solidity": 0.2
             }
            },
            "type": "barpolar"
           }
          ],
          "carpet": [
           {
            "aaxis": {
             "endlinecolor": "#2a3f5f",
             "gridcolor": "white",
             "linecolor": "white",
             "minorgridcolor": "white",
             "startlinecolor": "#2a3f5f"
            },
            "baxis": {
             "endlinecolor": "#2a3f5f",
             "gridcolor": "white",
             "linecolor": "white",
             "minorgridcolor": "white",
             "startlinecolor": "#2a3f5f"
            },
            "type": "carpet"
           }
          ],
          "choropleth": [
           {
            "colorbar": {
             "outlinewidth": 0,
             "ticks": ""
            },
            "type": "choropleth"
           }
          ],
          "contour": [
           {
            "colorbar": {
             "outlinewidth": 0,
             "ticks": ""
            },
            "colorscale": [
             [
              0,
              "#0d0887"
             ],
             [
              0.1111111111111111,
              "#46039f"
             ],
             [
              0.2222222222222222,
              "#7201a8"
             ],
             [
              0.3333333333333333,
              "#9c179e"
             ],
             [
              0.4444444444444444,
              "#bd3786"
             ],
             [
              0.5555555555555556,
              "#d8576b"
             ],
             [
              0.6666666666666666,
              "#ed7953"
             ],
             [
              0.7777777777777778,
              "#fb9f3a"
             ],
             [
              0.8888888888888888,
              "#fdca26"
             ],
             [
              1,
              "#f0f921"
             ]
            ],
            "type": "contour"
           }
          ],
          "contourcarpet": [
           {
            "colorbar": {
             "outlinewidth": 0,
             "ticks": ""
            },
            "type": "contourcarpet"
           }
          ],
          "heatmap": [
           {
            "colorbar": {
             "outlinewidth": 0,
             "ticks": ""
            },
            "colorscale": [
             [
              0,
              "#0d0887"
             ],
             [
              0.1111111111111111,
              "#46039f"
             ],
             [
              0.2222222222222222,
              "#7201a8"
             ],
             [
              0.3333333333333333,
              "#9c179e"
             ],
             [
              0.4444444444444444,
              "#bd3786"
             ],
             [
              0.5555555555555556,
              "#d8576b"
             ],
             [
              0.6666666666666666,
              "#ed7953"
             ],
             [
              0.7777777777777778,
              "#fb9f3a"
             ],
             [
              0.8888888888888888,
              "#fdca26"
             ],
             [
              1,
              "#f0f921"
             ]
            ],
            "type": "heatmap"
           }
          ],
          "heatmapgl": [
           {
            "colorbar": {
             "outlinewidth": 0,
             "ticks": ""
            },
            "colorscale": [
             [
              0,
              "#0d0887"
             ],
             [
              0.1111111111111111,
              "#46039f"
             ],
             [
              0.2222222222222222,
              "#7201a8"
             ],
             [
              0.3333333333333333,
              "#9c179e"
             ],
             [
              0.4444444444444444,
              "#bd3786"
             ],
             [
              0.5555555555555556,
              "#d8576b"
             ],
             [
              0.6666666666666666,
              "#ed7953"
             ],
             [
              0.7777777777777778,
              "#fb9f3a"
             ],
             [
              0.8888888888888888,
              "#fdca26"
             ],
             [
              1,
              "#f0f921"
             ]
            ],
            "type": "heatmapgl"
           }
          ],
          "histogram": [
           {
            "marker": {
             "pattern": {
              "fillmode": "overlay",
              "size": 10,
              "solidity": 0.2
             }
            },
            "type": "histogram"
           }
          ],
          "histogram2d": [
           {
            "colorbar": {
             "outlinewidth": 0,
             "ticks": ""
            },
            "colorscale": [
             [
              0,
              "#0d0887"
             ],
             [
              0.1111111111111111,
              "#46039f"
             ],
             [
              0.2222222222222222,
              "#7201a8"
             ],
             [
              0.3333333333333333,
              "#9c179e"
             ],
             [
              0.4444444444444444,
              "#bd3786"
             ],
             [
              0.5555555555555556,
              "#d8576b"
             ],
             [
              0.6666666666666666,
              "#ed7953"
             ],
             [
              0.7777777777777778,
              "#fb9f3a"
             ],
             [
              0.8888888888888888,
              "#fdca26"
             ],
             [
              1,
              "#f0f921"
             ]
            ],
            "type": "histogram2d"
           }
          ],
          "histogram2dcontour": [
           {
            "colorbar": {
             "outlinewidth": 0,
             "ticks": ""
            },
            "colorscale": [
             [
              0,
              "#0d0887"
             ],
             [
              0.1111111111111111,
              "#46039f"
             ],
             [
              0.2222222222222222,
              "#7201a8"
             ],
             [
              0.3333333333333333,
              "#9c179e"
             ],
             [
              0.4444444444444444,
              "#bd3786"
             ],
             [
              0.5555555555555556,
              "#d8576b"
             ],
             [
              0.6666666666666666,
              "#ed7953"
             ],
             [
              0.7777777777777778,
              "#fb9f3a"
             ],
             [
              0.8888888888888888,
              "#fdca26"
             ],
             [
              1,
              "#f0f921"
             ]
            ],
            "type": "histogram2dcontour"
           }
          ],
          "mesh3d": [
           {
            "colorbar": {
             "outlinewidth": 0,
             "ticks": ""
            },
            "type": "mesh3d"
           }
          ],
          "parcoords": [
           {
            "line": {
             "colorbar": {
              "outlinewidth": 0,
              "ticks": ""
             }
            },
            "type": "parcoords"
           }
          ],
          "pie": [
           {
            "automargin": true,
            "type": "pie"
           }
          ],
          "scatter": [
           {
            "fillpattern": {
             "fillmode": "overlay",
             "size": 10,
             "solidity": 0.2
            },
            "type": "scatter"
           }
          ],
          "scatter3d": [
           {
            "line": {
             "colorbar": {
              "outlinewidth": 0,
              "ticks": ""
             }
            },
            "marker": {
             "colorbar": {
              "outlinewidth": 0,
              "ticks": ""
             }
            },
            "type": "scatter3d"
           }
          ],
          "scattercarpet": [
           {
            "marker": {
             "colorbar": {
              "outlinewidth": 0,
              "ticks": ""
             }
            },
            "type": "scattercarpet"
           }
          ],
          "scattergeo": [
           {
            "marker": {
             "colorbar": {
              "outlinewidth": 0,
              "ticks": ""
             }
            },
            "type": "scattergeo"
           }
          ],
          "scattergl": [
           {
            "marker": {
             "colorbar": {
              "outlinewidth": 0,
              "ticks": ""
             }
            },
            "type": "scattergl"
           }
          ],
          "scattermapbox": [
           {
            "marker": {
             "colorbar": {
              "outlinewidth": 0,
              "ticks": ""
             }
            },
            "type": "scattermapbox"
           }
          ],
          "scatterpolar": [
           {
            "marker": {
             "colorbar": {
              "outlinewidth": 0,
              "ticks": ""
             }
            },
            "type": "scatterpolar"
           }
          ],
          "scatterpolargl": [
           {
            "marker": {
             "colorbar": {
              "outlinewidth": 0,
              "ticks": ""
             }
            },
            "type": "scatterpolargl"
           }
          ],
          "scatterternary": [
           {
            "marker": {
             "colorbar": {
              "outlinewidth": 0,
              "ticks": ""
             }
            },
            "type": "scatterternary"
           }
          ],
          "surface": [
           {
            "colorbar": {
             "outlinewidth": 0,
             "ticks": ""
            },
            "colorscale": [
             [
              0,
              "#0d0887"
             ],
             [
              0.1111111111111111,
              "#46039f"
             ],
             [
              0.2222222222222222,
              "#7201a8"
             ],
             [
              0.3333333333333333,
              "#9c179e"
             ],
             [
              0.4444444444444444,
              "#bd3786"
             ],
             [
              0.5555555555555556,
              "#d8576b"
             ],
             [
              0.6666666666666666,
              "#ed7953"
             ],
             [
              0.7777777777777778,
              "#fb9f3a"
             ],
             [
              0.8888888888888888,
              "#fdca26"
             ],
             [
              1,
              "#f0f921"
             ]
            ],
            "type": "surface"
           }
          ],
          "table": [
           {
            "cells": {
             "fill": {
              "color": "#EBF0F8"
             },
             "line": {
              "color": "white"
             }
            },
            "header": {
             "fill": {
              "color": "#C8D4E3"
             },
             "line": {
              "color": "white"
             }
            },
            "type": "table"
           }
          ]
         },
         "layout": {
          "annotationdefaults": {
           "arrowcolor": "#2a3f5f",
           "arrowhead": 0,
           "arrowwidth": 1
          },
          "autotypenumbers": "strict",
          "coloraxis": {
           "colorbar": {
            "outlinewidth": 0,
            "ticks": ""
           }
          },
          "colorscale": {
           "diverging": [
            [
             0,
             "#8e0152"
            ],
            [
             0.1,
             "#c51b7d"
            ],
            [
             0.2,
             "#de77ae"
            ],
            [
             0.3,
             "#f1b6da"
            ],
            [
             0.4,
             "#fde0ef"
            ],
            [
             0.5,
             "#f7f7f7"
            ],
            [
             0.6,
             "#e6f5d0"
            ],
            [
             0.7,
             "#b8e186"
            ],
            [
             0.8,
             "#7fbc41"
            ],
            [
             0.9,
             "#4d9221"
            ],
            [
             1,
             "#276419"
            ]
           ],
           "sequential": [
            [
             0,
             "#0d0887"
            ],
            [
             0.1111111111111111,
             "#46039f"
            ],
            [
             0.2222222222222222,
             "#7201a8"
            ],
            [
             0.3333333333333333,
             "#9c179e"
            ],
            [
             0.4444444444444444,
             "#bd3786"
            ],
            [
             0.5555555555555556,
             "#d8576b"
            ],
            [
             0.6666666666666666,
             "#ed7953"
            ],
            [
             0.7777777777777778,
             "#fb9f3a"
            ],
            [
             0.8888888888888888,
             "#fdca26"
            ],
            [
             1,
             "#f0f921"
            ]
           ],
           "sequentialminus": [
            [
             0,
             "#0d0887"
            ],
            [
             0.1111111111111111,
             "#46039f"
            ],
            [
             0.2222222222222222,
             "#7201a8"
            ],
            [
             0.3333333333333333,
             "#9c179e"
            ],
            [
             0.4444444444444444,
             "#bd3786"
            ],
            [
             0.5555555555555556,
             "#d8576b"
            ],
            [
             0.6666666666666666,
             "#ed7953"
            ],
            [
             0.7777777777777778,
             "#fb9f3a"
            ],
            [
             0.8888888888888888,
             "#fdca26"
            ],
            [
             1,
             "#f0f921"
            ]
           ]
          },
          "colorway": [
           "#636efa",
           "#EF553B",
           "#00cc96",
           "#ab63fa",
           "#FFA15A",
           "#19d3f3",
           "#FF6692",
           "#B6E880",
           "#FF97FF",
           "#FECB52"
          ],
          "font": {
           "color": "#2a3f5f"
          },
          "geo": {
           "bgcolor": "white",
           "lakecolor": "white",
           "landcolor": "#E5ECF6",
           "showlakes": true,
           "showland": true,
           "subunitcolor": "white"
          },
          "hoverlabel": {
           "align": "left"
          },
          "hovermode": "closest",
          "mapbox": {
           "style": "light"
          },
          "paper_bgcolor": "white",
          "plot_bgcolor": "#E5ECF6",
          "polar": {
           "angularaxis": {
            "gridcolor": "white",
            "linecolor": "white",
            "ticks": ""
           },
           "bgcolor": "#E5ECF6",
           "radialaxis": {
            "gridcolor": "white",
            "linecolor": "white",
            "ticks": ""
           }
          },
          "scene": {
           "xaxis": {
            "backgroundcolor": "#E5ECF6",
            "gridcolor": "white",
            "gridwidth": 2,
            "linecolor": "white",
            "showbackground": true,
            "ticks": "",
            "zerolinecolor": "white"
           },
           "yaxis": {
            "backgroundcolor": "#E5ECF6",
            "gridcolor": "white",
            "gridwidth": 2,
            "linecolor": "white",
            "showbackground": true,
            "ticks": "",
            "zerolinecolor": "white"
           },
           "zaxis": {
            "backgroundcolor": "#E5ECF6",
            "gridcolor": "white",
            "gridwidth": 2,
            "linecolor": "white",
            "showbackground": true,
            "ticks": "",
            "zerolinecolor": "white"
           }
          },
          "shapedefaults": {
           "line": {
            "color": "#2a3f5f"
           }
          },
          "ternary": {
           "aaxis": {
            "gridcolor": "white",
            "linecolor": "white",
            "ticks": ""
           },
           "baxis": {
            "gridcolor": "white",
            "linecolor": "white",
            "ticks": ""
           },
           "bgcolor": "#E5ECF6",
           "caxis": {
            "gridcolor": "white",
            "linecolor": "white",
            "ticks": ""
           }
          },
          "title": {
           "x": 0.05
          },
          "xaxis": {
           "automargin": true,
           "gridcolor": "white",
           "linecolor": "white",
           "ticks": "",
           "title": {
            "standoff": 15
           },
           "zerolinecolor": "white",
           "zerolinewidth": 2
          },
          "yaxis": {
           "automargin": true,
           "gridcolor": "white",
           "linecolor": "white",
           "ticks": "",
           "title": {
            "standoff": 15
           },
           "zerolinecolor": "white",
           "zerolinewidth": 2
          }
         }
        },
        "xaxis": {
         "anchor": "y",
         "domain": [
          0,
          1
         ],
         "title": {
          "text": "x"
         }
        },
        "yaxis": {
         "anchor": "x",
         "domain": [
          0,
          1
         ],
         "title": {
          "text": "y"
         }
        }
       }
      }
     },
     "metadata": {},
     "output_type": "display_data"
    }
   ],
   "source": [
    "def find_zeros(x, y):\n",
    "    return x[y == 0]\n",
    "\n",
    "def find_phase_diff(df, w):\n",
    "    p_0 = lab_tools.findzeros(df['t'], df['x'])[0][0]\n",
    "    p_1 = lab_tools.findzeros(df['t'], df['y'])[0][0]\n",
    "    # p_0 = find_zeros(np.array(df['t']), np.array(df['x']))[0]\n",
    "    # p_1 = find_zeros(np.array(df['t']), np.array(df['y']))[0]\n",
    "\n",
    "    delta_p = w * (p_1 - p_0)\n",
    "    return delta_p\n",
    "\n",
    "phases = []\n",
    "temps = []\n",
    "\n",
    "for k,df in termo_dict.items():\n",
    "    val = find_phase_diff(df, lab_tools.Constants.Termo.f_in)\n",
    "    print(val)\n",
    "    phases.append(val)\n",
    "    temps.append(float(k))\n",
    "\n",
    "px.scatter(x=temps, y=phases)"
   ]
  },
  {
   "cell_type": "code",
   "execution_count": null,
   "metadata": {},
   "outputs": [],
   "source": [
    "import logging\n",
    "logging.basicConfig(level=logging.WARNING)\n",
    "\n",
    "phases = []\n",
    "frequencies = []\n",
    "amplitudes = []\n",
    "faild_fits = {}\n",
    "\n",
    "def find_phase(w,a1,p1,c1,a2,p2,c2):\n",
    "    f = 2 * np.pi / w\n",
    "    return f * np.abs(p1 - p2)\n",
    "\n",
    "def find_z(w,a1,p1,c1,a2,p2,c2):\n",
    "    return a2 / a1\n",
    "\n",
    "funcs = {'phase': find_phase, 'z': find_z}\n",
    "limits = {'z': [0, 10000]}\n",
    "\n",
    "\n",
    "for freq, df in copy.deepcopy(termo_dict).items():\n",
    "    float_freq = float(freq)\n",
    "    logging.info(f\"frequency is {freq}\")\n",
    "    result = lab_tools.extract_data_from_fit(funcs, df, lab_tools.Constants.Termo.f_in, display=False)\n",
    "\n",
    "    if result:\n",
    "        frequencies.append(float(freq))\n",
    "        phases.append(result['phase'])\n",
    "        amplitudes.append(result['z'])\n",
    "\n",
    "    else:\n",
    "        faild_fits[freq] = df\n",
    "        del termo_dict[freq]"
   ]
  },
  {
   "cell_type": "code",
   "execution_count": 45,
   "metadata": {},
   "outputs": [
    {
     "ename": "NameError",
     "evalue": "name 'R' is not defined",
     "output_type": "error",
     "traceback": [
      "\u001b[0;31m---------------------------------------------------------------------------\u001b[0m",
      "\u001b[0;31mNameError\u001b[0m                                 Traceback (most recent call last)",
      "Cell \u001b[0;32mIn [45], line 7\u001b[0m\n\u001b[1;32m      4\u001b[0m L_effective \u001b[39m=\u001b[39m []\n\u001b[1;32m      6\u001b[0m \u001b[39mfor\u001b[39;00m index \u001b[39min\u001b[39;00m \u001b[39mrange\u001b[39m(\u001b[39mlen\u001b[39m(amplitudes)):\n\u001b[0;32m----> 7\u001b[0m     R_effective\u001b[39m.\u001b[39mappend(amplitudes[index]\u001b[39m*\u001b[39mnp\u001b[39m.\u001b[39mcos(phases[index]) \u001b[39m-\u001b[39m R)\n\u001b[1;32m      8\u001b[0m     L_effective\u001b[39m.\u001b[39mappend(amplitudes[index]\u001b[39m*\u001b[39mnp\u001b[39m.\u001b[39msin(phases[index])\u001b[39m/\u001b[39m(\u001b[39m2\u001b[39m\u001b[39m*\u001b[39mnp\u001b[39m.\u001b[39mpi))\n\u001b[1;32m     10\u001b[0m Real_mu \u001b[39m=\u001b[39m []\n",
      "\u001b[0;31mNameError\u001b[0m: name 'R' is not defined"
     ]
    }
   ],
   "source": [
    "from scipy.constants import mu_0 as mu_0\n",
    "amplitudes = damy_amp\n",
    "R_effective = []\n",
    "L_effective = []\n",
    "\n",
    "for index in range(len(amplitudes)):\n",
    "    R_effective.append(amplitudes[index]*np.cos(phases[index]) - R)\n",
    "    L_effective.append(amplitudes[index]*np.sin(phases[index])/(2*np.pi))\n",
    "\n",
    "Real_mu = []\n",
    "Im_mu = []\n",
    "\n",
    "# for index in range(len(R_effective)):\n",
    "#     Real_mu.append(np.abs(R_effective[index]/(mu_0*frequencies[index]*(lab_tools.Constants.N**2))))\n",
    "#     Im_mu.append(L_effective[index]/(mu_0*frequencies[index]*(N**2)))\n",
    "\n"
   ]
  },
  {
   "cell_type": "code",
   "execution_count": 13,
   "metadata": {},
   "outputs": [
    {
     "data": {
      "text/html": [
       "<div>\n",
       "<style scoped>\n",
       "    .dataframe tbody tr th:only-of-type {\n",
       "        vertical-align: middle;\n",
       "    }\n",
       "\n",
       "    .dataframe tbody tr th {\n",
       "        vertical-align: top;\n",
       "    }\n",
       "\n",
       "    .dataframe thead th {\n",
       "        text-align: right;\n",
       "    }\n",
       "</style>\n",
       "<table border=\"1\" class=\"dataframe\">\n",
       "  <thead>\n",
       "    <tr style=\"text-align: right;\">\n",
       "      <th></th>\n",
       "      <th>temperature</th>\n",
       "      <th>amplitude</th>\n",
       "    </tr>\n",
       "  </thead>\n",
       "  <tbody>\n",
       "    <tr>\n",
       "      <th>0</th>\n",
       "      <td>-97.0</td>\n",
       "      <td>6.650000</td>\n",
       "    </tr>\n",
       "    <tr>\n",
       "      <th>1</th>\n",
       "      <td>-90.5</td>\n",
       "      <td>9.975000</td>\n",
       "    </tr>\n",
       "    <tr>\n",
       "      <th>2</th>\n",
       "      <td>-61.8</td>\n",
       "      <td>47.879999</td>\n",
       "    </tr>\n",
       "    <tr>\n",
       "      <th>3</th>\n",
       "      <td>-94.0</td>\n",
       "      <td>7.600000</td>\n",
       "    </tr>\n",
       "    <tr>\n",
       "      <th>5</th>\n",
       "      <td>-76.5</td>\n",
       "      <td>19.949999</td>\n",
       "    </tr>\n",
       "    <tr>\n",
       "      <th>6</th>\n",
       "      <td>-56.5</td>\n",
       "      <td>60.799999</td>\n",
       "    </tr>\n",
       "    <tr>\n",
       "      <th>7</th>\n",
       "      <td>-47.0</td>\n",
       "      <td>79.799998</td>\n",
       "    </tr>\n",
       "    <tr>\n",
       "      <th>8</th>\n",
       "      <td>-94.5</td>\n",
       "      <td>21.763636</td>\n",
       "    </tr>\n",
       "    <tr>\n",
       "      <th>9</th>\n",
       "      <td>-39.9</td>\n",
       "      <td>79.799998</td>\n",
       "    </tr>\n",
       "    <tr>\n",
       "      <th>10</th>\n",
       "      <td>-70.5</td>\n",
       "      <td>27.022222</td>\n",
       "    </tr>\n",
       "    <tr>\n",
       "      <th>11</th>\n",
       "      <td>-87.0</td>\n",
       "      <td>10.133333</td>\n",
       "    </tr>\n",
       "    <tr>\n",
       "      <th>13</th>\n",
       "      <td>-121.0</td>\n",
       "      <td>5.093617</td>\n",
       "    </tr>\n",
       "    <tr>\n",
       "      <th>14</th>\n",
       "      <td>-79.8</td>\n",
       "      <td>16.510344</td>\n",
       "    </tr>\n",
       "    <tr>\n",
       "      <th>15</th>\n",
       "      <td>-124.0</td>\n",
       "      <td>6.138462</td>\n",
       "    </tr>\n",
       "    <tr>\n",
       "      <th>16</th>\n",
       "      <td>-130.0</td>\n",
       "      <td>5.320000</td>\n",
       "    </tr>\n",
       "    <tr>\n",
       "      <th>17</th>\n",
       "      <td>-127.0</td>\n",
       "      <td>5.093617</td>\n",
       "    </tr>\n",
       "    <tr>\n",
       "      <th>18</th>\n",
       "      <td>-134.5</td>\n",
       "      <td>5.093617</td>\n",
       "    </tr>\n",
       "    <tr>\n",
       "      <th>19</th>\n",
       "      <td>-100.0</td>\n",
       "      <td>6.300000</td>\n",
       "    </tr>\n",
       "    <tr>\n",
       "      <th>20</th>\n",
       "      <td>-115.0</td>\n",
       "      <td>5.174468</td>\n",
       "    </tr>\n",
       "    <tr>\n",
       "      <th>21</th>\n",
       "      <td>-139.0</td>\n",
       "      <td>4.987500</td>\n",
       "    </tr>\n",
       "    <tr>\n",
       "      <th>22</th>\n",
       "      <td>-103.8</td>\n",
       "      <td>13.300000</td>\n",
       "    </tr>\n",
       "    <tr>\n",
       "      <th>23</th>\n",
       "      <td>-86.5</td>\n",
       "      <td>11.400000</td>\n",
       "    </tr>\n",
       "    <tr>\n",
       "      <th>24</th>\n",
       "      <td>-107.0</td>\n",
       "      <td>6.138462</td>\n",
       "    </tr>\n",
       "    <tr>\n",
       "      <th>25</th>\n",
       "      <td>-113.0</td>\n",
       "      <td>7.152941</td>\n",
       "    </tr>\n",
       "    <tr>\n",
       "      <th>26</th>\n",
       "      <td>-75.0</td>\n",
       "      <td>27.022222</td>\n",
       "    </tr>\n",
       "    <tr>\n",
       "      <th>27</th>\n",
       "      <td>-48.0</td>\n",
       "      <td>68.399998</td>\n",
       "    </tr>\n",
       "    <tr>\n",
       "      <th>28</th>\n",
       "      <td>-62.0</td>\n",
       "      <td>48.639999</td>\n",
       "    </tr>\n",
       "    <tr>\n",
       "      <th>29</th>\n",
       "      <td>-83.5</td>\n",
       "      <td>13.511111</td>\n",
       "    </tr>\n",
       "    <tr>\n",
       "      <th>30</th>\n",
       "      <td>-59.0</td>\n",
       "      <td>47.879999</td>\n",
       "    </tr>\n",
       "  </tbody>\n",
       "</table>\n",
       "</div>"
      ],
      "text/plain": [
       "    temperature  amplitude\n",
       "0         -97.0   6.650000\n",
       "1         -90.5   9.975000\n",
       "2         -61.8  47.879999\n",
       "3         -94.0   7.600000\n",
       "5         -76.5  19.949999\n",
       "6         -56.5  60.799999\n",
       "7         -47.0  79.799998\n",
       "8         -94.5  21.763636\n",
       "9         -39.9  79.799998\n",
       "10        -70.5  27.022222\n",
       "11        -87.0  10.133333\n",
       "13       -121.0   5.093617\n",
       "14        -79.8  16.510344\n",
       "15       -124.0   6.138462\n",
       "16       -130.0   5.320000\n",
       "17       -127.0   5.093617\n",
       "18       -134.5   5.093617\n",
       "19       -100.0   6.300000\n",
       "20       -115.0   5.174468\n",
       "21       -139.0   4.987500\n",
       "22       -103.8  13.300000\n",
       "23        -86.5  11.400000\n",
       "24       -107.0   6.138462\n",
       "25       -113.0   7.152941\n",
       "26        -75.0  27.022222\n",
       "27        -48.0  68.399998\n",
       "28        -62.0  48.639999\n",
       "29        -83.5  13.511111\n",
       "30        -59.0  47.879999"
      ]
     },
     "execution_count": 13,
     "metadata": {},
     "output_type": "execute_result"
    }
   ],
   "source": [
    "path =\"/Users/user/Documents/semster_c/courses/lab/magnetisem/extension2/termo/balanced\"\n",
    "d = lab_tools.read_to_dict(path)\n",
    "termo_df = lab_tools.find_amp(d)\n",
    "termo_df = termo_df.drop(4)\n",
    "termo_df = termo_df.drop(12)\n",
    "termo_df"
   ]
  },
  {
   "cell_type": "code",
   "execution_count": null,
   "metadata": {},
   "outputs": [],
   "source": [
    "z = lab_tools.findzeros(p[t], p[x])\n",
    "z"
   ]
  },
  {
   "cell_type": "code",
   "execution_count": 24,
   "metadata": {},
   "outputs": [
    {
     "name": "stdout",
     "output_type": "stream",
     "text": [
      "([2.36800006e-05, 0.0], [-1.0399995e-06, 0.0])\n",
      "([2.497999958e-05, 0.0], [-1.99995203e-08, 0.0])\n"
     ]
    },
    {
     "data": {
      "text/plain": [
       "1.2999989799999987e-06"
      ]
     },
     "execution_count": 24,
     "metadata": {},
     "output_type": "execute_result"
    }
   ],
   "source": [
    "find_phase_diff(p)"
   ]
  },
  {
   "cell_type": "code",
   "execution_count": 38,
   "metadata": {},
   "outputs": [
    {
     "data": {
      "text/plain": [
       "array([-2.47600001e-05, -2.27799992e-05, -2.08000001e-05, -1.97999998e-05,\n",
       "       -1.78199989e-05, -1.58399998e-05, -1.28999991e-05, -1.09199991e-05,\n",
       "       -7.93999971e-06, -5.95999927e-06, -3.01999944e-06, -1.03999950e-06,\n",
       "        1.94000040e-06,  3.92000038e-06,  8.84000019e-06,  1.08200002e-05,\n",
       "        1.18200005e-05,  1.38000005e-05,  1.57800005e-05,  1.87200003e-05,\n",
       "        2.07000012e-05,  2.36800006e-05])"
      ]
     },
     "execution_count": 38,
     "metadata": {},
     "output_type": "execute_result"
    }
   ],
   "source": [
    "d = find_zeros(np.array(df['t']), np.array(df['x']))\n",
    "d"
   ]
  },
  {
   "cell_type": "code",
   "execution_count": 25,
   "metadata": {},
   "outputs": [
    {
     "data": {},
     "metadata": {},
     "output_type": "display_data"
    },
    {
     "data": {
      "application/vnd.holoviews_exec.v0+json": "",
      "text/html": [
       "<div id='1161'>\n",
       "  <div class=\"bk-root\" id=\"0ef9894a-c76a-49c4-ad47-87f6db46c197\" data-root-id=\"1161\"></div>\n",
       "</div>\n",
       "<script type=\"application/javascript\">(function(root) {\n",
       "  function embed_document(root) {\n",
       "    var docs_json = {\"eaa15bde-3da5-432b-b8c9-2d81fc96c67c\":{\"defs\":[{\"extends\":null,\"module\":null,\"name\":\"ReactiveHTML1\",\"overrides\":[],\"properties\":[]},{\"extends\":null,\"module\":null,\"name\":\"FlexBox1\",\"overrides\":[],\"properties\":[{\"default\":\"flex-start\",\"kind\":null,\"name\":\"align_content\"},{\"default\":\"flex-start\",\"kind\":null,\"name\":\"align_items\"},{\"default\":\"row\",\"kind\":null,\"name\":\"flex_direction\"},{\"default\":\"wrap\",\"kind\":null,\"name\":\"flex_wrap\"},{\"default\":\"flex-start\",\"kind\":null,\"name\":\"justify_content\"}]},{\"extends\":null,\"module\":null,\"name\":\"GridStack1\",\"overrides\":[],\"properties\":[{\"default\":\"warn\",\"kind\":null,\"name\":\"mode\"},{\"default\":null,\"kind\":null,\"name\":\"ncols\"},{\"default\":null,\"kind\":null,\"name\":\"nrows\"},{\"default\":true,\"kind\":null,\"name\":\"allow_resize\"},{\"default\":true,\"kind\":null,\"name\":\"allow_drag\"},{\"default\":[],\"kind\":null,\"name\":\"state\"}]},{\"extends\":null,\"module\":null,\"name\":\"click1\",\"overrides\":[],\"properties\":[{\"default\":\"\",\"kind\":null,\"name\":\"terminal_output\"},{\"default\":\"\",\"kind\":null,\"name\":\"debug_name\"},{\"default\":0,\"kind\":null,\"name\":\"clears\"}]},{\"extends\":null,\"module\":null,\"name\":\"NotificationAreaBase1\",\"overrides\":[],\"properties\":[{\"default\":\"bottom-right\",\"kind\":null,\"name\":\"position\"},{\"default\":0,\"kind\":null,\"name\":\"_clear\"}]},{\"extends\":null,\"module\":null,\"name\":\"NotificationArea1\",\"overrides\":[],\"properties\":[{\"default\":[],\"kind\":null,\"name\":\"notifications\"},{\"default\":\"bottom-right\",\"kind\":null,\"name\":\"position\"},{\"default\":0,\"kind\":null,\"name\":\"_clear\"},{\"default\":[{\"background\":\"#ffc107\",\"icon\":{\"className\":\"fas fa-exclamation-triangle\",\"color\":\"white\",\"tagName\":\"i\"},\"type\":\"warning\"},{\"background\":\"#007bff\",\"icon\":{\"className\":\"fas fa-info-circle\",\"color\":\"white\",\"tagName\":\"i\"},\"type\":\"info\"}],\"kind\":null,\"name\":\"types\"}]},{\"extends\":null,\"module\":null,\"name\":\"Notification\",\"overrides\":[],\"properties\":[{\"default\":null,\"kind\":null,\"name\":\"background\"},{\"default\":3000,\"kind\":null,\"name\":\"duration\"},{\"default\":null,\"kind\":null,\"name\":\"icon\"},{\"default\":\"\",\"kind\":null,\"name\":\"message\"},{\"default\":null,\"kind\":null,\"name\":\"notification_type\"},{\"default\":false,\"kind\":null,\"name\":\"_destroyed\"}]},{\"extends\":null,\"module\":null,\"name\":\"TemplateActions1\",\"overrides\":[],\"properties\":[{\"default\":0,\"kind\":null,\"name\":\"open_modal\"},{\"default\":0,\"kind\":null,\"name\":\"close_modal\"}]},{\"extends\":null,\"module\":null,\"name\":\"MaterialTemplateActions1\",\"overrides\":[],\"properties\":[{\"default\":0,\"kind\":null,\"name\":\"open_modal\"},{\"default\":0,\"kind\":null,\"name\":\"close_modal\"}]}],\"roots\":{\"references\":[{\"attributes\":{},\"id\":\"1198\",\"type\":\"BasicTickFormatter\"},{\"attributes\":{},\"id\":\"1241\",\"type\":\"UnionRenderers\"},{\"attributes\":{},\"id\":\"1199\",\"type\":\"AllLabels\"},{\"attributes\":{\"label\":{\"value\":\"x\"},\"renderers\":[{\"id\":\"1209\"}]},\"id\":\"1222\",\"type\":\"LegendItem\"},{\"attributes\":{},\"id\":\"1202\",\"type\":\"AllLabels\"},{\"attributes\":{\"angle\":{\"value\":0.0},\"fill_alpha\":{\"value\":1.0},\"fill_color\":{\"value\":\"#30a2da\"},\"hatch_alpha\":{\"value\":1.0},\"hatch_color\":{\"value\":\"#30a2da\"},\"hatch_scale\":{\"value\":12.0},\"hatch_weight\":{\"value\":1.0},\"line_alpha\":{\"value\":1.0},\"line_cap\":{\"value\":\"butt\"},\"line_color\":{\"value\":\"#30a2da\"},\"line_dash\":{\"value\":[]},\"line_dash_offset\":{\"value\":0},\"line_join\":{\"value\":\"bevel\"},\"line_width\":{\"value\":1},\"marker\":{\"value\":\"circle\"},\"size\":{\"value\":5.477225575051661},\"x\":{\"field\":\"t\"},\"y\":{\"field\":\"value\"}},\"id\":\"1223\",\"type\":\"Scatter\"},{\"attributes\":{},\"id\":\"1172\",\"type\":\"LinearScale\"},{\"attributes\":{},\"id\":\"1201\",\"type\":\"BasicTickFormatter\"},{\"attributes\":{},\"id\":\"1174\",\"type\":\"LinearScale\"},{\"attributes\":{\"below\":[{\"id\":\"1176\"}],\"center\":[{\"id\":\"1179\"},{\"id\":\"1183\"}],\"height\":300,\"left\":[{\"id\":\"1180\"}],\"margin\":[5,5,5,5],\"min_border_bottom\":10,\"min_border_left\":10,\"min_border_right\":10,\"min_border_top\":10,\"renderers\":[{\"id\":\"1209\"},{\"id\":\"1230\"}],\"right\":[{\"id\":\"1221\"}],\"sizing_mode\":\"fixed\",\"title\":{\"id\":\"1168\"},\"toolbar\":{\"id\":\"1190\"},\"width\":700,\"x_range\":{\"id\":\"1163\"},\"x_scale\":{\"id\":\"1172\"},\"y_range\":{\"id\":\"1164\"},\"y_scale\":{\"id\":\"1174\"}},\"id\":\"1167\",\"subtype\":\"Figure\",\"type\":\"Plot\"},{\"attributes\":{\"fill_color\":{\"value\":\"#30a2da\"},\"hatch_color\":{\"value\":\"#30a2da\"},\"line_color\":{\"value\":\"#30a2da\"},\"size\":{\"value\":5.477225575051661},\"x\":{\"field\":\"t\"},\"y\":{\"field\":\"value\"}},\"id\":\"1206\",\"type\":\"Scatter\"},{\"attributes\":{\"coordinates\":null,\"data_source\":{\"id\":\"1203\"},\"glyph\":{\"id\":\"1206\"},\"group\":null,\"hover_glyph\":null,\"muted_glyph\":{\"id\":\"1208\"},\"nonselection_glyph\":{\"id\":\"1207\"},\"selection_glyph\":{\"id\":\"1223\"},\"view\":{\"id\":\"1210\"}},\"id\":\"1209\",\"type\":\"GlyphRenderer\"},{\"attributes\":{\"coordinates\":null,\"group\":null,\"text_color\":\"black\",\"text_font_size\":\"12pt\"},\"id\":\"1168\",\"type\":\"Title\"},{\"attributes\":{\"label\":{\"value\":\"y\"},\"renderers\":[{\"id\":\"1230\"}]},\"id\":\"1244\",\"type\":\"LegendItem\"},{\"attributes\":{\"axis_label\":\"t\",\"coordinates\":null,\"formatter\":{\"id\":\"1198\"},\"group\":null,\"major_label_policy\":{\"id\":\"1199\"},\"ticker\":{\"id\":\"1177\"}},\"id\":\"1176\",\"type\":\"LinearAxis\"},{\"attributes\":{\"fill_color\":{\"value\":\"#fc4f30\"},\"hatch_color\":{\"value\":\"#fc4f30\"},\"line_color\":{\"value\":\"#fc4f30\"},\"size\":{\"value\":5.477225575051661},\"x\":{\"field\":\"t\"},\"y\":{\"field\":\"value\"}},\"id\":\"1227\",\"type\":\"Scatter\"},{\"attributes\":{},\"id\":\"1177\",\"type\":\"BasicTicker\"},{\"attributes\":{\"source\":{\"id\":\"1224\"}},\"id\":\"1231\",\"type\":\"CDSView\"},{\"attributes\":{\"coordinates\":null,\"data_source\":{\"id\":\"1224\"},\"glyph\":{\"id\":\"1227\"},\"group\":null,\"hover_glyph\":null,\"muted_glyph\":{\"id\":\"1229\"},\"nonselection_glyph\":{\"id\":\"1228\"},\"selection_glyph\":{\"id\":\"1245\"},\"view\":{\"id\":\"1231\"}},\"id\":\"1230\",\"type\":\"GlyphRenderer\"},{\"attributes\":{\"axis\":{\"id\":\"1176\"},\"coordinates\":null,\"grid_line_color\":null,\"group\":null,\"ticker\":null},\"id\":\"1179\",\"type\":\"Grid\"},{\"attributes\":{\"children\":[{\"id\":\"1162\"},{\"id\":\"1167\"},{\"id\":\"1258\"}],\"margin\":[0,0,0,0],\"name\":\"Row01125\",\"tags\":[\"embedded\"]},\"id\":\"1161\",\"type\":\"Row\"},{\"attributes\":{},\"id\":\"1185\",\"type\":\"PanTool\"},{\"attributes\":{},\"id\":\"1204\",\"type\":\"Selection\"},{\"attributes\":{\"margin\":[5,5,5,5],\"name\":\"HSpacer01129\",\"sizing_mode\":\"stretch_width\"},\"id\":\"1162\",\"type\":\"Spacer\"},{\"attributes\":{\"axis_label\":\"\",\"coordinates\":null,\"formatter\":{\"id\":\"1201\"},\"group\":null,\"major_label_policy\":{\"id\":\"1202\"},\"ticker\":{\"id\":\"1181\"}},\"id\":\"1180\",\"type\":\"LinearAxis\"},{\"attributes\":{\"fill_alpha\":{\"value\":0.1},\"fill_color\":{\"value\":\"#30a2da\"},\"hatch_alpha\":{\"value\":0.1},\"hatch_color\":{\"value\":\"#30a2da\"},\"line_alpha\":{\"value\":0.1},\"line_color\":{\"value\":\"#30a2da\"},\"size\":{\"value\":5.477225575051661},\"x\":{\"field\":\"t\"},\"y\":{\"field\":\"value\"}},\"id\":\"1207\",\"type\":\"Scatter\"},{\"attributes\":{\"axis\":{\"id\":\"1180\"},\"coordinates\":null,\"dimension\":1,\"grid_line_color\":null,\"group\":null,\"ticker\":null},\"id\":\"1183\",\"type\":\"Grid\"},{\"attributes\":{\"source\":{\"id\":\"1203\"}},\"id\":\"1210\",\"type\":\"CDSView\"},{\"attributes\":{},\"id\":\"1181\",\"type\":\"BasicTicker\"},{\"attributes\":{\"data\":{\"Variable\":[\"x\",\"x\",\"x\",\"x\",\"x\",\"x\",\"x\",\"x\",\"x\",\"x\",\"x\",\"x\",\"x\",\"x\",\"x\",\"x\",\"x\",\"x\",\"x\",\"x\",\"x\",\"x\",\"x\",\"x\",\"x\",\"x\",\"x\",\"x\",\"x\",\"x\",\"x\",\"x\",\"x\",\"x\",\"x\",\"x\",\"x\",\"x\",\"x\",\"x\",\"x\",\"x\",\"x\",\"x\",\"x\",\"x\",\"x\",\"x\",\"x\",\"x\",\"x\",\"x\",\"x\",\"x\",\"x\",\"x\",\"x\",\"x\",\"x\",\"x\",\"x\",\"x\",\"x\",\"x\",\"x\",\"x\",\"x\",\"x\",\"x\",\"x\",\"x\",\"x\",\"x\",\"x\",\"x\",\"x\",\"x\",\"x\",\"x\",\"x\",\"x\",\"x\",\"x\",\"x\",\"x\",\"x\",\"x\",\"x\",\"x\",\"x\",\"x\",\"x\",\"x\",\"x\",\"x\",\"x\",\"x\",\"x\",\"x\",\"x\",\"x\",\"x\",\"x\",\"x\",\"x\",\"x\",\"x\",\"x\",\"x\",\"x\",\"x\",\"x\",\"x\",\"x\",\"x\",\"x\",\"x\",\"x\",\"x\",\"x\",\"x\",\"x\",\"x\",\"x\",\"x\",\"x\",\"x\",\"x\",\"x\",\"x\",\"x\",\"x\",\"x\",\"x\",\"x\",\"x\",\"x\",\"x\",\"x\",\"x\",\"x\",\"x\",\"x\",\"x\",\"x\",\"x\",\"x\",\"x\",\"x\",\"x\",\"x\",\"x\",\"x\",\"x\",\"x\",\"x\",\"x\",\"x\",\"x\",\"x\",\"x\",\"x\",\"x\",\"x\",\"x\",\"x\",\"x\",\"x\",\"x\",\"x\",\"x\",\"x\",\"x\",\"x\",\"x\",\"x\",\"x\",\"x\",\"x\",\"x\",\"x\",\"x\",\"x\",\"x\",\"x\",\"x\",\"x\",\"x\",\"x\",\"x\",\"x\",\"x\",\"x\",\"x\",\"x\",\"x\",\"x\",\"x\",\"x\",\"x\",\"x\",\"x\",\"x\",\"x\",\"x\",\"x\",\"x\",\"x\",\"x\",\"x\",\"x\",\"x\",\"x\",\"x\",\"x\",\"x\",\"x\",\"x\",\"x\",\"x\",\"x\",\"x\",\"x\",\"x\",\"x\",\"x\",\"x\",\"x\",\"x\",\"x\",\"x\",\"x\",\"x\",\"x\",\"x\",\"x\",\"x\",\"x\",\"x\",\"x\",\"x\",\"x\",\"x\",\"x\",\"x\",\"x\",\"x\",\"x\",\"x\",\"x\",\"x\",\"x\",\"x\",\"x\",\"x\",\"x\",\"x\",\"x\",\"x\",\"x\",\"x\",\"x\",\"x\",\"x\",\"x\",\"x\",\"x\",\"x\",\"x\",\"x\",\"x\",\"x\",\"x\",\"x\",\"x\",\"x\",\"x\",\"x\",\"x\",\"x\",\"x\",\"x\",\"x\",\"x\",\"x\",\"x\",\"x\",\"x\",\"x\",\"x\",\"x\",\"x\",\"x\",\"x\",\"x\",\"x\",\"x\",\"x\",\"x\",\"x\",\"x\",\"x\",\"x\",\"x\",\"x\",\"x\",\"x\",\"x\",\"x\",\"x\",\"x\",\"x\",\"x\",\"x\",\"x\",\"x\",\"x\",\"x\",\"x\",\"x\",\"x\",\"x\",\"x\",\"x\",\"x\",\"x\",\"x\",\"x\",\"x\",\"x\",\"x\",\"x\",\"x\",\"x\",\"x\",\"x\",\"x\",\"x\",\"x\",\"x\",\"x\",\"x\",\"x\",\"x\",\"x\",\"x\",\"x\",\"x\",\"x\",\"x\",\"x\",\"x\",\"x\",\"x\",\"x\",\"x\",\"x\",\"x\",\"x\",\"x\",\"x\",\"x\",\"x\",\"x\",\"x\",\"x\",\"x\",\"x\",\"x\",\"x\",\"x\",\"x\",\"x\",\"x\",\"x\",\"x\",\"x\",\"x\",\"x\",\"x\",\"x\",\"x\",\"x\",\"x\",\"x\",\"x\",\"x\",\"x\",\"x\",\"x\",\"x\",\"x\",\"x\",\"x\",\"x\",\"x\",\"x\",\"x\",\"x\",\"x\",\"x\",\"x\",\"x\",\"x\",\"x\",\"x\",\"x\",\"x\",\"x\",\"x\",\"x\",\"x\",\"x\",\"x\",\"x\",\"x\",\"x\",\"x\",\"x\",\"x\",\"x\",\"x\",\"x\",\"x\",\"x\",\"x\",\"x\",\"x\",\"x\",\"x\",\"x\",\"x\",\"x\",\"x\",\"x\",\"x\",\"x\",\"x\",\"x\",\"x\",\"x\",\"x\",\"x\",\"x\",\"x\",\"x\",\"x\",\"x\",\"x\",\"x\",\"x\",\"x\",\"x\",\"x\",\"x\",\"x\",\"x\",\"x\",\"x\",\"x\",\"x\",\"x\",\"x\",\"x\",\"x\",\"x\",\"x\",\"x\",\"x\",\"x\",\"x\",\"x\",\"x\",\"x\",\"x\",\"x\",\"x\",\"x\",\"x\",\"x\",\"x\",\"x\",\"x\",\"x\",\"x\",\"x\",\"x\",\"x\",\"x\",\"x\",\"x\",\"x\",\"x\",\"x\",\"x\",\"x\",\"x\",\"x\",\"x\",\"x\",\"x\",\"x\",\"x\",\"x\",\"x\",\"x\",\"x\",\"x\",\"x\",\"x\",\"x\",\"x\",\"x\",\"x\",\"x\",\"x\",\"x\",\"x\",\"x\",\"x\",\"x\",\"x\",\"x\",\"x\",\"x\",\"x\",\"x\",\"x\",\"x\",\"x\",\"x\",\"x\",\"x\",\"x\",\"x\",\"x\",\"x\",\"x\",\"x\",\"x\",\"x\",\"x\",\"x\",\"x\",\"x\",\"x\",\"x\",\"x\",\"x\",\"x\",\"x\",\"x\",\"x\",\"x\",\"x\",\"x\",\"x\",\"x\",\"x\",\"x\",\"x\",\"x\",\"x\",\"x\",\"x\",\"x\",\"x\",\"x\",\"x\",\"x\",\"x\",\"x\",\"x\",\"x\",\"x\",\"x\",\"x\",\"x\",\"x\",\"x\",\"x\",\"x\",\"x\",\"x\",\"x\",\"x\",\"x\",\"x\",\"x\",\"x\",\"x\",\"x\",\"x\",\"x\",\"x\",\"x\",\"x\",\"x\",\"x\",\"x\",\"x\",\"x\",\"x\",\"x\",\"x\",\"x\",\"x\",\"x\",\"x\",\"x\",\"x\",\"x\",\"x\",\"x\",\"x\",\"x\",\"x\",\"x\",\"x\",\"x\",\"x\",\"x\",\"x\",\"x\",\"x\",\"x\",\"x\",\"x\",\"x\",\"x\",\"x\",\"x\",\"x\",\"x\",\"x\",\"x\",\"x\",\"x\",\"x\",\"x\",\"x\",\"x\",\"x\",\"x\",\"x\",\"x\",\"x\",\"x\",\"x\",\"x\",\"x\",\"x\",\"x\",\"x\",\"x\",\"x\",\"x\",\"x\",\"x\",\"x\",\"x\",\"x\",\"x\",\"x\",\"x\",\"x\",\"x\",\"x\",\"x\",\"x\",\"x\",\"x\",\"x\",\"x\",\"x\",\"x\",\"x\",\"x\",\"x\",\"x\",\"x\",\"x\",\"x\",\"x\",\"x\",\"x\",\"x\",\"x\",\"x\",\"x\",\"x\",\"x\",\"x\",\"x\",\"x\",\"x\",\"x\",\"x\",\"x\",\"x\",\"x\",\"x\",\"x\",\"x\",\"x\",\"x\",\"x\",\"x\",\"x\",\"x\",\"x\",\"x\",\"x\",\"x\",\"x\",\"x\",\"x\",\"x\",\"x\",\"x\",\"x\",\"x\",\"x\",\"x\",\"x\",\"x\",\"x\",\"x\",\"x\",\"x\",\"x\",\"x\",\"x\",\"x\",\"x\",\"x\",\"x\",\"x\",\"x\",\"x\",\"x\",\"x\",\"x\",\"x\",\"x\",\"x\",\"x\",\"x\",\"x\",\"x\",\"x\",\"x\",\"x\",\"x\",\"x\",\"x\",\"x\",\"x\",\"x\",\"x\",\"x\",\"x\",\"x\",\"x\",\"x\",\"x\",\"x\",\"x\",\"x\",\"x\",\"x\",\"x\",\"x\",\"x\",\"x\",\"x\",\"x\",\"x\",\"x\",\"x\",\"x\",\"x\",\"x\",\"x\",\"x\",\"x\",\"x\",\"x\",\"x\",\"x\",\"x\",\"x\",\"x\",\"x\",\"x\",\"x\",\"x\",\"x\",\"x\",\"x\",\"x\",\"x\",\"x\",\"x\",\"x\",\"x\",\"x\",\"x\",\"x\",\"x\",\"x\",\"x\",\"x\",\"x\",\"x\",\"x\",\"x\",\"x\",\"x\",\"x\",\"x\",\"x\",\"x\",\"x\",\"x\",\"x\",\"x\",\"x\",\"x\",\"x\",\"x\",\"x\",\"x\",\"x\",\"x\",\"x\",\"x\",\"x\",\"x\",\"x\",\"x\",\"x\",\"x\",\"x\",\"x\",\"x\",\"x\",\"x\",\"x\",\"x\",\"x\",\"x\",\"x\",\"x\",\"x\",\"x\",\"x\",\"x\",\"x\",\"x\",\"x\",\"x\",\"x\",\"x\",\"x\",\"x\",\"x\",\"x\",\"x\",\"x\",\"x\",\"x\",\"x\",\"x\",\"x\",\"x\",\"x\",\"x\",\"x\",\"x\",\"x\",\"x\",\"x\",\"x\",\"x\",\"x\",\"x\",\"x\",\"x\",\"x\",\"x\",\"x\",\"x\",\"x\",\"x\",\"x\",\"x\",\"x\",\"x\",\"x\",\"x\",\"x\",\"x\",\"x\",\"x\",\"x\",\"x\",\"x\",\"x\",\"x\",\"x\",\"x\",\"x\",\"x\",\"x\",\"x\",\"x\",\"x\",\"x\",\"x\",\"x\",\"x\",\"x\",\"x\",\"x\",\"x\",\"x\",\"x\",\"x\",\"x\",\"x\",\"x\",\"x\",\"x\",\"x\",\"x\",\"x\",\"x\",\"x\",\"x\",\"x\",\"x\",\"x\",\"x\",\"x\",\"x\",\"x\",\"x\",\"x\",\"x\",\"x\",\"x\",\"x\",\"x\",\"x\",\"x\",\"x\",\"x\",\"x\",\"x\",\"x\",\"x\",\"x\",\"x\",\"x\",\"x\",\"x\",\"x\",\"x\",\"x\",\"x\",\"x\",\"x\",\"x\",\"x\",\"x\",\"x\",\"x\",\"x\",\"x\",\"x\",\"x\",\"x\",\"x\",\"x\",\"x\",\"x\",\"x\",\"x\",\"x\",\"x\",\"x\",\"x\",\"x\",\"x\",\"x\",\"x\",\"x\",\"x\",\"x\",\"x\",\"x\",\"x\",\"x\",\"x\",\"x\",\"x\",\"x\",\"x\",\"x\",\"x\",\"x\",\"x\",\"x\",\"x\",\"x\",\"x\",\"x\",\"x\",\"x\",\"x\",\"x\",\"x\",\"x\",\"x\",\"x\",\"x\",\"x\",\"x\",\"x\",\"x\",\"x\",\"x\",\"x\",\"x\",\"x\",\"x\",\"x\",\"x\",\"x\",\"x\",\"x\",\"x\",\"x\",\"x\",\"x\",\"x\",\"x\",\"x\",\"x\",\"x\",\"x\",\"x\",\"x\",\"x\",\"x\",\"x\",\"x\",\"x\",\"x\",\"x\",\"x\",\"x\",\"x\",\"x\",\"x\",\"x\",\"x\",\"x\",\"x\",\"x\",\"x\",\"x\",\"x\",\"x\",\"x\",\"x\",\"x\",\"x\",\"x\",\"x\",\"x\",\"x\",\"x\",\"x\",\"x\",\"x\",\"x\",\"x\",\"x\",\"x\",\"x\",\"x\",\"x\",\"x\",\"x\",\"x\",\"x\",\"x\",\"x\",\"x\",\"x\",\"x\",\"x\",\"x\",\"x\",\"x\",\"x\",\"x\",\"x\",\"x\",\"x\",\"x\",\"x\",\"x\",\"x\",\"x\",\"x\",\"x\",\"x\",\"x\",\"x\",\"x\",\"x\",\"x\",\"x\",\"x\",\"x\",\"x\",\"x\",\"x\",\"x\",\"x\",\"x\",\"x\",\"x\",\"x\",\"x\",\"x\",\"x\",\"x\",\"x\",\"x\",\"x\",\"x\",\"x\",\"x\",\"x\",\"x\",\"x\",\"x\",\"x\",\"x\",\"x\",\"x\",\"x\",\"x\",\"x\",\"x\",\"x\",\"x\",\"x\",\"x\",\"x\",\"x\",\"x\",\"x\",\"x\",\"x\",\"x\",\"x\",\"x\",\"x\",\"x\",\"x\",\"x\",\"x\",\"x\",\"x\",\"x\",\"x\",\"x\",\"x\",\"x\",\"x\",\"x\",\"x\",\"x\",\"x\",\"x\",\"x\",\"x\",\"x\",\"x\",\"x\",\"x\",\"x\",\"x\",\"x\",\"x\",\"x\",\"x\",\"x\",\"x\",\"x\",\"x\",\"x\",\"x\",\"x\",\"x\",\"x\",\"x\",\"x\",\"x\",\"x\",\"x\",\"x\",\"x\",\"x\",\"x\",\"x\",\"x\",\"x\",\"x\",\"x\",\"x\",\"x\",\"x\",\"x\",\"x\",\"x\",\"x\",\"x\",\"x\",\"x\",\"x\",\"x\",\"x\",\"x\",\"x\",\"x\",\"x\",\"x\",\"x\",\"x\",\"x\",\"x\",\"x\",\"x\",\"x\",\"x\",\"x\",\"x\",\"x\",\"x\",\"x\",\"x\",\"x\",\"x\",\"x\",\"x\",\"x\",\"x\",\"x\",\"x\",\"x\",\"x\",\"x\",\"x\",\"x\",\"x\",\"x\",\"x\",\"x\",\"x\",\"x\",\"x\",\"x\",\"x\",\"x\",\"x\",\"x\",\"x\",\"x\",\"x\",\"x\",\"x\",\"x\",\"x\",\"x\",\"x\",\"x\",\"x\",\"x\",\"x\",\"x\",\"x\",\"x\",\"x\",\"x\",\"x\",\"x\",\"x\",\"x\",\"x\",\"x\",\"x\",\"x\",\"x\",\"x\",\"x\",\"x\",\"x\",\"x\",\"x\",\"x\",\"x\",\"x\",\"x\",\"x\",\"x\",\"x\",\"x\",\"x\",\"x\",\"x\",\"x\",\"x\",\"x\",\"x\",\"x\",\"x\",\"x\",\"x\",\"x\",\"x\",\"x\",\"x\",\"x\",\"x\",\"x\",\"x\",\"x\",\"x\",\"x\",\"x\",\"x\",\"x\",\"x\",\"x\",\"x\",\"x\",\"x\",\"x\",\"x\",\"x\",\"x\",\"x\",\"x\",\"x\",\"x\",\"x\",\"x\",\"x\",\"x\",\"x\",\"x\",\"x\",\"x\",\"x\",\"x\",\"x\",\"x\",\"x\",\"x\",\"x\",\"x\",\"x\",\"x\",\"x\",\"x\",\"x\",\"x\",\"x\",\"x\",\"x\",\"x\",\"x\",\"x\",\"x\",\"x\",\"x\",\"x\",\"x\",\"x\",\"x\",\"x\",\"x\",\"x\",\"x\",\"x\",\"x\",\"x\",\"x\",\"x\",\"x\",\"x\",\"x\",\"x\",\"x\",\"x\",\"x\",\"x\",\"x\",\"x\",\"x\",\"x\",\"x\",\"x\",\"x\",\"x\",\"x\",\"x\",\"x\",\"x\",\"x\",\"x\",\"x\",\"x\",\"x\",\"x\",\"x\",\"x\",\"x\",\"x\",\"x\",\"x\",\"x\",\"x\",\"x\",\"x\",\"x\",\"x\",\"x\",\"x\",\"x\",\"x\",\"x\",\"x\",\"x\",\"x\",\"x\",\"x\",\"x\",\"x\",\"x\",\"x\",\"x\",\"x\",\"x\",\"x\",\"x\",\"x\",\"x\",\"x\",\"x\",\"x\",\"x\",\"x\",\"x\",\"x\",\"x\",\"x\",\"x\",\"x\",\"x\",\"x\",\"x\",\"x\",\"x\",\"x\",\"x\",\"x\",\"x\",\"x\",\"x\",\"x\",\"x\",\"x\",\"x\",\"x\",\"x\",\"x\",\"x\",\"x\",\"x\",\"x\",\"x\",\"x\",\"x\",\"x\",\"x\",\"x\",\"x\",\"x\",\"x\",\"x\",\"x\",\"x\",\"x\",\"x\",\"x\",\"x\",\"x\",\"x\",\"x\",\"x\",\"x\",\"x\",\"x\",\"x\",\"x\",\"x\",\"x\",\"x\",\"x\",\"x\",\"x\",\"x\",\"x\",\"x\",\"x\",\"x\",\"x\",\"x\",\"x\",\"x\",\"x\",\"x\",\"x\",\"x\",\"x\",\"x\",\"x\",\"x\",\"x\",\"x\",\"x\",\"x\",\"x\",\"x\",\"x\",\"x\",\"x\",\"x\",\"x\",\"x\",\"x\",\"x\",\"x\",\"x\",\"x\",\"x\",\"x\",\"x\",\"x\",\"x\",\"x\",\"x\",\"x\",\"x\",\"x\",\"x\",\"x\",\"x\",\"x\",\"x\",\"x\",\"x\",\"x\",\"x\",\"x\",\"x\",\"x\",\"x\",\"x\",\"x\",\"x\",\"x\",\"x\",\"x\",\"x\",\"x\",\"x\",\"x\",\"x\",\"x\",\"x\",\"x\",\"x\",\"x\",\"x\",\"x\",\"x\",\"x\",\"x\",\"x\",\"x\",\"x\",\"x\",\"x\",\"x\",\"x\",\"x\",\"x\",\"x\",\"x\",\"x\",\"x\",\"x\",\"x\",\"x\",\"x\",\"x\",\"x\",\"x\",\"x\",\"x\",\"x\",\"x\",\"x\",\"x\",\"x\",\"x\",\"x\",\"x\",\"x\",\"x\",\"x\",\"x\",\"x\",\"x\",\"x\",\"x\",\"x\",\"x\",\"x\",\"x\",\"x\",\"x\",\"x\",\"x\",\"x\",\"x\",\"x\",\"x\",\"x\",\"x\",\"x\",\"x\",\"x\",\"x\",\"x\",\"x\",\"x\",\"x\",\"x\",\"x\",\"x\",\"x\",\"x\",\"x\",\"x\",\"x\",\"x\",\"x\",\"x\",\"x\",\"x\",\"x\",\"x\",\"x\",\"x\",\"x\",\"x\",\"x\",\"x\",\"x\",\"x\",\"x\",\"x\",\"x\",\"x\",\"x\",\"x\",\"x\",\"x\",\"x\",\"x\",\"x\",\"x\",\"x\",\"x\",\"x\",\"x\",\"x\",\"x\",\"x\",\"x\",\"x\",\"x\",\"x\",\"x\",\"x\",\"x\",\"x\",\"x\",\"x\",\"x\",\"x\",\"x\",\"x\",\"x\",\"x\",\"x\",\"x\",\"x\",\"x\",\"x\",\"x\",\"x\",\"x\",\"x\",\"x\",\"x\",\"x\",\"x\",\"x\",\"x\",\"x\",\"x\",\"x\",\"x\",\"x\",\"x\",\"x\",\"x\",\"x\",\"x\",\"x\",\"x\",\"x\",\"x\",\"x\",\"x\",\"x\",\"x\",\"x\",\"x\",\"x\",\"x\",\"x\",\"x\",\"x\",\"x\",\"x\",\"x\",\"x\",\"x\",\"x\",\"x\",\"x\",\"x\",\"x\",\"x\",\"x\",\"x\",\"x\",\"x\",\"x\",\"x\",\"x\",\"x\",\"x\",\"x\",\"x\",\"x\",\"x\",\"x\",\"x\",\"x\",\"x\",\"x\",\"x\",\"x\",\"x\",\"x\",\"x\",\"x\",\"x\",\"x\",\"x\",\"x\",\"x\",\"x\",\"x\",\"x\",\"x\",\"x\",\"x\",\"x\",\"x\",\"x\",\"x\",\"x\",\"x\",\"x\",\"x\",\"x\",\"x\",\"x\",\"x\",\"x\",\"x\",\"x\",\"x\",\"x\",\"x\",\"x\",\"x\",\"x\",\"x\",\"x\",\"x\",\"x\",\"x\",\"x\",\"x\",\"x\",\"x\",\"x\",\"x\",\"x\",\"x\",\"x\",\"x\",\"x\",\"x\",\"x\",\"x\",\"x\",\"x\",\"x\",\"x\",\"x\",\"x\",\"x\",\"x\",\"x\",\"x\",\"x\",\"x\",\"x\",\"x\",\"x\",\"x\",\"x\",\"x\",\"x\",\"x\",\"x\",\"x\",\"x\",\"x\",\"x\",\"x\",\"x\",\"x\",\"x\",\"x\",\"x\",\"x\",\"x\",\"x\",\"x\",\"x\",\"x\",\"x\",\"x\",\"x\",\"x\",\"x\",\"x\",\"x\",\"x\",\"x\",\"x\",\"x\",\"x\",\"x\",\"x\",\"x\",\"x\",\"x\",\"x\",\"x\",\"x\",\"x\",\"x\",\"x\",\"x\",\"x\",\"x\",\"x\",\"x\",\"x\",\"x\",\"x\",\"x\",\"x\",\"x\",\"x\",\"x\",\"x\",\"x\",\"x\",\"x\",\"x\",\"x\",\"x\",\"x\",\"x\",\"x\",\"x\",\"x\",\"x\",\"x\",\"x\",\"x\",\"x\",\"x\",\"x\",\"x\",\"x\",\"x\",\"x\",\"x\",\"x\",\"x\",\"x\",\"x\",\"x\",\"x\",\"x\",\"x\",\"x\",\"x\",\"x\",\"x\",\"x\",\"x\",\"x\",\"x\",\"x\",\"x\",\"x\",\"x\",\"x\",\"x\",\"x\",\"x\",\"x\",\"x\",\"x\",\"x\",\"x\",\"x\",\"x\",\"x\",\"x\",\"x\",\"x\",\"x\",\"x\",\"x\",\"x\",\"x\",\"x\",\"x\",\"x\",\"x\",\"x\",\"x\",\"x\",\"x\",\"x\",\"x\",\"x\",\"x\",\"x\",\"x\",\"x\",\"x\",\"x\",\"x\",\"x\",\"x\",\"x\",\"x\",\"x\",\"x\",\"x\",\"x\",\"x\",\"x\",\"x\",\"x\",\"x\",\"x\",\"x\",\"x\",\"x\",\"x\",\"x\",\"x\",\"x\",\"x\",\"x\",\"x\",\"x\",\"x\",\"x\",\"x\",\"x\",\"x\",\"x\",\"x\",\"x\",\"x\",\"x\",\"x\",\"x\",\"x\",\"x\",\"x\",\"x\",\"x\",\"x\",\"x\",\"x\",\"x\",\"x\",\"x\",\"x\",\"x\",\"x\",\"x\",\"x\",\"x\",\"x\",\"x\",\"x\",\"x\",\"x\",\"x\",\"x\",\"x\",\"x\",\"x\",\"x\",\"x\",\"x\",\"x\",\"x\",\"x\",\"x\",\"x\",\"x\",\"x\",\"x\",\"x\",\"x\",\"x\",\"x\",\"x\",\"x\",\"x\",\"x\",\"x\",\"x\",\"x\",\"x\",\"x\",\"x\",\"x\",\"x\",\"x\",\"x\",\"x\",\"x\",\"x\",\"x\",\"x\",\"x\",\"x\",\"x\",\"x\",\"x\",\"x\",\"x\",\"x\",\"x\",\"x\",\"x\",\"x\",\"x\",\"x\",\"x\",\"x\",\"x\",\"x\",\"x\",\"x\",\"x\",\"x\",\"x\",\"x\",\"x\",\"x\",\"x\",\"x\",\"x\",\"x\",\"x\",\"x\",\"x\",\"x\",\"x\",\"x\",\"x\",\"x\",\"x\",\"x\",\"x\",\"x\",\"x\",\"x\",\"x\",\"x\",\"x\",\"x\",\"x\",\"x\",\"x\",\"x\",\"x\",\"x\",\"x\",\"x\",\"x\",\"x\",\"x\",\"x\",\"x\",\"x\",\"x\",\"x\",\"x\",\"x\",\"x\",\"x\",\"x\",\"x\",\"x\",\"x\",\"x\",\"x\",\"x\",\"x\",\"x\",\"x\",\"x\",\"x\",\"x\",\"x\",\"x\",\"x\",\"x\",\"x\",\"x\",\"x\",\"x\",\"x\",\"x\",\"x\",\"x\",\"x\",\"x\",\"x\",\"x\",\"x\",\"x\",\"x\",\"x\",\"x\",\"x\",\"x\",\"x\",\"x\",\"x\",\"x\",\"x\",\"x\",\"x\",\"x\",\"x\",\"x\",\"x\",\"x\",\"x\",\"x\",\"x\",\"x\",\"x\",\"x\",\"x\",\"x\",\"x\",\"x\",\"x\",\"x\",\"x\",\"x\",\"x\",\"x\",\"x\",\"x\",\"x\",\"x\",\"x\",\"x\",\"x\",\"x\",\"x\",\"x\",\"x\",\"x\",\"x\",\"x\",\"x\",\"x\",\"x\",\"x\",\"x\",\"x\",\"x\",\"x\",\"x\",\"x\",\"x\",\"x\",\"x\",\"x\",\"x\",\"x\",\"x\",\"x\",\"x\",\"x\",\"x\",\"x\",\"x\",\"x\",\"x\",\"x\",\"x\",\"x\",\"x\",\"x\",\"x\",\"x\",\"x\",\"x\",\"x\",\"x\",\"x\",\"x\",\"x\",\"x\",\"x\",\"x\",\"x\",\"x\",\"x\",\"x\",\"x\",\"x\",\"x\",\"x\",\"x\",\"x\",\"x\",\"x\",\"x\",\"x\",\"x\",\"x\",\"x\",\"x\",\"x\",\"x\",\"x\",\"x\",\"x\",\"x\",\"x\",\"x\",\"x\",\"x\",\"x\",\"x\",\"x\",\"x\",\"x\",\"x\",\"x\",\"x\",\"x\",\"x\",\"x\",\"x\",\"x\",\"x\",\"x\",\"x\",\"x\",\"x\",\"x\",\"x\",\"x\",\"x\",\"x\",\"x\",\"x\",\"x\",\"x\",\"x\",\"x\",\"x\",\"x\",\"x\",\"x\",\"x\",\"x\",\"x\",\"x\",\"x\",\"x\",\"x\",\"x\",\"x\",\"x\",\"x\",\"x\",\"x\",\"x\",\"x\",\"x\",\"x\",\"x\",\"x\",\"x\",\"x\",\"x\",\"x\",\"x\",\"x\",\"x\",\"x\",\"x\",\"x\",\"x\",\"x\",\"x\",\"x\",\"x\",\"x\",\"x\",\"x\",\"x\",\"x\",\"x\",\"x\",\"x\",\"x\",\"x\",\"x\",\"x\",\"x\",\"x\",\"x\",\"x\",\"x\",\"x\",\"x\",\"x\",\"x\",\"x\",\"x\",\"x\",\"x\",\"x\",\"x\",\"x\",\"x\",\"x\",\"x\",\"x\",\"x\",\"x\",\"x\",\"x\",\"x\",\"x\",\"x\",\"x\",\"x\",\"x\",\"x\",\"x\",\"x\",\"x\",\"x\",\"x\",\"x\",\"x\",\"x\",\"x\",\"x\",\"x\",\"x\",\"x\",\"x\",\"x\",\"x\",\"x\",\"x\",\"x\",\"x\",\"x\",\"x\",\"x\",\"x\",\"x\",\"x\",\"x\",\"x\",\"x\",\"x\",\"x\",\"x\",\"x\",\"x\",\"x\",\"x\",\"x\",\"x\",\"x\",\"x\",\"x\",\"x\",\"x\",\"x\",\"x\",\"x\",\"x\",\"x\",\"x\",\"x\",\"x\",\"x\",\"x\",\"x\",\"x\",\"x\",\"x\",\"x\",\"x\",\"x\",\"x\",\"x\",\"x\",\"x\",\"x\",\"x\",\"x\",\"x\",\"x\",\"x\",\"x\"],\"t\":{\"__ndarray__\":\"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\",\"dtype\":\"float64\",\"order\":\"little\",\"shape\":[2500]},\"value\":{\"__ndarray__\":\"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\",\"dtype\":\"float64\",\"order\":\"little\",\"shape\":[2500]}},\"selected\":{\"id\":\"1204\"},\"selection_policy\":{\"id\":\"1218\"}},\"id\":\"1203\",\"type\":\"ColumnDataSource\"},{\"attributes\":{\"margin\":[5,5,5,5],\"name\":\"HSpacer01130\",\"sizing_mode\":\"stretch_width\"},\"id\":\"1258\",\"type\":\"Spacer\"},{\"attributes\":{\"fill_alpha\":{\"value\":0.2},\"fill_color\":{\"value\":\"#30a2da\"},\"hatch_alpha\":{\"value\":0.2},\"hatch_color\":{\"value\":\"#30a2da\"},\"line_alpha\":{\"value\":0.2},\"line_color\":{\"value\":\"#30a2da\"},\"size\":{\"value\":5.477225575051661},\"x\":{\"field\":\"t\"},\"y\":{\"field\":\"value\"}},\"id\":\"1208\",\"type\":\"Scatter\"},{\"attributes\":{},\"id\":\"1186\",\"type\":\"WheelZoomTool\"},{\"attributes\":{\"click_policy\":\"mute\",\"coordinates\":null,\"group\":null,\"items\":[{\"id\":\"1222\"},{\"id\":\"1244\"}],\"location\":[0,0],\"title\":\"Variable\"},\"id\":\"1221\",\"type\":\"Legend\"},{\"attributes\":{},\"id\":\"1184\",\"type\":\"SaveTool\"},{\"attributes\":{\"overlay\":{\"id\":\"1189\"}},\"id\":\"1187\",\"type\":\"BoxZoomTool\"},{\"attributes\":{},\"id\":\"1188\",\"type\":\"ResetTool\"},{\"attributes\":{\"fill_alpha\":{\"value\":0.1},\"fill_color\":{\"value\":\"#fc4f30\"},\"hatch_alpha\":{\"value\":0.1},\"hatch_color\":{\"value\":\"#fc4f30\"},\"line_alpha\":{\"value\":0.1},\"line_color\":{\"value\":\"#fc4f30\"},\"size\":{\"value\":5.477225575051661},\"x\":{\"field\":\"t\"},\"y\":{\"field\":\"value\"}},\"id\":\"1228\",\"type\":\"Scatter\"},{\"attributes\":{\"data\":{\"Variable\":[\"y\",\"y\",\"y\",\"y\",\"y\",\"y\",\"y\",\"y\",\"y\",\"y\",\"y\",\"y\",\"y\",\"y\",\"y\",\"y\",\"y\",\"y\",\"y\",\"y\",\"y\",\"y\",\"y\",\"y\",\"y\",\"y\",\"y\",\"y\",\"y\",\"y\",\"y\",\"y\",\"y\",\"y\",\"y\",\"y\",\"y\",\"y\",\"y\",\"y\",\"y\",\"y\",\"y\",\"y\",\"y\",\"y\",\"y\",\"y\",\"y\",\"y\",\"y\",\"y\",\"y\",\"y\",\"y\",\"y\",\"y\",\"y\",\"y\",\"y\",\"y\",\"y\",\"y\",\"y\",\"y\",\"y\",\"y\",\"y\",\"y\",\"y\",\"y\",\"y\",\"y\",\"y\",\"y\",\"y\",\"y\",\"y\",\"y\",\"y\",\"y\",\"y\",\"y\",\"y\",\"y\",\"y\",\"y\",\"y\",\"y\",\"y\",\"y\",\"y\",\"y\",\"y\",\"y\",\"y\",\"y\",\"y\",\"y\",\"y\",\"y\",\"y\",\"y\",\"y\",\"y\",\"y\",\"y\",\"y\",\"y\",\"y\",\"y\",\"y\",\"y\",\"y\",\"y\",\"y\",\"y\",\"y\",\"y\",\"y\",\"y\",\"y\",\"y\",\"y\",\"y\",\"y\",\"y\",\"y\",\"y\",\"y\",\"y\",\"y\",\"y\",\"y\",\"y\",\"y\",\"y\",\"y\",\"y\",\"y\",\"y\",\"y\",\"y\",\"y\",\"y\",\"y\",\"y\",\"y\",\"y\",\"y\",\"y\",\"y\",\"y\",\"y\",\"y\",\"y\",\"y\",\"y\",\"y\",\"y\",\"y\",\"y\",\"y\",\"y\",\"y\",\"y\",\"y\",\"y\",\"y\",\"y\",\"y\",\"y\",\"y\",\"y\",\"y\",\"y\",\"y\",\"y\",\"y\",\"y\",\"y\",\"y\",\"y\",\"y\",\"y\",\"y\",\"y\",\"y\",\"y\",\"y\",\"y\",\"y\",\"y\",\"y\",\"y\",\"y\",\"y\",\"y\",\"y\",\"y\",\"y\",\"y\",\"y\",\"y\",\"y\",\"y\",\"y\",\"y\",\"y\",\"y\",\"y\",\"y\",\"y\",\"y\",\"y\",\"y\",\"y\",\"y\",\"y\",\"y\",\"y\",\"y\",\"y\",\"y\",\"y\",\"y\",\"y\",\"y\",\"y\",\"y\",\"y\",\"y\",\"y\",\"y\",\"y\",\"y\",\"y\",\"y\",\"y\",\"y\",\"y\",\"y\",\"y\",\"y\",\"y\",\"y\",\"y\",\"y\",\"y\",\"y\",\"y\",\"y\",\"y\",\"y\",\"y\",\"y\",\"y\",\"y\",\"y\",\"y\",\"y\",\"y\",\"y\",\"y\",\"y\",\"y\",\"y\",\"y\",\"y\",\"y\",\"y\",\"y\",\"y\",\"y\",\"y\",\"y\",\"y\",\"y\",\"y\",\"y\",\"y\",\"y\",\"y\",\"y\",\"y\",\"y\",\"y\",\"y\",\"y\",\"y\",\"y\",\"y\",\"y\",\"y\",\"y\",\"y\",\"y\",\"y\",\"y\",\"y\",\"y\",\"y\",\"y\",\"y\",\"y\",\"y\",\"y\",\"y\",\"y\",\"y\",\"y\",\"y\",\"y\",\"y\",\"y\",\"y\",\"y\",\"y\",\"y\",\"y\",\"y\",\"y\",\"y\",\"y\",\"y\",\"y\",\"y\",\"y\",\"y\",\"y\",\"y\",\"y\",\"y\",\"y\",\"y\",\"y\",\"y\",\"y\",\"y\",\"y\",\"y\",\"y\",\"y\",\"y\",\"y\",\"y\",\"y\",\"y\",\"y\",\"y\",\"y\",\"y\",\"y\",\"y\",\"y\",\"y\",\"y\",\"y\",\"y\",\"y\",\"y\",\"y\",\"y\",\"y\",\"y\",\"y\",\"y\",\"y\",\"y\",\"y\",\"y\",\"y\",\"y\",\"y\",\"y\",\"y\",\"y\",\"y\",\"y\",\"y\",\"y\",\"y\",\"y\",\"y\",\"y\",\"y\",\"y\",\"y\",\"y\",\"y\",\"y\",\"y\",\"y\",\"y\",\"y\",\"y\",\"y\",\"y\",\"y\",\"y\",\"y\",\"y\",\"y\",\"y\",\"y\",\"y\",\"y\",\"y\",\"y\",\"y\",\"y\",\"y\",\"y\",\"y\",\"y\",\"y\",\"y\",\"y\",\"y\",\"y\",\"y\",\"y\",\"y\",\"y\",\"y\",\"y\",\"y\",\"y\",\"y\",\"y\",\"y\",\"y\",\"y\",\"y\",\"y\",\"y\",\"y\",\"y\",\"y\",\"y\",\"y\",\"y\",\"y\",\"y\",\"y\",\"y\",\"y\",\"y\",\"y\",\"y\",\"y\",\"y\",\"y\",\"y\",\"y\",\"y\",\"y\",\"y\",\"y\",\"y\",\"y\",\"y\",\"y\",\"y\",\"y\",\"y\",\"y\",\"y\",\"y\",\"y\",\"y\",\"y\",\"y\",\"y\",\"y\",\"y\",\"y\",\"y\",\"y\",\"y\",\"y\",\"y\",\"y\",\"y\",\"y\",\"y\",\"y\",\"y\",\"y\",\"y\",\"y\",\"y\",\"y\",\"y\",\"y\",\"y\",\"y\",\"y\",\"y\",\"y\",\"y\",\"y\",\"y\",\"y\",\"y\",\"y\",\"y\",\"y\",\"y\",\"y\",\"y\",\"y\",\"y\",\"y\",\"y\",\"y\",\"y\",\"y\",\"y\",\"y\",\"y\",\"y\",\"y\",\"y\",\"y\",\"y\",\"y\",\"y\",\"y\",\"y\",\"y\",\"y\",\"y\",\"y\",\"y\",\"y\",\"y\",\"y\",\"y\",\"y\",\"y\",\"y\",\"y\",\"y\",\"y\",\"y\",\"y\",\"y\",\"y\",\"y\",\"y\",\"y\",\"y\",\"y\",\"y\",\"y\",\"y\",\"y\",\"y\",\"y\",\"y\",\"y\",\"y\",\"y\",\"y\",\"y\",\"y\",\"y\",\"y\",\"y\",\"y\",\"y\",\"y\",\"y\",\"y\",\"y\",\"y\",\"y\",\"y\",\"y\",\"y\",\"y\",\"y\",\"y\",\"y\",\"y\",\"y\",\"y\",\"y\",\"y\",\"y\",\"y\",\"y\",\"y\",\"y\",\"y\",\"y\",\"y\",\"y\",\"y\",\"y\",\"y\",\"y\",\"y\",\"y\",\"y\",\"y\",\"y\",\"y\",\"y\",\"y\",\"y\",\"y\",\"y\",\"y\",\"y\",\"y\",\"y\",\"y\",\"y\",\"y\",\"y\",\"y\",\"y\",\"y\",\"y\",\"y\",\"y\",\"y\",\"y\",\"y\",\"y\",\"y\",\"y\",\"y\",\"y\",\"y\",\"y\",\"y\",\"y\",\"y\",\"y\",\"y\",\"y\",\"y\",\"y\",\"y\",\"y\",\"y\",\"y\",\"y\",\"y\",\"y\",\"y\",\"y\",\"y\",\"y\",\"y\",\"y\",\"y\",\"y\",\"y\",\"y\",\"y\",\"y\",\"y\",\"y\",\"y\",\"y\",\"y\",\"y\",\"y\",\"y\",\"y\",\"y\",\"y\",\"y\",\"y\",\"y\",\"y\",\"y\",\"y\",\"y\",\"y\",\"y\",\"y\",\"y\",\"y\",\"y\",\"y\",\"y\",\"y\",\"y\",\"y\",\"y\",\"y\",\"y\",\"y\",\"y\",\"y\",\"y\",\"y\",\"y\",\"y\",\"y\",\"y\",\"y\",\"y\",\"y\",\"y\",\"y\",\"y\",\"y\",\"y\",\"y\",\"y\",\"y\",\"y\",\"y\",\"y\",\"y\",\"y\",\"y\",\"y\",\"y\",\"y\",\"y\",\"y\",\"y\",\"y\",\"y\",\"y\",\"y\",\"y\",\"y\",\"y\",\"y\",\"y\",\"y\",\"y\",\"y\",\"y\",\"y\",\"y\",\"y\",\"y\",\"y\",\"y\",\"y\",\"y\",\"y\",\"y\",\"y\",\"y\",\"y\",\"y\",\"y\",\"y\",\"y\",\"y\",\"y\",\"y\",\"y\",\"y\",\"y\",\"y\",\"y\",\"y\",\"y\",\"y\",\"y\",\"y\",\"y\",\"y\",\"y\",\"y\",\"y\",\"y\",\"y\",\"y\",\"y\",\"y\",\"y\",\"y\",\"y\",\"y\",\"y\",\"y\",\"y\",\"y\",\"y\",\"y\",\"y\",\"y\",\"y\",\"y\",\"y\",\"y\",\"y\",\"y\",\"y\",\"y\",\"y\",\"y\",\"y\",\"y\",\"y\",\"y\",\"y\",\"y\",\"y\",\"y\",\"y\",\"y\",\"y\",\"y\",\"y\",\"y\",\"y\",\"y\",\"y\",\"y\",\"y\",\"y\",\"y\",\"y\",\"y\",\"y\",\"y\",\"y\",\"y\",\"y\",\"y\",\"y\",\"y\",\"y\",\"y\",\"y\",\"y\",\"y\",\"y\",\"y\",\"y\",\"y\",\"y\",\"y\",\"y\",\"y\",\"y\",\"y\",\"y\",\"y\",\"y\",\"y\",\"y\",\"y\",\"y\",\"y\",\"y\",\"y\",\"y\",\"y\",\"y\",\"y\",\"y\",\"y\",\"y\",\"y\",\"y\",\"y\",\"y\",\"y\",\"y\",\"y\",\"y\",\"y\",\"y\",\"y\",\"y\",\"y\",\"y\",\"y\",\"y\",\"y\",\"y\",\"y\",\"y\",\"y\",\"y\",\"y\",\"y\",\"y\",\"y\",\"y\",\"y\",\"y\",\"y\",\"y\",\"y\",\"y\",\"y\",\"y\",\"y\",\"y\",\"y\",\"y\",\"y\",\"y\",\"y\",\"y\",\"y\",\"y\",\"y\",\"y\",\"y\",\"y\",\"y\",\"y\",\"y\",\"y\",\"y\",\"y\",\"y\",\"y\",\"y\",\"y\",\"y\",\"y\",\"y\",\"y\",\"y\",\"y\",\"y\",\"y\",\"y\",\"y\",\"y\",\"y\",\"y\",\"y\",\"y\",\"y\",\"y\",\"y\",\"y\",\"y\",\"y\",\"y\",\"y\",\"y\",\"y\",\"y\",\"y\",\"y\",\"y\",\"y\",\"y\",\"y\",\"y\",\"y\",\"y\",\"y\",\"y\",\"y\",\"y\",\"y\",\"y\",\"y\",\"y\",\"y\",\"y\",\"y\",\"y\",\"y\",\"y\",\"y\",\"y\",\"y\",\"y\",\"y\",\"y\",\"y\",\"y\",\"y\",\"y\",\"y\",\"y\",\"y\",\"y\",\"y\",\"y\",\"y\",\"y\",\"y\",\"y\",\"y\",\"y\",\"y\",\"y\",\"y\",\"y\",\"y\",\"y\",\"y\",\"y\",\"y\",\"y\",\"y\",\"y\",\"y\",\"y\",\"y\",\"y\",\"y\",\"y\",\"y\",\"y\",\"y\",\"y\",\"y\",\"y\",\"y\",\"y\",\"y\",\"y\",\"y\",\"y\",\"y\",\"y\",\"y\",\"y\",\"y\",\"y\",\"y\",\"y\",\"y\",\"y\",\"y\",\"y\",\"y\",\"y\",\"y\",\"y\",\"y\",\"y\",\"y\",\"y\",\"y\",\"y\",\"y\",\"y\",\"y\",\"y\",\"y\",\"y\",\"y\",\"y\",\"y\",\"y\",\"y\",\"y\",\"y\",\"y\",\"y\",\"y\",\"y\",\"y\",\"y\",\"y\",\"y\",\"y\",\"y\",\"y\",\"y\",\"y\",\"y\",\"y\",\"y\",\"y\",\"y\",\"y\",\"y\",\"y\",\"y\",\"y\",\"y\",\"y\",\"y\",\"y\",\"y\",\"y\",\"y\",\"y\",\"y\",\"y\",\"y\",\"y\",\"y\",\"y\",\"y\",\"y\",\"y\",\"y\",\"y\",\"y\",\"y\",\"y\",\"y\",\"y\",\"y\",\"y\",\"y\",\"y\",\"y\",\"y\",\"y\",\"y\",\"y\",\"y\",\"y\",\"y\",\"y\",\"y\",\"y\",\"y\",\"y\",\"y\",\"y\",\"y\",\"y\",\"y\",\"y\",\"y\",\"y\",\"y\",\"y\",\"y\",\"y\",\"y\",\"y\",\"y\",\"y\",\"y\",\"y\",\"y\",\"y\",\"y\",\"y\",\"y\",\"y\",\"y\",\"y\",\"y\",\"y\",\"y\",\"y\",\"y\",\"y\",\"y\",\"y\",\"y\",\"y\",\"y\",\"y\",\"y\",\"y\",\"y\",\"y\",\"y\",\"y\",\"y\",\"y\",\"y\",\"y\",\"y\",\"y\",\"y\",\"y\",\"y\",\"y\",\"y\",\"y\",\"y\",\"y\",\"y\",\"y\",\"y\",\"y\",\"y\",\"y\",\"y\",\"y\",\"y\",\"y\",\"y\",\"y\",\"y\",\"y\",\"y\",\"y\",\"y\",\"y\",\"y\",\"y\",\"y\",\"y\",\"y\",\"y\",\"y\",\"y\",\"y\",\"y\",\"y\",\"y\",\"y\",\"y\",\"y\",\"y\",\"y\",\"y\",\"y\",\"y\",\"y\",\"y\",\"y\",\"y\",\"y\",\"y\",\"y\",\"y\",\"y\",\"y\",\"y\",\"y\",\"y\",\"y\",\"y\",\"y\",\"y\",\"y\",\"y\",\"y\",\"y\",\"y\",\"y\",\"y\",\"y\",\"y\",\"y\",\"y\",\"y\",\"y\",\"y\",\"y\",\"y\",\"y\",\"y\",\"y\",\"y\",\"y\",\"y\",\"y\",\"y\",\"y\",\"y\",\"y\",\"y\",\"y\",\"y\",\"y\",\"y\",\"y\",\"y\",\"y\",\"y\",\"y\",\"y\",\"y\",\"y\",\"y\",\"y\",\"y\",\"y\",\"y\",\"y\",\"y\",\"y\",\"y\",\"y\",\"y\",\"y\",\"y\",\"y\",\"y\",\"y\",\"y\",\"y\",\"y\",\"y\",\"y\",\"y\",\"y\",\"y\",\"y\",\"y\",\"y\",\"y\",\"y\",\"y\",\"y\",\"y\",\"y\",\"y\",\"y\",\"y\",\"y\",\"y\",\"y\",\"y\",\"y\",\"y\",\"y\",\"y\",\"y\",\"y\",\"y\",\"y\",\"y\",\"y\",\"y\",\"y\",\"y\",\"y\",\"y\",\"y\",\"y\",\"y\",\"y\",\"y\",\"y\",\"y\",\"y\",\"y\",\"y\",\"y\",\"y\",\"y\",\"y\",\"y\",\"y\",\"y\",\"y\",\"y\",\"y\",\"y\",\"y\",\"y\",\"y\",\"y\",\"y\",\"y\",\"y\",\"y\",\"y\",\"y\",\"y\",\"y\",\"y\",\"y\",\"y\",\"y\",\"y\",\"y\",\"y\",\"y\",\"y\",\"y\",\"y\",\"y\",\"y\",\"y\",\"y\",\"y\",\"y\",\"y\",\"y\",\"y\",\"y\",\"y\",\"y\",\"y\",\"y\",\"y\",\"y\",\"y\",\"y\",\"y\",\"y\",\"y\",\"y\",\"y\",\"y\",\"y\",\"y\",\"y\",\"y\",\"y\",\"y\",\"y\",\"y\",\"y\",\"y\",\"y\",\"y\",\"y\",\"y\",\"y\",\"y\",\"y\",\"y\",\"y\",\"y\",\"y\",\"y\",\"y\",\"y\",\"y\",\"y\",\"y\",\"y\",\"y\",\"y\",\"y\",\"y\",\"y\",\"y\",\"y\",\"y\",\"y\",\"y\",\"y\",\"y\",\"y\",\"y\",\"y\",\"y\",\"y\",\"y\",\"y\",\"y\",\"y\",\"y\",\"y\",\"y\",\"y\",\"y\",\"y\",\"y\",\"y\",\"y\",\"y\",\"y\",\"y\",\"y\",\"y\",\"y\",\"y\",\"y\",\"y\",\"y\",\"y\",\"y\",\"y\",\"y\",\"y\",\"y\",\"y\",\"y\",\"y\",\"y\",\"y\",\"y\",\"y\",\"y\",\"y\",\"y\",\"y\",\"y\",\"y\",\"y\",\"y\",\"y\",\"y\",\"y\",\"y\",\"y\",\"y\",\"y\",\"y\",\"y\",\"y\",\"y\",\"y\",\"y\",\"y\",\"y\",\"y\",\"y\",\"y\",\"y\",\"y\",\"y\",\"y\",\"y\",\"y\",\"y\",\"y\",\"y\",\"y\",\"y\",\"y\",\"y\",\"y\",\"y\",\"y\",\"y\",\"y\",\"y\",\"y\",\"y\",\"y\",\"y\",\"y\",\"y\",\"y\",\"y\",\"y\",\"y\",\"y\",\"y\",\"y\",\"y\",\"y\",\"y\",\"y\",\"y\",\"y\",\"y\",\"y\",\"y\",\"y\",\"y\",\"y\",\"y\",\"y\",\"y\",\"y\",\"y\",\"y\",\"y\",\"y\",\"y\",\"y\",\"y\",\"y\",\"y\",\"y\",\"y\",\"y\",\"y\",\"y\",\"y\",\"y\",\"y\",\"y\",\"y\",\"y\",\"y\",\"y\",\"y\",\"y\",\"y\",\"y\",\"y\",\"y\",\"y\",\"y\",\"y\",\"y\",\"y\",\"y\",\"y\",\"y\",\"y\",\"y\",\"y\",\"y\",\"y\",\"y\",\"y\",\"y\",\"y\",\"y\",\"y\",\"y\",\"y\",\"y\",\"y\",\"y\",\"y\",\"y\",\"y\",\"y\",\"y\",\"y\",\"y\",\"y\",\"y\",\"y\",\"y\",\"y\",\"y\",\"y\",\"y\",\"y\",\"y\",\"y\",\"y\",\"y\",\"y\",\"y\",\"y\",\"y\",\"y\",\"y\",\"y\",\"y\",\"y\",\"y\",\"y\",\"y\",\"y\",\"y\",\"y\",\"y\",\"y\",\"y\",\"y\",\"y\",\"y\",\"y\",\"y\",\"y\",\"y\",\"y\",\"y\",\"y\",\"y\",\"y\",\"y\",\"y\",\"y\",\"y\",\"y\",\"y\",\"y\",\"y\",\"y\",\"y\",\"y\",\"y\",\"y\",\"y\",\"y\",\"y\",\"y\",\"y\",\"y\",\"y\",\"y\",\"y\",\"y\",\"y\",\"y\",\"y\",\"y\",\"y\",\"y\",\"y\",\"y\",\"y\",\"y\",\"y\",\"y\",\"y\",\"y\",\"y\",\"y\",\"y\",\"y\",\"y\",\"y\",\"y\",\"y\",\"y\",\"y\",\"y\",\"y\",\"y\",\"y\",\"y\",\"y\",\"y\",\"y\",\"y\",\"y\",\"y\",\"y\",\"y\",\"y\",\"y\",\"y\",\"y\",\"y\",\"y\",\"y\",\"y\",\"y\",\"y\",\"y\",\"y\",\"y\",\"y\",\"y\",\"y\",\"y\",\"y\",\"y\",\"y\",\"y\",\"y\",\"y\",\"y\",\"y\",\"y\",\"y\",\"y\",\"y\",\"y\",\"y\",\"y\",\"y\",\"y\",\"y\",\"y\",\"y\",\"y\",\"y\",\"y\",\"y\",\"y\",\"y\",\"y\",\"y\",\"y\",\"y\",\"y\",\"y\",\"y\",\"y\",\"y\",\"y\",\"y\",\"y\",\"y\",\"y\",\"y\",\"y\",\"y\",\"y\",\"y\",\"y\",\"y\",\"y\",\"y\",\"y\",\"y\",\"y\",\"y\",\"y\",\"y\",\"y\",\"y\",\"y\",\"y\",\"y\",\"y\",\"y\",\"y\",\"y\",\"y\",\"y\",\"y\",\"y\",\"y\",\"y\",\"y\",\"y\",\"y\",\"y\",\"y\",\"y\",\"y\",\"y\",\"y\",\"y\",\"y\",\"y\",\"y\",\"y\",\"y\",\"y\",\"y\",\"y\",\"y\",\"y\",\"y\",\"y\",\"y\",\"y\",\"y\",\"y\",\"y\",\"y\",\"y\",\"y\",\"y\",\"y\",\"y\",\"y\",\"y\",\"y\",\"y\",\"y\",\"y\",\"y\",\"y\",\"y\",\"y\",\"y\",\"y\",\"y\",\"y\",\"y\",\"y\",\"y\",\"y\",\"y\",\"y\",\"y\",\"y\",\"y\",\"y\",\"y\",\"y\",\"y\",\"y\",\"y\",\"y\",\"y\",\"y\",\"y\",\"y\",\"y\",\"y\",\"y\",\"y\",\"y\",\"y\",\"y\",\"y\",\"y\",\"y\",\"y\",\"y\",\"y\",\"y\",\"y\",\"y\",\"y\",\"y\",\"y\",\"y\",\"y\",\"y\",\"y\",\"y\",\"y\",\"y\",\"y\",\"y\",\"y\",\"y\",\"y\",\"y\",\"y\",\"y\",\"y\",\"y\",\"y\",\"y\",\"y\",\"y\",\"y\",\"y\",\"y\",\"y\",\"y\",\"y\",\"y\",\"y\",\"y\",\"y\",\"y\",\"y\",\"y\",\"y\",\"y\",\"y\",\"y\",\"y\",\"y\",\"y\",\"y\",\"y\",\"y\",\"y\",\"y\",\"y\",\"y\",\"y\",\"y\",\"y\",\"y\",\"y\",\"y\",\"y\",\"y\",\"y\",\"y\",\"y\",\"y\",\"y\",\"y\",\"y\",\"y\",\"y\",\"y\",\"y\",\"y\",\"y\",\"y\",\"y\",\"y\",\"y\",\"y\",\"y\",\"y\",\"y\",\"y\",\"y\",\"y\",\"y\",\"y\",\"y\",\"y\",\"y\",\"y\",\"y\",\"y\",\"y\",\"y\",\"y\",\"y\",\"y\",\"y\",\"y\",\"y\",\"y\",\"y\",\"y\",\"y\",\"y\",\"y\",\"y\",\"y\",\"y\",\"y\",\"y\",\"y\",\"y\",\"y\",\"y\",\"y\",\"y\",\"y\",\"y\",\"y\",\"y\",\"y\",\"y\",\"y\",\"y\",\"y\",\"y\",\"y\",\"y\",\"y\",\"y\",\"y\",\"y\",\"y\",\"y\",\"y\",\"y\",\"y\",\"y\",\"y\",\"y\",\"y\",\"y\",\"y\",\"y\",\"y\",\"y\",\"y\",\"y\",\"y\",\"y\",\"y\",\"y\",\"y\",\"y\",\"y\",\"y\",\"y\",\"y\",\"y\",\"y\",\"y\",\"y\",\"y\",\"y\",\"y\",\"y\",\"y\",\"y\",\"y\",\"y\",\"y\",\"y\",\"y\",\"y\",\"y\",\"y\",\"y\",\"y\",\"y\",\"y\",\"y\",\"y\",\"y\",\"y\",\"y\",\"y\",\"y\",\"y\",\"y\",\"y\",\"y\",\"y\",\"y\",\"y\",\"y\",\"y\",\"y\",\"y\",\"y\",\"y\",\"y\",\"y\",\"y\",\"y\",\"y\",\"y\",\"y\",\"y\",\"y\",\"y\",\"y\",\"y\",\"y\",\"y\",\"y\",\"y\",\"y\",\"y\",\"y\",\"y\",\"y\",\"y\",\"y\",\"y\",\"y\",\"y\",\"y\",\"y\",\"y\",\"y\",\"y\",\"y\",\"y\",\"y\",\"y\",\"y\",\"y\",\"y\",\"y\",\"y\",\"y\",\"y\",\"y\",\"y\",\"y\",\"y\",\"y\",\"y\",\"y\",\"y\",\"y\",\"y\",\"y\",\"y\",\"y\",\"y\",\"y\",\"y\",\"y\",\"y\",\"y\",\"y\",\"y\",\"y\",\"y\",\"y\",\"y\",\"y\",\"y\",\"y\",\"y\",\"y\",\"y\",\"y\",\"y\",\"y\",\"y\",\"y\",\"y\",\"y\",\"y\",\"y\",\"y\",\"y\",\"y\",\"y\",\"y\",\"y\",\"y\",\"y\",\"y\",\"y\",\"y\",\"y\",\"y\",\"y\",\"y\",\"y\",\"y\",\"y\",\"y\",\"y\",\"y\",\"y\",\"y\",\"y\",\"y\",\"y\",\"y\",\"y\",\"y\",\"y\",\"y\",\"y\",\"y\",\"y\",\"y\",\"y\",\"y\",\"y\",\"y\",\"y\",\"y\",\"y\",\"y\",\"y\",\"y\",\"y\",\"y\",\"y\",\"y\",\"y\",\"y\",\"y\",\"y\",\"y\",\"y\",\"y\",\"y\",\"y\",\"y\",\"y\",\"y\",\"y\",\"y\",\"y\",\"y\",\"y\",\"y\",\"y\",\"y\",\"y\",\"y\",\"y\",\"y\",\"y\",\"y\",\"y\",\"y\",\"y\",\"y\",\"y\",\"y\",\"y\",\"y\",\"y\",\"y\",\"y\",\"y\",\"y\",\"y\",\"y\",\"y\",\"y\",\"y\",\"y\",\"y\",\"y\",\"y\",\"y\",\"y\",\"y\",\"y\",\"y\",\"y\",\"y\",\"y\",\"y\",\"y\",\"y\",\"y\",\"y\",\"y\",\"y\",\"y\",\"y\",\"y\",\"y\",\"y\",\"y\",\"y\",\"y\",\"y\",\"y\",\"y\",\"y\",\"y\",\"y\",\"y\",\"y\",\"y\",\"y\",\"y\",\"y\",\"y\",\"y\",\"y\",\"y\",\"y\",\"y\",\"y\",\"y\",\"y\",\"y\",\"y\",\"y\",\"y\",\"y\",\"y\",\"y\",\"y\",\"y\",\"y\",\"y\",\"y\",\"y\",\"y\",\"y\",\"y\",\"y\",\"y\",\"y\",\"y\",\"y\",\"y\",\"y\",\"y\",\"y\",\"y\",\"y\",\"y\",\"y\",\"y\",\"y\",\"y\",\"y\",\"y\",\"y\",\"y\",\"y\",\"y\",\"y\",\"y\",\"y\",\"y\",\"y\",\"y\",\"y\",\"y\",\"y\",\"y\",\"y\",\"y\",\"y\",\"y\",\"y\",\"y\",\"y\",\"y\",\"y\",\"y\",\"y\",\"y\",\"y\",\"y\",\"y\",\"y\",\"y\",\"y\",\"y\",\"y\",\"y\",\"y\",\"y\",\"y\",\"y\",\"y\",\"y\",\"y\",\"y\",\"y\",\"y\",\"y\",\"y\",\"y\",\"y\",\"y\",\"y\",\"y\",\"y\",\"y\",\"y\",\"y\",\"y\",\"y\",\"y\",\"y\",\"y\",\"y\",\"y\",\"y\",\"y\",\"y\",\"y\",\"y\",\"y\",\"y\",\"y\",\"y\",\"y\",\"y\",\"y\",\"y\",\"y\",\"y\",\"y\",\"y\",\"y\",\"y\",\"y\",\"y\",\"y\",\"y\",\"y\",\"y\",\"y\",\"y\",\"y\",\"y\",\"y\",\"y\",\"y\",\"y\",\"y\",\"y\",\"y\",\"y\",\"y\",\"y\",\"y\",\"y\",\"y\",\"y\",\"y\",\"y\",\"y\",\"y\",\"y\",\"y\",\"y\",\"y\",\"y\",\"y\",\"y\",\"y\",\"y\",\"y\",\"y\",\"y\",\"y\",\"y\",\"y\",\"y\",\"y\",\"y\",\"y\",\"y\",\"y\",\"y\",\"y\",\"y\",\"y\",\"y\",\"y\",\"y\",\"y\",\"y\",\"y\",\"y\",\"y\",\"y\",\"y\",\"y\",\"y\",\"y\",\"y\",\"y\",\"y\",\"y\",\"y\",\"y\"],\"t\":{\"__ndarray__\":\"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\",\"dtype\":\"float64\",\"order\":\"little\",\"shape\":[2500]},\"value\":{\"__ndarray__\":\"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\",\"dtype\":\"float64\",\"order\":\"little\",\"shape\":[2500]}},\"selected\":{\"id\":\"1225\"},\"selection_policy\":{\"id\":\"1241\"}},\"id\":\"1224\",\"type\":\"ColumnDataSource\"},{\"attributes\":{\"angle\":{\"value\":0.0},\"fill_alpha\":{\"value\":1.0},\"fill_color\":{\"value\":\"#fc4f30\"},\"hatch_alpha\":{\"value\":1.0},\"hatch_color\":{\"value\":\"#fc4f30\"},\"hatch_scale\":{\"value\":12.0},\"hatch_weight\":{\"value\":1.0},\"line_alpha\":{\"value\":1.0},\"line_cap\":{\"value\":\"butt\"},\"line_color\":{\"value\":\"#fc4f30\"},\"line_dash\":{\"value\":[]},\"line_dash_offset\":{\"value\":0},\"line_join\":{\"value\":\"bevel\"},\"line_width\":{\"value\":1},\"marker\":{\"value\":\"circle\"},\"size\":{\"value\":5.477225575051661},\"x\":{\"field\":\"t\"},\"y\":{\"field\":\"value\"}},\"id\":\"1245\",\"type\":\"Scatter\"},{\"attributes\":{\"callback\":null,\"renderers\":[{\"id\":\"1209\"},{\"id\":\"1230\"}],\"tags\":[\"hv_created\"],\"tooltips\":[[\"Variable\",\"@{Variable}\"],[\"t\",\"@{t}\"],[\"value\",\"@{value}\"]]},\"id\":\"1165\",\"type\":\"HoverTool\"},{\"attributes\":{\"end\":8.8400001045,\"reset_end\":8.8400001045,\"reset_start\":-8.4400000095,\"start\":-8.4400000095,\"tags\":[[[\"value\",\"value\",null]]]},\"id\":\"1164\",\"type\":\"Range1d\"},{\"attributes\":{\"bottom_units\":\"screen\",\"coordinates\":null,\"fill_alpha\":0.5,\"fill_color\":\"lightgrey\",\"group\":null,\"left_units\":\"screen\",\"level\":\"overlay\",\"line_alpha\":1.0,\"line_color\":\"black\",\"line_dash\":[4,4],\"line_width\":2,\"right_units\":\"screen\",\"syncable\":false,\"top_units\":\"screen\"},\"id\":\"1189\",\"type\":\"BoxAnnotation\"},{\"attributes\":{},\"id\":\"1218\",\"type\":\"UnionRenderers\"},{\"attributes\":{\"end\":2.7121999535e-05,\"reset_end\":2.7121999535e-05,\"reset_start\":-2.7141999325e-05,\"start\":-2.7141999325e-05,\"tags\":[[[\"t\",\"t\",null]]]},\"id\":\"1163\",\"type\":\"Range1d\"},{\"attributes\":{\"fill_alpha\":{\"value\":0.2},\"fill_color\":{\"value\":\"#fc4f30\"},\"hatch_alpha\":{\"value\":0.2},\"hatch_color\":{\"value\":\"#fc4f30\"},\"line_alpha\":{\"value\":0.2},\"line_color\":{\"value\":\"#fc4f30\"},\"size\":{\"value\":5.477225575051661},\"x\":{\"field\":\"t\"},\"y\":{\"field\":\"value\"}},\"id\":\"1229\",\"type\":\"Scatter\"},{\"attributes\":{\"tools\":[{\"id\":\"1165\"},{\"id\":\"1184\"},{\"id\":\"1185\"},{\"id\":\"1186\"},{\"id\":\"1187\"},{\"id\":\"1188\"}]},\"id\":\"1190\",\"type\":\"Toolbar\"},{\"attributes\":{},\"id\":\"1225\",\"type\":\"Selection\"}],\"root_ids\":[\"1161\"]},\"title\":\"Bokeh Application\",\"version\":\"2.4.3\"}};\n",
       "    var render_items = [{\"docid\":\"eaa15bde-3da5-432b-b8c9-2d81fc96c67c\",\"root_ids\":[\"1161\"],\"roots\":{\"1161\":\"0ef9894a-c76a-49c4-ad47-87f6db46c197\"}}];\n",
       "    root.Bokeh.embed.embed_items_notebook(docs_json, render_items);\n",
       "    for (const render_item of render_items) {\n",
       "      for (const root_id of render_item.root_ids) {\n",
       "\tconst id_el = document.getElementById(root_id)\n",
       "\tif (id_el.children.length && (id_el.children[0].className === 'bk-root')) {\n",
       "\t  const root_el = id_el.children[0]\n",
       "\t  root_el.id = root_el.id + '-rendered'\n",
       "\t}\n",
       "      }\n",
       "    }\n",
       "  }\n",
       "  if (root.Bokeh !== undefined && root.Bokeh.Panel !== undefined) {\n",
       "    embed_document(root);\n",
       "  } else {\n",
       "    var attempts = 0;\n",
       "    var timer = setInterval(function(root) {\n",
       "      if (root.Bokeh !== undefined && root.Bokeh.Panel !== undefined) {\n",
       "        clearInterval(timer);\n",
       "        embed_document(root);\n",
       "      } else if (document.readyState == \"complete\") {\n",
       "        attempts++;\n",
       "        if (attempts > 200) {\n",
       "          clearInterval(timer);\n",
       "          console.log(\"Bokeh: ERROR: Unable to run BokehJS code because BokehJS library is missing\");\n",
       "        }\n",
       "      }\n",
       "    }, 25, root)\n",
       "  }\n",
       "})(window);</script>"
      ],
      "text/plain": [
       ":NdOverlay   [Variable]\n",
       "   :Scatter   [t]   (value)"
      ]
     },
     "execution_count": 25,
     "metadata": {
      "application/vnd.holoviews_exec.v0+json": {
       "id": "1161"
      }
     },
     "output_type": "execute_result"
    }
   ],
   "source": [
    "p = termo_dict['97']\n",
    "p.hvplot.scatter(x='t')\n"
   ]
  },
  {
   "cell_type": "code",
   "execution_count": 31,
   "metadata": {},
   "outputs": [
    {
     "data": {
      "text/plain": [
       "[<matplotlib.lines.Line2D at 0x1512e31f0>]"
      ]
     },
     "execution_count": 31,
     "metadata": {},
     "output_type": "execute_result"
    },
    {
     "data": {
      "image/png": "[encoded data removed]",
      "text/plain": [
       "<Figure size 640x480 with 1 Axes>"
      ]
     },
     "metadata": {},
     "output_type": "display_data"
    }
   ],
   "source": [
    "def find_zeros(x, y):\n",
    "    return x[y == 0]\n",
    "    \n",
    "\n",
    "\n",
    "plt.plot(find_zeros(p['t'], p['x']))\n",
    "plt.plot(find_zeros(p['t'], p['y']))\n"
   ]
  }
 ],
 "metadata": {
  "kernelspec": {
   "display_name": "Python 3.10.8 64-bit",
   "language": "python",
   "name": "python3"
  },
  "language_info": {
   "codemirror_mode": {
    "name": "ipython",
    "version": 3
   },
   "file_extension": ".py",
   "mimetype": "text/x-python",
   "name": "python",
   "nbconvert_exporter": "python",
   "pygments_lexer": "ipython3",
   "version": "3.10.8"
  },
  "orig_nbformat": 4,
  "vscode": {
   "interpreter": {
    "hash": "949777d72b0d2535278d3dc13498b2535136f6dfe0678499012e853ee9abcab1"
   }
  }
 },
 "nbformat": 4,
 "nbformat_minor": 2
}
